{
 "cells": [
  {
   "cell_type": "code",
   "execution_count": 5,
   "metadata": {},
   "outputs": [],
   "source": [
    "import pandas as pd\n",
    "import numpy as np"
   ]
  },
  {
   "cell_type": "code",
   "execution_count": 11,
   "metadata": {},
   "outputs": [
    {
     "name": "stdout",
     "output_type": "stream",
     "text": [
      "a    1.5\n",
      "b    2.7\n",
      "c    4.0\n",
      "d    9.0\n",
      "e    8.8\n",
      "dtype: float64\n",
      "Index(['a', 'b', 'c', 'd', 'e'], dtype='object')\n",
      "(5,)\n",
      "[1.5 2.7 4.  9.  8.8]\n",
      "4.0\n",
      "a    1.5\n",
      "c    4.0\n",
      "e    8.8\n",
      "dtype: float64\n"
     ]
    }
   ],
   "source": [
    "s = pd.Series([1.5, 2.7, 4, 9, 8.8], index=['a', 'b', 'c', 'd', 'e'])\n",
    "print(s)   \n",
    "print(s.index)   # RangeIndex(start=0, stop=5, step=1)\n",
    "print(s.shape)   # (5,)\n",
    "print(s.values)\n",
    "print(s[2])\n",
    "print(s[[0,2,4]])"
   ]
  },
  {
   "cell_type": "code",
   "execution_count": 12,
   "metadata": {},
   "outputs": [
    {
     "name": "stdout",
     "output_type": "stream",
     "text": [
      "True\n"
     ]
    }
   ],
   "source": [
    "print(s['a']==s[0])"
   ]
  },
  {
   "cell_type": "code",
   "execution_count": 17,
   "metadata": {},
   "outputs": [
    {
     "name": "stdout",
     "output_type": "stream",
     "text": [
      "北京    139399\n",
      "成都    110009\n",
      "上海    169987\n",
      "dtype: int64\n",
      "True\n",
      "北京    139399\n",
      "成都    110009\n",
      "dtype: int64\n"
     ]
    }
   ],
   "source": [
    "data = pd.Series({'北京':139399, '成都':110009, '上海':169987})\n",
    "print(data)\n",
    "print(data['成都']==data[1])\n",
    "print(data[-3:-1])"
   ]
  },
  {
   "cell_type": "code",
   "execution_count": 22,
   "metadata": {},
   "outputs": [
    {
     "name": "stdout",
     "output_type": "stream",
     "text": [
      "  city  m_salary\n",
      "0   北京    139399\n",
      "1   成都    110009\n",
      "2   上海    169987\n",
      "0    北京\n",
      "1    成都\n",
      "2    上海\n",
      "Name: city, dtype: object\n",
      "RangeIndex(start=0, stop=3, step=1)\n",
      "Index(['city', 'm_salary'], dtype='object')\n"
     ]
    }
   ],
   "source": [
    "city = data.index\n",
    "salary = data.values\n",
    "df = pd.DataFrame({'city': city, 'm_salary': salary})\n",
    "print(df)\n",
    "print(df['city'])\n",
    "print(df.index)\n",
    "print(df.columns)"
   ]
  },
  {
   "cell_type": "code",
   "execution_count": 26,
   "metadata": {},
   "outputs": [
    {
     "name": "stdout",
     "output_type": "stream",
     "text": [
      "Int64Index([2, 5, 9, 15, 25], dtype='int64')\n",
      "Int64Index([2, 5, 9, 15, 25], dtype='int64')\n",
      "Int64Index([2, 5, 9], dtype='int64')\n",
      "5 1 (5,) [ 2  5  9 15 25]\n"
     ]
    }
   ],
   "source": [
    "idx = pd.Index([2,5,9,15,25])\n",
    "print(idx)\n",
    "print(idx[:])\n",
    "print(idx[:3])\n",
    "print(idx.size, idx.ndim, idx.shape, idx.values)"
   ]
  },
  {
   "cell_type": "code",
   "execution_count": 29,
   "metadata": {},
   "outputs": [
    {
     "name": "stdout",
     "output_type": "stream",
     "text": [
      "Int64Index([6, 9, 2, 15], dtype='int64')\n",
      "Int64Index([1, 2, 3, 5, 6, 9, 10, 11, 15, 22], dtype='int64')\n",
      "Int64Index([1, 2, 0, 0, 1, 13, 7], dtype='int64')\n",
      "Int64Index([1, 3, 5, 10, 11, 22], dtype='int64')\n",
      "Int64Index([6, 9, 2, 15], dtype='int64')\n"
     ]
    }
   ],
   "source": [
    "idx1 = pd.Index([1,3,6,9,10,2,15])\n",
    "idx2 = pd.Index([2,5,6,9,11,15,22])\n",
    "print(idx1 & idx2)   # 交集\n",
    "print(idx1 | idx2)\n",
    "print(idx2 - idx1)\n",
    "print(idx2 ^ idx1)   # 抑或=A与B的并集减去A与B的交集\n",
    "print(idx1.intersection(idx2))    # 交集"
   ]
  },
  {
   "cell_type": "code",
   "execution_count": 35,
   "metadata": {},
   "outputs": [
    {
     "name": "stdout",
     "output_type": "stream",
     "text": [
      "['北京', '成都', '上海']\n",
      "[('北京', 139399), ('成都', 110009), ('上海', 169987)]\n",
      "[139399 110009 169987]\n"
     ]
    }
   ],
   "source": [
    "data = pd.Series({'北京':139399, '成都':110009, '上海':169987})\n",
    "print(list(data.keys()))\n",
    "print(list(data.items()))\n",
    "print(data.values)"
   ]
  },
  {
   "cell_type": "code",
   "execution_count": 60,
   "metadata": {},
   "outputs": [
    {
     "name": "stdout",
     "output_type": "stream",
     "text": [
      "  city  m_salary\n",
      "0   北京    139399\n",
      "1   成都    110009\n",
      "2   上海    169987\n",
      "3   深圳    189983\n",
      "4   广州    159987\n",
      "5   武汉    100991\n",
      "6   南京    105671\n",
      "----------------------------------------\n",
      "----------------------------------------\n",
      "['city', 'm_salary']\n",
      "----------------------------------------\n",
      "----------------------------------------\n",
      "[('city', 0    北京\n",
      "1    成都\n",
      "2    上海\n",
      "3    深圳\n",
      "4    广州\n",
      "5    武汉\n",
      "6    南京\n",
      "Name: city, dtype: object), ('m_salary', 0    139399\n",
      "1    110009\n",
      "2    169987\n",
      "3    189983\n",
      "4    159987\n",
      "5    100991\n",
      "6    105671\n",
      "Name: m_salary, dtype: int64)]\n",
      "----------------------------------------\n",
      "----------------------------------------\n",
      "[['北京' 139399]\n",
      " ['成都' 110009]\n",
      " ['上海' 169987]\n",
      " ['深圳' 189983]\n",
      " ['广州' 159987]\n",
      " ['武汉' 100991]\n",
      " ['南京' 105671]]\n",
      "----------------------------------------\n",
      "----------------------------------------\n",
      "  city  m_salary\n",
      "0   北京    139399\n",
      "1   成都    110009\n",
      "2   上海    169987\n",
      "3   深圳    189983\n",
      "4   广州    159987\n",
      "5   武汉     99889\n",
      "6   南京    105671\n"
     ]
    },
    {
     "name": "stderr",
     "output_type": "stream",
     "text": [
      "C:\\ProgramData\\Anaconda3\\lib\\site-packages\\pandas\\core\\indexing.py:189: SettingWithCopyWarning: \n",
      "A value is trying to be set on a copy of a slice from a DataFrame\n",
      "\n",
      "See the caveats in the documentation: http://pandas.pydata.org/pandas-docs/stable/indexing.html#indexing-view-versus-copy\n",
      "  self._setitem_with_indexer(indexer, value)\n"
     ]
    }
   ],
   "source": [
    "data = pd.Series({'北京':139399, '成都':110009, '上海':169987, '深圳': 189983, '广州': 159987, '武汉': 100991, '南京': 105671})\n",
    "city = data.index\n",
    "salary = data.values\n",
    "df = pd.DataFrame({'city': city, 'm_salary': salary})\n",
    "print(df)\n",
    "print('----------------------------------------')\n",
    "print('----------------------------------------')\n",
    "print(list(df.keys()))\n",
    "print('----------------------------------------')\n",
    "print('----------------------------------------')\n",
    "print(list(df.items()))\n",
    "print('----------------------------------------')\n",
    "print('----------------------------------------')\n",
    "print(df.values)\n",
    "print('----------------------------------------')\n",
    "print('----------------------------------------')\n",
    "df['m_salary'].loc[5]= 99889\n",
    "print(df)"
   ]
  },
  {
   "cell_type": "code",
   "execution_count": 48,
   "metadata": {},
   "outputs": [
    {
     "name": "stdout",
     "output_type": "stream",
     "text": [
      "True\n"
     ]
    }
   ],
   "source": [
    "print(df.city is df['city'])"
   ]
  },
  {
   "cell_type": "code",
   "execution_count": 62,
   "metadata": {},
   "outputs": [
    {
     "name": "stdout",
     "output_type": "stream",
     "text": [
      "  city  m_salary          平均月薪\n",
      "0   北京    139399  11616.583333\n",
      "1   成都    110009   9167.416667\n",
      "2   上海    169987  14165.583333\n",
      "3   深圳    189983  15831.916667\n",
      "4   广州    159987  13332.250000\n",
      "5   武汉     99889   8324.083333\n",
      "6   南京    105671   8805.916667\n"
     ]
    }
   ],
   "source": [
    "df['平均月薪'] = 1.0* df['m_salary']/12\n",
    "print(df)"
   ]
  },
  {
   "cell_type": "code",
   "execution_count": 63,
   "metadata": {},
   "outputs": [
    {
     "name": "stdout",
     "output_type": "stream",
     "text": [
      "[['北京' 139399 11616.583333333334]\n",
      " ['成都' 110009 9167.416666666666]\n",
      " ['上海' 169987 14165.583333333334]\n",
      " ['深圳' 189983 15831.916666666666]\n",
      " ['广州' 159987 13332.25]\n",
      " ['武汉' 99889 8324.083333333334]\n",
      " ['南京' 105671 8805.916666666666]]\n"
     ]
    }
   ],
   "source": [
    "print(df.values)"
   ]
  },
  {
   "cell_type": "code",
   "execution_count": 64,
   "metadata": {},
   "outputs": [
    {
     "name": "stdout",
     "output_type": "stream",
     "text": [
      "[['北京' '成都' '上海' '深圳' '广州' '武汉' '南京']\n",
      " [139399 110009 169987 189983 159987 99889 105671]\n",
      " [11616.583333333334 9167.416666666666 14165.583333333334\n",
      "  15831.916666666666 13332.25 8324.083333333334 8805.916666666666]]\n"
     ]
    }
   ],
   "source": [
    "print(df.T.values)"
   ]
  },
  {
   "cell_type": "code",
   "execution_count": 71,
   "metadata": {},
   "outputs": [
    {
     "name": "stdout",
     "output_type": "stream",
     "text": [
      "  city  m_salary          平均月薪\n",
      "0   北京    139399  11616.583333\n",
      "1   成都    110009   9167.416667\n",
      "2   上海    169987  14165.583333\n",
      "  city  m_salary\n",
      "0   北京    139399\n",
      "1   成都    110009\n",
      "2   上海    169987\n",
      "3   深圳    189983\n",
      "4   广州    159987\n",
      "5   武汉     99889\n",
      "6   南京    105671\n"
     ]
    }
   ],
   "source": [
    "print(df.iloc[:3, :])\n",
    "print(df.loc[:'武汉', 'city':'m_salary'])"
   ]
  },
  {
   "cell_type": "code",
   "execution_count": 74,
   "metadata": {},
   "outputs": [
    {
     "name": "stdout",
     "output_type": "stream",
     "text": [
      "   m_salary city         平均月薪\n",
      "5     99889   武汉  8324.083333\n"
     ]
    }
   ],
   "source": [
    "print(df.loc[df.m_salary<100000, ['m_salary', 'city', '平均月薪']])"
   ]
  },
  {
   "cell_type": "code",
   "execution_count": 77,
   "metadata": {},
   "outputs": [
    {
     "name": "stdout",
     "output_type": "stream",
     "text": [
      "121990\n"
     ]
    }
   ],
   "source": [
    "# 把成都的年薪改为121990\n",
    "df.iloc[1,1] = 121990\n",
    "print(df['m_salary'][1])"
   ]
  },
  {
   "cell_type": "code",
   "execution_count": 78,
   "metadata": {},
   "outputs": [
    {
     "name": "stdout",
     "output_type": "stream",
     "text": [
      "  city  m_salary           平均月薪\n",
      "1   成都    121990  121990.000000\n",
      "2   上海    169987   14165.583333\n",
      "3   深圳    189983   15831.916667\n",
      "4   广州    159987   13332.250000\n"
     ]
    }
   ],
   "source": [
    "print(df[1:5])"
   ]
  },
  {
   "cell_type": "code",
   "execution_count": 79,
   "metadata": {},
   "outputs": [
    {
     "name": "stdout",
     "output_type": "stream",
     "text": [
      "  city  m_salary           平均月薪\n",
      "0   北京    139399   11616.583333\n",
      "1   成都    121990  121990.000000\n",
      "2   上海    169987   14165.583333\n",
      "3   深圳    189983   15831.916667\n",
      "4   广州    159987   13332.250000\n"
     ]
    }
   ],
   "source": [
    "print(df[df.m_salary>120000])"
   ]
  },
  {
   "cell_type": "code",
   "execution_count": 85,
   "metadata": {},
   "outputs": [
    {
     "name": "stdout",
     "output_type": "stream",
     "text": [
      "0    4\n",
      "1    9\n",
      "2    8\n",
      "3    9\n",
      "4    8\n",
      "dtype: int32\n",
      "------------------------------\n",
      "   a  b  c  d\n",
      "0  6  6  2  0\n",
      "1  0  8  7  1\n",
      "2  9  5  2  3\n",
      "3  9  4  2  7\n",
      "------------------------------\n",
      "0      54.598150\n",
      "1    8103.083928\n",
      "2    2980.957987\n",
      "3    8103.083928\n",
      "4    2980.957987\n",
      "dtype: float64\n",
      "------------------------------\n",
      "          a         b         c         d\n",
      "0  0.212902  0.212902 -0.828085  1.000000\n",
      "1  1.000000 -0.724051 -0.871717  0.293185\n",
      "2  0.447155  0.996556 -0.828085 -0.778750\n",
      "3  0.447155  0.371449 -0.828085 -0.871717\n"
     ]
    }
   ],
   "source": [
    "ser = pd.Series(np.random.randint(0, 10, 5))\n",
    "df = pd.DataFrame(np.random.randint(0, 10, (4,4)), columns=['a', 'b', 'c', 'd'])\n",
    "print(ser)\n",
    "print('------------------------------')\n",
    "print(df)\n",
    "print('------------------------------')\n",
    "print(np.exp(ser))\n",
    "print('------------------------------')\n",
    "print(np.sin(df*4/np.pi+np.pi/2))"
   ]
  },
  {
   "cell_type": "code",
   "execution_count": 86,
   "metadata": {},
   "outputs": [
    {
     "name": "stdout",
     "output_type": "stream",
     "text": [
      "上海              NaN\n",
      "北京              NaN\n",
      "山东    120395.190083\n",
      "广东              NaN\n",
      "江苏    117007.410448\n",
      "浙江    113544.336364\n",
      "深圳              NaN\n",
      "dtype: float64\n"
     ]
    }
   ],
   "source": [
    "pop = pd.Series({'江苏': 134, '浙江': 110, '广东': 199, '山东': 121})\n",
    "gdp = pd.Series({'北京': 1559900, '浙江': 12489877, '上海': 1689090, '江苏': 15678993, '深圳': 2091356, '山东': 14567818})\n",
    "print(gdp/pop)"
   ]
  },
  {
   "cell_type": "code",
   "execution_count": 92,
   "metadata": {},
   "outputs": [
    {
     "name": "stdout",
     "output_type": "stream",
     "text": [
      "上海     1689090.0\n",
      "北京     1559900.0\n",
      "山东    14567939.0\n",
      "广东         199.0\n",
      "江苏    15679127.0\n",
      "浙江    12489987.0\n",
      "深圳     2091356.0\n",
      "dtype: float64\n"
     ]
    }
   ],
   "source": [
    "print(gdp.divide(pop, fill_value=0))"
   ]
  },
  {
   "cell_type": "code",
   "execution_count": 6,
   "metadata": {},
   "outputs": [
    {
     "name": "stdout",
     "output_type": "stream",
     "text": [
      "    A   B   C\n",
      "0  28  26  20\n",
      "1   7  28  58\n",
      "2  70  57  24\n",
      "------------------------------\n",
      "     B    D    E    A    C\n",
      "0  556   63  337  567   45\n",
      "1   72  226    7  111  422\n",
      "2  315  615  226  697  429\n",
      "3  881  208  276  206   69\n",
      "------------------------------\n",
      "       A      B      C   D   E\n",
      "0  595.0  582.0   65.0 NaN NaN\n",
      "1  118.0  100.0  480.0 NaN NaN\n",
      "2  767.0  372.0  453.0 NaN NaN\n",
      "3    NaN    NaN    NaN NaN NaN\n"
     ]
    }
   ],
   "source": [
    "a = pd.DataFrame(np.random.randint(0, 100, (3,3)), columns=list('ABC'))\n",
    "b = pd.DataFrame(np.random.randint(0, 1000, (4,5)), columns=list('BDEAC'))\n",
    "print(a)\n",
    "print('------------------------------')\n",
    "print(b)\n",
    "print('------------------------------')\n",
    "print(a + b)"
   ]
  },
  {
   "cell_type": "code",
   "execution_count": 7,
   "metadata": {},
   "outputs": [
    {
     "name": "stdout",
     "output_type": "stream",
     "text": [
      "35.333333333333336\n"
     ]
    }
   ],
   "source": [
    "fill = a.stack().mean()\n",
    "print(fill)"
   ]
  },
  {
   "cell_type": "code",
   "execution_count": 8,
   "metadata": {},
   "outputs": [
    {
     "name": "stdout",
     "output_type": "stream",
     "text": [
      "            A           B           C           D           E\n",
      "0  595.000000  582.000000   65.000000   98.333333  372.333333\n",
      "1  118.000000  100.000000  480.000000  261.333333   42.333333\n",
      "2  767.000000  372.000000  453.000000  650.333333  261.333333\n",
      "3  241.333333  916.333333  104.333333  243.333333  311.333333\n"
     ]
    }
   ],
   "source": [
    "print(a.add(b, fill_value=fill))"
   ]
  },
  {
   "cell_type": "code",
   "execution_count": 19,
   "metadata": {},
   "outputs": [
    {
     "name": "stdout",
     "output_type": "stream",
     "text": [
      "[[6 3 7 4]\n",
      " [6 9 2 6]\n",
      " [7 4 3 7]]\n",
      "[[ 0 -6  5 -2]\n",
      " [ 0  0  0  0]\n",
      " [ 1 -5  1  1]]\n"
     ]
    }
   ],
   "source": [
    "rng = np.random.RandomState(42)\n",
    "x = rng.randint(10, size=(3,4))\n",
    "print(x)\n",
    "print(x-x[1])"
   ]
  },
  {
   "cell_type": "code",
   "execution_count": 21,
   "metadata": {},
   "outputs": [
    {
     "name": "stdout",
     "output_type": "stream",
     "text": [
      "[1 None 3 4]\n",
      "object\n"
     ]
    }
   ],
   "source": [
    "# 处理缺失值：python对象类型的缺失值None\n",
    "v = np.array([1,None, 3,4])\n",
    "print(v)\n",
    "print(v.dtype)    # object"
   ]
  },
  {
   "cell_type": "code",
   "execution_count": 25,
   "metadata": {},
   "outputs": [
    {
     "name": "stdout",
     "output_type": "stream",
     "text": [
      "float64\n",
      "nan nan\n",
      "8.0 4.0 2.6666666666666665\n"
     ]
    },
    {
     "name": "stderr",
     "output_type": "stream",
     "text": [
      "C:\\Users\\清水木华\\AppData\\Roaming\\Python\\Python36\\site-packages\\numpy\\core\\_methods.py:28: RuntimeWarning: invalid value encountered in reduce\n",
      "  return umr_maximum(a, axis, None, out, keepdims, initial)\n"
     ]
    }
   ],
   "source": [
    "vv = np.array([1, np.nan, 3, 4])\n",
    "print(vv.dtype)   #  float64\n",
    "print(vv.sum(), vv.max())\n",
    "print(np.nansum(vv), np.nanmax(vv), np.nanmean(vv))"
   ]
  },
  {
   "cell_type": "code",
   "execution_count": 28,
   "metadata": {},
   "outputs": [
    {
     "name": "stdout",
     "output_type": "stream",
     "text": [
      "0        1\n",
      "1     None\n",
      "2        2\n",
      "3        3\n",
      "4      NaN\n",
      "5    hello\n",
      "dtype: object\n"
     ]
    }
   ],
   "source": [
    "data = pd.Series([1, None, 2, 3, np.nan, 'hello'])\n",
    "print(data)"
   ]
  },
  {
   "cell_type": "code",
   "execution_count": 34,
   "metadata": {},
   "outputs": [
    {
     "name": "stdout",
     "output_type": "stream",
     "text": [
      "0    False\n",
      "1     True\n",
      "2    False\n",
      "3    False\n",
      "4     True\n",
      "5    False\n",
      "dtype: bool\n",
      "0     True\n",
      "1    False\n",
      "2     True\n",
      "3     True\n",
      "4    False\n",
      "5     True\n",
      "dtype: bool\n",
      "0        1\n",
      "2        2\n",
      "3        3\n",
      "5    hello\n",
      "dtype: object\n",
      "1    None\n",
      "4     NaN\n",
      "dtype: object\n",
      "0        1\n",
      "2        2\n",
      "3        3\n",
      "5    hello\n",
      "dtype: object\n",
      "0        1\n",
      "1        0\n",
      "2        2\n",
      "3        3\n",
      "4        0\n",
      "5    hello\n",
      "dtype: object\n"
     ]
    }
   ],
   "source": [
    "print(data.isnull())\n",
    "print(data.notnull())\n",
    "print(data[data.notnull()])\n",
    "print(data[data.isnull()])\n",
    "print(data.dropna())\n",
    "print(data.fillna(0))"
   ]
  },
  {
   "cell_type": "code",
   "execution_count": 40,
   "metadata": {},
   "outputs": [
    {
     "name": "stdout",
     "output_type": "stream",
     "text": [
      "     A       C     f\n",
      "0  1.0    2.00   NaN\n",
      "1  3.0    0.25   2.5\n",
      "2  NaN  100.00 -15.0\n",
      "     A     C    f\n",
      "1  3.0  0.25  2.5\n",
      "     A     C    f\n",
      "1  3.0  0.25  2.5\n",
      "        C\n",
      "0    2.00\n",
      "1    0.25\n",
      "2  100.00\n",
      "     A       C     f\n",
      "0  1.0    2.00   NaN\n",
      "1  3.0    0.25   2.5\n",
      "2  NaN  100.00 -15.0\n"
     ]
    }
   ],
   "source": [
    "d = pd.DataFrame([[1,2,np.nan],\n",
    "                 [3,0.25,2.5],\n",
    "                 [np.nan, 100, -15]], columns=list('ACf'))\n",
    "print(d)\n",
    "print(d.dropna())\n",
    "print(d.dropna(axis=0))\n",
    "print(d.dropna(axis=1))\n",
    "print(d.dropna(axis=0, how='all'))"
   ]
  },
  {
   "cell_type": "code",
   "execution_count": 48,
   "metadata": {},
   "outputs": [
    {
     "name": "stdout",
     "output_type": "stream",
     "text": [
      "     A       C     f\n",
      "0  1.0    2.00   2.0\n",
      "1  3.0    0.25   2.5\n",
      "2  NaN  100.00 -15.0\n",
      "       A       C     f\n",
      "0    1.0    2.00   NaN\n",
      "1    3.0    0.25   2.5\n",
      "2  100.0  100.00 -15.0\n"
     ]
    }
   ],
   "source": [
    "print(d.fillna(method='ffill',axis=1))\n",
    "print(d.fillna(method='bfill', axis=1))"
   ]
  },
  {
   "cell_type": "code",
   "execution_count": 68,
   "metadata": {},
   "outputs": [
    {
     "name": "stdout",
     "output_type": "stream",
     "text": [
      "MultiIndex(levels=[['成都', '昆明', '重庆'], [2018, 2019]],\n",
      "           labels=[[0, 0, 2, 2, 1, 1], [0, 1, 0, 1, 0, 1]])\n",
      "成都  2018     798\n",
      "    2019     819\n",
      "重庆  2018    3021\n",
      "    2019    3310\n",
      "昆明  2018     665\n",
      "    2019     646\n",
      "dtype: int64\n",
      "成都     819\n",
      "重庆    3310\n",
      "昆明     646\n",
      "dtype: int64\n"
     ]
    }
   ],
   "source": [
    "# 多级索引\n",
    "index = [('成都', 2018), ('成都', 2019), ('重庆', 2018), ('重庆', 2019), ('昆明', 2018), ('昆明', 2019)]\n",
    "value = [798, 819, 3021, 3310, 665, 646]\n",
    "idx = pd.MultiIndex.from_tuples(index)\n",
    "print(idx)\n",
    "pop = pd.Series(value, index=idx)\n",
    "print(pop)\n",
    "print(pop[:, 2019])"
   ]
  },
  {
   "cell_type": "code",
   "execution_count": 73,
   "metadata": {},
   "outputs": [
    {
     "name": "stdout",
     "output_type": "stream",
     "text": [
      "    2018  2019\n",
      "成都   798   819\n",
      "昆明   665   646\n",
      "重庆  3021  3310\n"
     ]
    }
   ],
   "source": [
    "pop_df = pop.unstack()\n",
    "print(pop_df)"
   ]
  },
  {
   "cell_type": "code",
   "execution_count": 77,
   "metadata": {},
   "outputs": [
    {
     "name": "stdout",
     "output_type": "stream",
     "text": [
      "     总人口       18岁以上人口      \n",
      "    2018  2019    2018  2019\n",
      "成都   798   819     534   533\n",
      "昆明   665   646     455   467\n",
      "重庆  3021  3310    2490  2488\n",
      "     总人口       18岁以上人口              占比          \n",
      "    2018  2019    2018  2019      2018      2019\n",
      "成都   798   819     534   533  0.669173  0.650794\n",
      "昆明   665   646     455   467  0.684211  0.722910\n",
      "重庆  3021  3310    2490  2488  0.824230  0.751662\n"
     ]
    }
   ],
   "source": [
    "pop_df = pd.DataFrame({'总人口': pop, \n",
    "                       '18岁以上人口': [534, 533, 2490, 2488, 455, 467]})\n",
    "print(pop_df.unstack())\n",
    "pop_df['占比'] = pop_df['18岁以上人口'] / pop_df['总人口']\n",
    "print(pop_df.unstack())"
   ]
  },
  {
   "cell_type": "code",
   "execution_count": 92,
   "metadata": {},
   "outputs": [
    {
     "name": "stdout",
     "output_type": "stream",
     "text": [
      "           data1  data2  data3\n",
      "year data                     \n",
      "a    1        16     86      9\n",
      "     2        53      8     50\n",
      "b    1         8     64     86\n",
      "     2        55     52      2\n",
      "c    1        47      1     53\n",
      "     2        81     99     98\n"
     ]
    }
   ],
   "source": [
    "# 创建多级索引\n",
    "df = pd.DataFrame(np.random.randint(100, size=(6,3)), \n",
    "                  index=[['a', 'a', 'b', 'b', 'c', 'c'], [1, 2, 1, 2, 1, 2]], \n",
    "                 columns=['data1', 'data2', 'data3'])\n",
    "df.index.names = ['year', 'data']\n",
    "print(df)"
   ]
  },
  {
   "cell_type": "code",
   "execution_count": 2,
   "metadata": {},
   "outputs": [
    {
     "ename": "NameError",
     "evalue": "name 'pd' is not defined",
     "output_type": "error",
     "traceback": [
      "\u001b[1;31m---------------------------------------------------------------------------\u001b[0m",
      "\u001b[1;31mNameError\u001b[0m                                 Traceback (most recent call last)",
      "\u001b[1;32m<ipython-input-2-93e15675e276>\u001b[0m in \u001b[0;36m<module>\u001b[1;34m()\u001b[0m\n\u001b[0;32m      1\u001b[0m \u001b[1;31m# 创建多级行索引和多级列索引\u001b[0m\u001b[1;33m\u001b[0m\u001b[1;33m\u001b[0m\u001b[0m\n\u001b[1;32m----> 2\u001b[1;33m \u001b[0mindex\u001b[0m \u001b[1;33m=\u001b[0m \u001b[0mpd\u001b[0m\u001b[1;33m.\u001b[0m\u001b[0mMultiIndex\u001b[0m\u001b[1;33m.\u001b[0m\u001b[0mfrom_product\u001b[0m\u001b[1;33m(\u001b[0m\u001b[1;33m[\u001b[0m\u001b[1;33m[\u001b[0m\u001b[1;36m2018\u001b[0m\u001b[1;33m,\u001b[0m \u001b[1;36m2019\u001b[0m\u001b[1;33m]\u001b[0m\u001b[1;33m,\u001b[0m \u001b[1;33m[\u001b[0m\u001b[1;36m1\u001b[0m\u001b[1;33m,\u001b[0m\u001b[1;36m2\u001b[0m\u001b[1;33m]\u001b[0m\u001b[1;33m]\u001b[0m\u001b[1;33m,\u001b[0m \u001b[0mnames\u001b[0m\u001b[1;33m=\u001b[0m\u001b[1;33m[\u001b[0m\u001b[1;34m'year'\u001b[0m\u001b[1;33m,\u001b[0m \u001b[1;34m'visit'\u001b[0m\u001b[1;33m]\u001b[0m\u001b[1;33m)\u001b[0m\u001b[1;33m\u001b[0m\u001b[0m\n\u001b[0m\u001b[0;32m      3\u001b[0m \u001b[0mcolumns\u001b[0m \u001b[1;33m=\u001b[0m \u001b[0mpd\u001b[0m\u001b[1;33m.\u001b[0m\u001b[0mMultiIndex\u001b[0m\u001b[1;33m.\u001b[0m\u001b[0mfrom_product\u001b[0m\u001b[1;33m(\u001b[0m\u001b[1;33m[\u001b[0m\u001b[1;33m[\u001b[0m\u001b[1;34m'张三'\u001b[0m\u001b[1;33m,\u001b[0m \u001b[1;34m'李四'\u001b[0m\u001b[1;33m,\u001b[0m \u001b[1;34m'王五'\u001b[0m\u001b[1;33m]\u001b[0m\u001b[1;33m,\u001b[0m \u001b[1;33m[\u001b[0m\u001b[1;34m'HR'\u001b[0m\u001b[1;33m,\u001b[0m \u001b[1;34m'TEMP'\u001b[0m\u001b[1;33m]\u001b[0m\u001b[1;33m]\u001b[0m\u001b[1;33m,\u001b[0m \u001b[0mnames\u001b[0m\u001b[1;33m=\u001b[0m\u001b[1;33m[\u001b[0m\u001b[1;34m'subject'\u001b[0m\u001b[1;33m,\u001b[0m \u001b[1;34m'type'\u001b[0m\u001b[1;33m]\u001b[0m\u001b[1;33m)\u001b[0m\u001b[1;33m\u001b[0m\u001b[0m\n\u001b[0;32m      4\u001b[0m \u001b[0mdata\u001b[0m \u001b[1;33m=\u001b[0m \u001b[0mnp\u001b[0m\u001b[1;33m.\u001b[0m\u001b[0mabs\u001b[0m\u001b[1;33m(\u001b[0m\u001b[0mnp\u001b[0m\u001b[1;33m.\u001b[0m\u001b[0mround\u001b[0m\u001b[1;33m(\u001b[0m\u001b[0mnp\u001b[0m\u001b[1;33m.\u001b[0m\u001b[0mrandom\u001b[0m\u001b[1;33m.\u001b[0m\u001b[0mrandn\u001b[0m\u001b[1;33m(\u001b[0m\u001b[1;36m4\u001b[0m\u001b[1;33m,\u001b[0m \u001b[1;36m6\u001b[0m\u001b[1;33m)\u001b[0m\u001b[1;33m*\u001b[0m\u001b[1;36m10\u001b[0m\u001b[1;33m,\u001b[0m \u001b[1;36m2\u001b[0m\u001b[1;33m)\u001b[0m\u001b[1;33m)\u001b[0m\u001b[1;33m\u001b[0m\u001b[0m\n\u001b[0;32m      5\u001b[0m \u001b[0mheal_data\u001b[0m \u001b[1;33m=\u001b[0m \u001b[0mpd\u001b[0m\u001b[1;33m.\u001b[0m\u001b[0mDataFrame\u001b[0m\u001b[1;33m(\u001b[0m\u001b[0mdata\u001b[0m\u001b[1;33m,\u001b[0m \u001b[0mindex\u001b[0m\u001b[1;33m=\u001b[0m\u001b[0mindex\u001b[0m\u001b[1;33m,\u001b[0m \u001b[0mcolumns\u001b[0m\u001b[1;33m=\u001b[0m\u001b[0mcolumns\u001b[0m\u001b[1;33m)\u001b[0m\u001b[1;33m\u001b[0m\u001b[0m\n",
      "\u001b[1;31mNameError\u001b[0m: name 'pd' is not defined"
     ]
    }
   ],
   "source": [
    "# 创建多级行索引和多级列索引\n",
    "index = pd.MultiIndex.from_product([[2018, 2019], [1,2]], names=['year', 'visit'])\n",
    "columns = pd.MultiIndex.from_product([['张三', '李四', '王五'], ['HR', 'TEMP']], names=['subject', 'type'])\n",
    "data = np.abs(np.round(np.random.randn(4, 6)*10, 2))\n",
    "heal_data = pd.DataFrame(data, index=index, columns=columns)\n",
    "print(heal_data)\n",
    "print(heal_data['王五'])\n",
    "print(heal_data['王五','HR'])\n",
    "print(heal_data.iloc[:,0:1])"
   ]
  },
  {
   "cell_type": "code",
   "execution_count": null,
   "metadata": {},
   "outputs": [],
   "source": []
  },
  {
   "cell_type": "code",
   "execution_count": null,
   "metadata": {},
   "outputs": [],
   "source": []
  }
 ],
 "metadata": {
  "kernelspec": {
   "display_name": "Python 3",
   "language": "python",
   "name": "python3"
  },
  "language_info": {
   "codemirror_mode": {
    "name": "ipython",
    "version": 3
   },
   "file_extension": ".py",
   "mimetype": "text/x-python",
   "name": "python",
   "nbconvert_exporter": "python",
   "pygments_lexer": "ipython3",
   "version": "3.6.5"
  }
 },
 "nbformat": 4,
 "nbformat_minor": 2
}
