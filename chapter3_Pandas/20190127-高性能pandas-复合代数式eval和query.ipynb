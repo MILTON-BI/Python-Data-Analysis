{
 "cells": [
  {
   "cell_type": "code",
   "execution_count": 2,
   "metadata": {},
   "outputs": [],
   "source": [
    "%matplotlib inline\n",
    "import pandas as pd\n",
    "import numpy as np\n",
    "import matplotlib.pyplot as plt"
   ]
  },
  {
   "cell_type": "code",
   "execution_count": 10,
   "metadata": {},
   "outputs": [
    {
     "ename": "TypeError",
     "evalue": "'float' object cannot be interpreted as an integer",
     "output_type": "error",
     "traceback": [
      "\u001b[1;31m---------------------------------------------------------------------------\u001b[0m",
      "\u001b[1;31mTypeError\u001b[0m                                 Traceback (most recent call last)",
      "\u001b[1;32m<ipython-input-10-97f9cc4f8467>\u001b[0m in \u001b[0;36m<module>\u001b[1;34m()\u001b[0m\n\u001b[0;32m      1\u001b[0m \u001b[0mrng\u001b[0m \u001b[1;33m=\u001b[0m \u001b[0mnp\u001b[0m\u001b[1;33m.\u001b[0m\u001b[0mrandom\u001b[0m\u001b[1;33m.\u001b[0m\u001b[0mRandomState\u001b[0m\u001b[1;33m(\u001b[0m\u001b[1;36m42\u001b[0m\u001b[1;33m)\u001b[0m\u001b[1;33m\u001b[0m\u001b[0m\n\u001b[1;32m----> 2\u001b[1;33m \u001b[0mx\u001b[0m \u001b[1;33m=\u001b[0m \u001b[0mrng\u001b[0m\u001b[1;33m.\u001b[0m\u001b[0mrand\u001b[0m\u001b[1;33m(\u001b[0m\u001b[1;36m1E6\u001b[0m\u001b[1;33m)\u001b[0m\u001b[1;33m\u001b[0m\u001b[0m\n\u001b[0m\u001b[0;32m      3\u001b[0m \u001b[0my\u001b[0m \u001b[1;33m=\u001b[0m \u001b[0mrng\u001b[0m\u001b[1;33m.\u001b[0m\u001b[0mrand\u001b[0m\u001b[1;33m(\u001b[0m\u001b[1;36m1E6\u001b[0m\u001b[1;33m)\u001b[0m\u001b[1;33m\u001b[0m\u001b[0m\n\u001b[0;32m      4\u001b[0m \u001b[0mget_ipython\u001b[0m\u001b[1;33m(\u001b[0m\u001b[1;33m)\u001b[0m\u001b[1;33m.\u001b[0m\u001b[0mrun_line_magic\u001b[0m\u001b[1;33m(\u001b[0m\u001b[1;34m'timeit'\u001b[0m\u001b[1;33m,\u001b[0m \u001b[1;34m'x + y'\u001b[0m\u001b[1;33m)\u001b[0m\u001b[1;33m\u001b[0m\u001b[0m\n",
      "\u001b[1;32mmtrand.pyx\u001b[0m in \u001b[0;36mmtrand.RandomState.rand\u001b[1;34m()\u001b[0m\n",
      "\u001b[1;32mmtrand.pyx\u001b[0m in \u001b[0;36mmtrand.RandomState.random_sample\u001b[1;34m()\u001b[0m\n",
      "\u001b[1;32mmtrand.pyx\u001b[0m in \u001b[0;36mmtrand.cont0_array\u001b[1;34m()\u001b[0m\n",
      "\u001b[1;31mTypeError\u001b[0m: 'float' object cannot be interpreted as an integer"
     ]
    }
   ],
   "source": [
    "rng = np.random.RandomState(42)\n",
    "x = rng.rand(1E6)\n",
    "y = rng.rand(1E6)\n",
    "%timeit x + y"
   ]
  },
  {
   "cell_type": "code",
   "execution_count": 11,
   "metadata": {},
   "outputs": [
    {
     "name": "stdout",
     "output_type": "stream",
     "text": [
      "131 ms ± 16.5 ms per loop (mean ± std. dev. of 7 runs, 1 loop each)\n"
     ]
    }
   ],
   "source": [
    "nrows, ncols = 100000, 100\n",
    "df1, df2, df3, df4 = (pd.DataFrame(rng.rand(nrows, ncols)) for i in range(4))\n",
    "%timeit df1 + df2 + df3 + df4"
   ]
  },
  {
   "cell_type": "code",
   "execution_count": 12,
   "metadata": {},
   "outputs": [
    {
     "name": "stdout",
     "output_type": "stream",
     "text": [
      "56.2 ms ± 1.3 ms per loop (mean ± std. dev. of 7 runs, 10 loops each)\n"
     ]
    }
   ],
   "source": [
    "%timeit pd.eval('df1 + df2 + df3 + df4')"
   ]
  },
  {
   "cell_type": "code",
   "execution_count": 13,
   "metadata": {},
   "outputs": [
    {
     "data": {
      "text/plain": [
       "True"
      ]
     },
     "execution_count": 13,
     "metadata": {},
     "output_type": "execute_result"
    }
   ],
   "source": [
    "np.allclose(df1 + df2 + df3 + df4, pd.eval('df1 + df2 + df3 + df4'))"
   ]
  },
  {
   "cell_type": "code",
   "execution_count": 16,
   "metadata": {},
   "outputs": [],
   "source": [
    "df1, df2, df3, df4, df5 = (pd.DataFrame(rng.randint(0, 1000, (100, 3))) for i in range(5))"
   ]
  },
  {
   "cell_type": "code",
   "execution_count": 22,
   "metadata": {},
   "outputs": [
    {
     "name": "stdout",
     "output_type": "stream",
     "text": [
      "42.2 ns ± 1.57 ns per loop (mean ± std. dev. of 7 runs, 10000000 loops each)\n",
      "31.5 ns ± 1.5 ns per loop (mean ± std. dev. of 7 runs, 10000000 loops each)\n",
      "              0            1            2\n",
      "0    -24.118644 -1323.546689  -324.347167\n",
      "1   -659.535438  -872.309261 -1110.644407\n",
      "2   -233.046008  -408.187447  -824.710879\n",
      "3   -637.978373 -1450.313752 -1309.606516\n",
      "4   -638.565445  -333.952637  -791.909091\n",
      "5   -747.292135  -671.195402  -980.720648\n",
      "6   -312.196097  -947.538462 -1272.208609\n",
      "7   -480.465201  -561.924448  -488.711297\n",
      "8  -1968.048387  -385.236449 -1077.548980\n",
      "9  -1418.544335  -217.005175  -966.527665\n",
      "10  -758.962343  -704.532436  -554.377320\n",
      "11  -889.152104  -497.076763  -137.458509\n",
      "12  -184.338235  -708.557423  -564.227605\n",
      "13  -805.303541 -1414.174825 -1039.826446\n",
      "14 -1185.488203 -1082.085147   -74.257143\n",
      "15  -651.826325   -75.979006 -1094.672269\n",
      "16 -1389.770323 -1050.501490  -673.396429\n",
      "17  -439.790499 -1082.986779  -634.816118\n",
      "18  -855.533762  -878.400000  -977.978495\n",
      "19  -839.742919 -1130.489672 -1377.075508\n",
      "20 -1365.179104  -681.575945  -872.101818\n",
      "21 -1137.140056  -969.998180  -896.061836\n",
      "22  -777.666998  -207.726508  -328.091421\n",
      "23 -1256.640919  -460.713076  -578.585117\n",
      "24  -860.866029 -1383.805147  -990.525828\n",
      "25 -1377.627389 -1138.536604  -863.711558\n",
      "26   -93.429288  -858.826631 -1387.915636\n",
      "27  -482.613445 -2028.689655  -982.855814\n",
      "28  -683.853377  -762.503268  -693.551783\n",
      "29 -2302.078571  -110.728470   -94.371429\n",
      "..          ...          ...          ...\n",
      "70   -55.020645  -436.533053  -152.917526\n",
      "71  -101.362069  -320.742188  -968.516456\n",
      "72  -308.841121  -700.247672  -332.359413\n",
      "73  -727.512786  -601.719317  -297.093023\n",
      "74 -1098.780928 -1378.376238 -1883.703629\n",
      "75  -833.292709 -1133.181818 -1028.278689\n",
      "76  -398.483660  -720.749481  -627.098992\n",
      "77  -769.753086  -888.897541 -1444.250000\n",
      "78   -93.975610  -576.713163  -166.068066\n",
      "79  -708.280641 -1143.908772 -1198.901460\n",
      "80  -353.958333  -817.301775  -915.744728\n",
      "81  -718.382450  -230.370546  -263.721557\n",
      "82  -958.858502  -119.989540  -796.209424\n",
      "83  -526.718750  -850.046647  -303.333333\n",
      "84  -567.826531  -750.011299 -1242.544601\n",
      "85  -531.374297  -667.270142 -1200.834951\n",
      "86  -893.238095  -982.144086  -305.994778\n",
      "87  -781.534214  -747.438991  -696.175723\n",
      "88 -1038.115589 -1019.862069  -372.134328\n",
      "89  -389.633040 -1024.025216 -1287.127290\n",
      "90 -1098.720930  -474.454855 -2113.151803\n",
      "91  -838.176471  -109.285096 -1445.788551\n",
      "92 -1115.320796  -995.501288 -1040.285054\n",
      "93  -601.515188 -1427.331707  -286.110313\n",
      "94  -510.333333  -952.699422  -601.029240\n",
      "95  -902.588936 -1346.482010 -1686.802721\n",
      "96 -1062.864322 -1033.819089 -1061.884722\n",
      "97  -881.189655  -352.372400  -291.426610\n",
      "98  -810.811784  -670.511236  -323.263482\n",
      "99  -743.826087  -546.232338  -402.409639\n",
      "\n",
      "[100 rows x 3 columns]\n"
     ]
    }
   ],
   "source": [
    "result1 = -df1 * df2 / (df3 + df4) - df5\n",
    "result2 = pd.eval('-df1 * df2 / (df3 + df4) - df5')\n",
    "%timeit result1\n",
    "%timeit result2\n",
    "np.allclose(result1, result2)\n",
    "print(result1)"
   ]
  },
  {
   "cell_type": "code",
   "execution_count": 19,
   "metadata": {},
   "outputs": [
    {
     "name": "stdout",
     "output_type": "stream",
     "text": [
      "34.3 ns ± 1.21 ns per loop (mean ± std. dev. of 7 runs, 10000000 loops each)\n",
      "31 ns ± 0.602 ns per loop (mean ± std. dev. of 7 runs, 10000000 loops each)\n"
     ]
    },
    {
     "data": {
      "text/plain": [
       "True"
      ]
     },
     "execution_count": 19,
     "metadata": {},
     "output_type": "execute_result"
    }
   ],
   "source": [
    "result3 = (df1 < df2) & (df2 <= df3) & (df3 != df4)\n",
    "result4 = pd.eval('df1 < df2 <= df3 != df4')\n",
    "%timeit result3\n",
    "%timeit result4\n",
    "np.allclose(result3, result4)"
   ]
  },
  {
   "cell_type": "code",
   "execution_count": 21,
   "metadata": {},
   "outputs": [
    {
     "name": "stdout",
     "output_type": "stream",
     "text": [
      "40.7 ns ± 9.6 ns per loop (mean ± std. dev. of 7 runs, 10000000 loops each)\n",
      "33.8 ns ± 1.28 ns per loop (mean ± std. dev. of 7 runs, 10000000 loops each)\n"
     ]
    },
    {
     "data": {
      "text/plain": [
       "True"
      ]
     },
     "execution_count": 21,
     "metadata": {},
     "output_type": "execute_result"
    }
   ],
   "source": [
    "result5 = (df1 < 0.5) & (df2 < 0.5) | (df3 < df4)\n",
    "result6 = pd.eval('(df1 < 0.5) & (df2 < 0.5) | (df3 < df4)')\n",
    "%timeit result5\n",
    "%timeit result6\n",
    "np.allclose(result5, result6)"
   ]
  },
  {
   "cell_type": "code",
   "execution_count": 23,
   "metadata": {},
   "outputs": [
    {
     "name": "stdout",
     "output_type": "stream",
     "text": [
      "32.2 ns ± 1.18 ns per loop (mean ± std. dev. of 7 runs, 10000000 loops each)\n",
      "36.4 ns ± 1.01 ns per loop (mean ± std. dev. of 7 runs, 10000000 loops each)\n",
      "0     729\n",
      "1     937\n",
      "2    1243\n",
      "dtype: int32\n"
     ]
    }
   ],
   "source": [
    "result7 = df2.T[0] + df3.iloc[1]\n",
    "result8 = pd.eval('df2.T[0] + df3.iloc[1]')\n",
    "%timeit result7\n",
    "%timeit result8\n",
    "np.allclose(result7, result8)\n",
    "print(result8)"
   ]
  },
  {
   "cell_type": "code",
   "execution_count": 30,
   "metadata": {},
   "outputs": [
    {
     "data": {
      "text/html": [
       "<div>\n",
       "<style scoped>\n",
       "    .dataframe tbody tr th:only-of-type {\n",
       "        vertical-align: middle;\n",
       "    }\n",
       "\n",
       "    .dataframe tbody tr th {\n",
       "        vertical-align: top;\n",
       "    }\n",
       "\n",
       "    .dataframe thead th {\n",
       "        text-align: right;\n",
       "    }\n",
       "</style>\n",
       "<table border=\"1\" class=\"dataframe\">\n",
       "  <thead>\n",
       "    <tr style=\"text-align: right;\">\n",
       "      <th></th>\n",
       "      <th>A</th>\n",
       "      <th>B</th>\n",
       "      <th>C</th>\n",
       "    </tr>\n",
       "  </thead>\n",
       "  <tbody>\n",
       "    <tr>\n",
       "      <th>0</th>\n",
       "      <td>0.581354</td>\n",
       "      <td>0.090852</td>\n",
       "      <td>0.638416</td>\n",
       "    </tr>\n",
       "    <tr>\n",
       "      <th>1</th>\n",
       "      <td>0.338664</td>\n",
       "      <td>0.215174</td>\n",
       "      <td>0.502761</td>\n",
       "    </tr>\n",
       "    <tr>\n",
       "      <th>2</th>\n",
       "      <td>0.963526</td>\n",
       "      <td>0.385638</td>\n",
       "      <td>0.000881</td>\n",
       "    </tr>\n",
       "    <tr>\n",
       "      <th>3</th>\n",
       "      <td>0.674821</td>\n",
       "      <td>0.715988</td>\n",
       "      <td>0.746546</td>\n",
       "    </tr>\n",
       "    <tr>\n",
       "      <th>4</th>\n",
       "      <td>0.560630</td>\n",
       "      <td>0.146158</td>\n",
       "      <td>0.130992</td>\n",
       "    </tr>\n",
       "  </tbody>\n",
       "</table>\n",
       "</div>"
      ],
      "text/plain": [
       "          A         B         C\n",
       "0  0.581354  0.090852  0.638416\n",
       "1  0.338664  0.215174  0.502761\n",
       "2  0.963526  0.385638  0.000881\n",
       "3  0.674821  0.715988  0.746546\n",
       "4  0.560630  0.146158  0.130992"
      ]
     },
     "execution_count": 30,
     "metadata": {},
     "output_type": "execute_result"
    }
   ],
   "source": [
    "df = pd.DataFrame(rng.rand(1000, 3), columns=['A','B','C'])\n",
    "df.head()\n",
    "# print(pd.eval(\"(df.A + df.B)/(df.C-1)\"))"
   ]
  },
  {
   "cell_type": "code",
   "execution_count": 32,
   "metadata": {},
   "outputs": [
    {
     "name": "stdout",
     "output_type": "stream",
     "text": [
      "          A         B         C            D\n",
      "0  0.581354  0.090852  0.638416     1.052929\n",
      "1  0.338664  0.215174  0.502761     1.101593\n",
      "2  0.963526  0.385638  0.000881  1530.875139\n",
      "3  0.674821  0.715988  0.746546     1.862994\n",
      "4  0.560630  0.146158  0.130992     5.395638\n"
     ]
    }
   ],
   "source": [
    "df.eval('D=(A+B)/C', inplace=True)\n",
    "print(df.head())"
   ]
  },
  {
   "cell_type": "code",
   "execution_count": 33,
   "metadata": {},
   "outputs": [
    {
     "name": "stdout",
     "output_type": "stream",
     "text": [
      "          A         B         C           D\n",
      "0  0.581354  0.090852  0.638416    0.768311\n",
      "1  0.338664  0.215174  0.502761    0.245622\n",
      "2  0.963526  0.385638  0.000881  655.720664\n",
      "3  0.674821  0.715988  0.746546   -0.055144\n",
      "4  0.560630  0.146158  0.130992    3.164093\n"
     ]
    }
   ],
   "source": [
    "df.eval('D=(A-B)/C', inplace=True)\n",
    "print(df.head())"
   ]
  },
  {
   "cell_type": "code",
   "execution_count": 34,
   "metadata": {},
   "outputs": [
    {
     "name": "stdout",
     "output_type": "stream",
     "text": [
      "0        0.519733\n",
      "1        0.325555\n",
      "2      164.267677\n",
      "3        0.520553\n",
      "4        1.000468\n",
      "5        1.038097\n",
      "6        0.482191\n",
      "7        0.468522\n",
      "8        0.312661\n",
      "9        0.524624\n",
      "10      -0.663802\n",
      "11       0.643146\n",
      "12       0.546062\n",
      "13       0.471455\n",
      "14      -0.304586\n",
      "15       0.668410\n",
      "16       0.810697\n",
      "17       0.288902\n",
      "18       0.284909\n",
      "19       0.887671\n",
      "20       0.505340\n",
      "21       0.269268\n",
      "22      -0.067542\n",
      "23       0.464702\n",
      "24       0.561937\n",
      "25       0.624473\n",
      "26      -0.945200\n",
      "27      -1.212861\n",
      "28       0.424827\n",
      "29       0.536443\n",
      "          ...    \n",
      "970      0.266986\n",
      "971     -0.289606\n",
      "972      0.166490\n",
      "973      0.373769\n",
      "974      0.289267\n",
      "975      0.690384\n",
      "976      0.200026\n",
      "977      0.550525\n",
      "978      0.711112\n",
      "979      0.311224\n",
      "980      0.226417\n",
      "981      0.515839\n",
      "982     -0.577672\n",
      "983      0.614927\n",
      "984     -1.775794\n",
      "985      0.134900\n",
      "986      0.338037\n",
      "987      0.181513\n",
      "988      0.163435\n",
      "989      0.223579\n",
      "990      0.632122\n",
      "991      0.341839\n",
      "992      0.483047\n",
      "993      0.230277\n",
      "994      0.204477\n",
      "995      0.378042\n",
      "996      0.113498\n",
      "997     -0.059169\n",
      "998      0.364198\n",
      "999      0.372625\n",
      "Length: 1000, dtype: float64\n"
     ]
    }
   ],
   "source": [
    "column_mean = df.mean(1)\n",
    "# print(column_mean)\n",
    "result1 = df['A'] + column_mean\n",
    "result2 = df.eval('A + @column_mean')"
   ]
  },
  {
   "cell_type": "code",
   "execution_count": null,
   "metadata": {},
   "outputs": [],
   "source": []
  },
  {
   "cell_type": "code",
   "execution_count": null,
   "metadata": {},
   "outputs": [],
   "source": []
  },
  {
   "cell_type": "code",
   "execution_count": null,
   "metadata": {},
   "outputs": [],
   "source": []
  },
  {
   "cell_type": "code",
   "execution_count": null,
   "metadata": {},
   "outputs": [],
   "source": []
  }
 ],
 "metadata": {
  "kernelspec": {
   "display_name": "Python 3",
   "language": "python",
   "name": "python3"
  },
  "language_info": {
   "codemirror_mode": {
    "name": "ipython",
    "version": 3
   },
   "file_extension": ".py",
   "mimetype": "text/x-python",
   "name": "python",
   "nbconvert_exporter": "python",
   "pygments_lexer": "ipython3",
   "version": "3.6.5"
  }
 },
 "nbformat": 4,
 "nbformat_minor": 2
}
