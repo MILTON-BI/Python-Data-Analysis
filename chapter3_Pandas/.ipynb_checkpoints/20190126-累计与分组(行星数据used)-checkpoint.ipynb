{
 "cells": [
  {
   "cell_type": "code",
   "execution_count": 7,
   "metadata": {},
   "outputs": [
    {
     "name": "stdout",
     "output_type": "stream",
     "text": [
      "(1035, 6)\n",
      "            method  number  orbital_period   mass  distance  year\n",
      "0  Radial Velocity       1         269.300   7.10     77.40  2006\n",
      "1  Radial Velocity       1         874.774   2.21     56.95  2008\n",
      "2  Radial Velocity       1         763.000   2.60     19.84  2011\n",
      "3  Radial Velocity       1         326.030  19.40    110.62  2007\n",
      "4  Radial Velocity       1         516.220  10.50    119.47  2009\n"
     ]
    }
   ],
   "source": [
    "import seaborn as sns \n",
    "# # print(sns.__version__)\n",
    "planets = sns.load_dataset('planets', engine='python') \n",
    "print(planets.shape)  \n",
    "print(planets.head())   # [1035 rows x 6 columns]"
   ]
  },
  {
   "cell_type": "code",
   "execution_count": 5,
   "metadata": {},
   "outputs": [],
   "source": [
    "import pandas as pd\n",
    "import numpy as np "
   ]
  },
  {
   "cell_type": "code",
   "execution_count": 7,
   "metadata": {},
   "outputs": [
    {
     "name": "stdout",
     "output_type": "stream",
     "text": [
      "0    0.374540\n",
      "1    0.950714\n",
      "2    0.731994\n",
      "3    0.598658\n",
      "4    0.156019\n",
      "dtype: float64\n",
      "2.811925491708157\n"
     ]
    }
   ],
   "source": [
    "rng = np.random.RandomState(42)\n",
    "ser = pd.Series(rng.rand(5))\n",
    "print(ser)\n",
    "print(ser.sum())"
   ]
  },
  {
   "cell_type": "code",
   "execution_count": 13,
   "metadata": {},
   "outputs": [
    {
     "name": "stdout",
     "output_type": "stream",
     "text": [
      "          A         B\n",
      "0  0.921874  0.388677\n",
      "1  0.088493  0.271349\n",
      "2  0.195983  0.828738\n",
      "3  0.045227  0.356753\n",
      "4  0.325330  0.280935\n",
      "A    1.576907\n",
      "B    2.126452\n",
      "dtype: float64\n",
      "0    1.310552\n",
      "1    0.359842\n",
      "2    1.024720\n",
      "3    0.401981\n",
      "4    0.606265\n",
      "dtype: float64\n",
      "0    0.655276\n",
      "1    0.179921\n",
      "2    0.512360\n",
      "3    0.200990\n",
      "4    0.303132\n",
      "dtype: float64\n"
     ]
    }
   ],
   "source": [
    "df = pd.DataFrame({'A': rng.rand(5),\n",
    "                  'B': rng.rand(5)})\n",
    "print(df)\n",
    "print(df.sum())   # 默认，按列计数\n",
    "print(df.sum(axis=1))  # axis=1, 按行计数\n",
    "print(df.mean(axis='columns'))   # 与axis=1等价"
   ]
  },
  {
   "cell_type": "code",
   "execution_count": 14,
   "metadata": {},
   "outputs": [
    {
     "name": "stdout",
     "output_type": "stream",
     "text": [
      "          number  orbital_period        mass    distance         year\n",
      "count  498.00000      498.000000  498.000000  498.000000   498.000000\n",
      "mean     1.73494      835.778671    2.509320   52.068213  2007.377510\n",
      "std      1.17572     1469.128259    3.636274   46.596041     4.167284\n",
      "min      1.00000        1.328300    0.003600    1.350000  1989.000000\n",
      "25%      1.00000       38.272250    0.212500   24.497500  2005.000000\n",
      "50%      1.00000      357.000000    1.245000   39.940000  2009.000000\n",
      "75%      2.00000      999.600000    2.867500   59.332500  2011.000000\n",
      "max      6.00000    17337.500000   25.000000  354.000000  2014.000000\n"
     ]
    }
   ],
   "source": [
    "print(planets.dropna().describe())"
   ]
  },
  {
   "cell_type": "markdown",
   "metadata": {},
   "source": [
    "# 分割、应用、组合"
   ]
  },
  {
   "cell_type": "code",
   "execution_count": 3,
   "metadata": {},
   "outputs": [
    {
     "name": "stdout",
     "output_type": "stream",
     "text": [
      "  key  data\n",
      "0   A     0\n",
      "1   B     1\n",
      "2   C     2\n",
      "3   A     3\n",
      "4   B     4\n",
      "5   C     5\n"
     ]
    }
   ],
   "source": [
    "import pandas as pd\n",
    "import numpy as np\n",
    "df = pd.DataFrame({'key': ['A','B','C','A','B','C'],\n",
    "                  'data': range(6)},\n",
    "                 columns=['key', 'data'])\n",
    "print(df)"
   ]
  },
  {
   "cell_type": "code",
   "execution_count": 4,
   "metadata": {},
   "outputs": [
    {
     "name": "stdout",
     "output_type": "stream",
     "text": [
      "<pandas.core.groupby.groupby.DataFrameGroupBy object at 0x0000020E381D2898>\n"
     ]
    }
   ],
   "source": [
    "print(df.groupby('key'))"
   ]
  },
  {
   "cell_type": "code",
   "execution_count": 5,
   "metadata": {},
   "outputs": [
    {
     "name": "stdout",
     "output_type": "stream",
     "text": [
      "     data\n",
      "key      \n",
      "A       3\n",
      "B       5\n",
      "C       7\n"
     ]
    }
   ],
   "source": [
    "print(df.groupby('key').sum())"
   ]
  },
  {
   "cell_type": "code",
   "execution_count": 8,
   "metadata": {},
   "outputs": [
    {
     "name": "stdout",
     "output_type": "stream",
     "text": [
      "                            method  number  orbital_period   mass  distance  \\\n",
      "0                  Radial Velocity       1      269.300000   7.10     77.40   \n",
      "1                  Radial Velocity       1      874.774000   2.21     56.95   \n",
      "2                  Radial Velocity       1      763.000000   2.60     19.84   \n",
      "3                  Radial Velocity       1      326.030000  19.40    110.62   \n",
      "4                  Radial Velocity       1      516.220000  10.50    119.47   \n",
      "29                         Imaging       1             NaN    NaN     45.52   \n",
      "30                         Imaging       1             NaN    NaN    165.00   \n",
      "31                         Imaging       1             NaN    NaN    140.00   \n",
      "32       Eclipse Timing Variations       1    10220.000000   6.05       NaN   \n",
      "33                         Imaging       1             NaN    NaN       NaN   \n",
      "34                         Imaging       1             NaN    NaN    145.00   \n",
      "37       Eclipse Timing Variations       2     5767.000000    NaN    130.72   \n",
      "38       Eclipse Timing Variations       2     3321.000000    NaN    130.72   \n",
      "39       Eclipse Timing Variations       2     5573.550000    NaN    500.00   \n",
      "40       Eclipse Timing Variations       2     2883.500000    NaN    500.00   \n",
      "91                         Transit       1        1.508956    NaN       NaN   \n",
      "92                         Transit       1        1.742994    NaN    200.00   \n",
      "93                         Transit       1        4.256800    NaN    680.00   \n",
      "94                         Transit       1        9.202050    NaN       NaN   \n",
      "95                         Transit       1        4.037896    NaN       NaN   \n",
      "113                     Astrometry       1      246.360000    NaN     20.77   \n",
      "537                     Astrometry       1     1016.000000    NaN     14.98   \n",
      "680      Transit Timing Variations       2      160.000000    NaN   2119.00   \n",
      "736      Transit Timing Variations       2       57.011000    NaN    855.00   \n",
      "749      Transit Timing Variations       3             NaN    NaN       NaN   \n",
      "787  Orbital Brightness Modulation       2        0.240104    NaN   1180.00   \n",
      "788  Orbital Brightness Modulation       2        0.342887    NaN   1180.00   \n",
      "792  Orbital Brightness Modulation       1        1.544929    NaN       NaN   \n",
      "813      Transit Timing Variations       2       22.339500    NaN    339.00   \n",
      "902                   Microlensing       1             NaN    NaN       NaN   \n",
      "903                   Microlensing       1             NaN    NaN       NaN   \n",
      "904                   Microlensing       1             NaN    NaN       NaN   \n",
      "905                   Microlensing       1             NaN    NaN   3600.00   \n",
      "906                   Microlensing       1     2780.000000    NaN       NaN   \n",
      "941                  Pulsar Timing       3       25.262000    NaN       NaN   \n",
      "942                  Pulsar Timing       3       66.541900    NaN       NaN   \n",
      "943                  Pulsar Timing       3       98.211400    NaN       NaN   \n",
      "944                  Pulsar Timing       1    36525.000000    NaN       NaN   \n",
      "945                  Pulsar Timing       1        0.090706    NaN   1200.00   \n",
      "958    Pulsation Timing Variations       1     1170.000000    NaN       NaN   \n",
      "\n",
      "     year  \n",
      "0    2006  \n",
      "1    2008  \n",
      "2    2011  \n",
      "3    2007  \n",
      "4    2009  \n",
      "29   2005  \n",
      "30   2007  \n",
      "31   2004  \n",
      "32   2009  \n",
      "33   2008  \n",
      "34   2013  \n",
      "37   2008  \n",
      "38   2008  \n",
      "39   2010  \n",
      "40   2010  \n",
      "91   2008  \n",
      "92   2008  \n",
      "93   2008  \n",
      "94   2008  \n",
      "95   2009  \n",
      "113  2013  \n",
      "537  2010  \n",
      "680  2011  \n",
      "736  2012  \n",
      "749  2014  \n",
      "787  2011  \n",
      "788  2011  \n",
      "792  2013  \n",
      "813  2013  \n",
      "902  2008  \n",
      "903  2008  \n",
      "904  2009  \n",
      "905  2013  \n",
      "906  2011  \n",
      "941  1992  \n",
      "942  1992  \n",
      "943  1994  \n",
      "944  2003  \n",
      "945  2011  \n",
      "958  2007  \n"
     ]
    }
   ],
   "source": [
    "# 应用行星数据\n",
    "print(planets.groupby('method').head())"
   ]
  },
  {
   "cell_type": "code",
   "execution_count": 10,
   "metadata": {},
   "outputs": [
    {
     "name": "stdout",
     "output_type": "stream",
     "text": [
      "<pandas.core.groupby.groupby.SeriesGroupBy object at 0x0000020E41E79BA8>\n",
      "method\n",
      "Astrometry                         631.180000\n",
      "Eclipse Timing Variations         4343.500000\n",
      "Imaging                          27500.000000\n",
      "Microlensing                      3300.000000\n",
      "Orbital Brightness Modulation        0.342887\n",
      "Pulsar Timing                       66.541900\n",
      "Pulsation Timing Variations       1170.000000\n",
      "Radial Velocity                    360.200000\n",
      "Transit                              5.714932\n",
      "Transit Timing Variations           57.011000\n",
      "Name: orbital_period, dtype: float64\n"
     ]
    }
   ],
   "source": [
    "print(planets.groupby('method')['orbital_period'])\n",
    "print(planets.groupby('method')['orbital_period'].median())"
   ]
  },
  {
   "cell_type": "code",
   "execution_count": 11,
   "metadata": {},
   "outputs": [
    {
     "name": "stdout",
     "output_type": "stream",
     "text": [
      "Astrometry                     shape=(2, 6)\n",
      "Eclipse Timing Variations      shape=(9, 6)\n",
      "Imaging                        shape=(38, 6)\n",
      "Microlensing                   shape=(23, 6)\n",
      "Orbital Brightness Modulation  shape=(3, 6)\n",
      "Pulsar Timing                  shape=(5, 6)\n",
      "Pulsation Timing Variations    shape=(1, 6)\n",
      "Radial Velocity                shape=(553, 6)\n",
      "Transit                        shape=(397, 6)\n",
      "Transit Timing Variations      shape=(4, 6)\n"
     ]
    }
   ],
   "source": [
    "# 按组迭代\n",
    "for method, group in planets.groupby('method'):\n",
    "    print(\"{0:30s} shape={1}\".format(method, group.shape))"
   ]
  },
  {
   "cell_type": "code",
   "execution_count": 12,
   "metadata": {},
   "outputs": [
    {
     "name": "stdout",
     "output_type": "stream",
     "text": [
      "                               count         mean       std     min      25%  \\\n",
      "method                                                                         \n",
      "Astrometry                       2.0  2011.500000  2.121320  2010.0  2010.75   \n",
      "Eclipse Timing Variations        9.0  2010.000000  1.414214  2008.0  2009.00   \n",
      "Imaging                         38.0  2009.131579  2.781901  2004.0  2008.00   \n",
      "Microlensing                    23.0  2009.782609  2.859697  2004.0  2008.00   \n",
      "Orbital Brightness Modulation    3.0  2011.666667  1.154701  2011.0  2011.00   \n",
      "Pulsar Timing                    5.0  1998.400000  8.384510  1992.0  1992.00   \n",
      "Pulsation Timing Variations      1.0  2007.000000       NaN  2007.0  2007.00   \n",
      "Radial Velocity                553.0  2007.518987  4.249052  1989.0  2005.00   \n",
      "Transit                        397.0  2011.236776  2.077867  2002.0  2010.00   \n",
      "Transit Timing Variations        4.0  2012.500000  1.290994  2011.0  2011.75   \n",
      "\n",
      "                                  50%      75%     max  \n",
      "method                                                  \n",
      "Astrometry                     2011.5  2012.25  2013.0  \n",
      "Eclipse Timing Variations      2010.0  2011.00  2012.0  \n",
      "Imaging                        2009.0  2011.00  2013.0  \n",
      "Microlensing                   2010.0  2012.00  2013.0  \n",
      "Orbital Brightness Modulation  2011.0  2012.00  2013.0  \n",
      "Pulsar Timing                  1994.0  2003.00  2011.0  \n",
      "Pulsation Timing Variations    2007.0  2007.00  2007.0  \n",
      "Radial Velocity                2009.0  2011.00  2014.0  \n",
      "Transit                        2012.0  2013.00  2014.0  \n",
      "Transit Timing Variations      2012.5  2013.25  2014.0  \n"
     ]
    }
   ],
   "source": [
    "print(planets.groupby('method')['year'].describe())"
   ]
  },
  {
   "cell_type": "code",
   "execution_count": 13,
   "metadata": {},
   "outputs": [
    {
     "name": "stdout",
     "output_type": "stream",
     "text": [
      "  key  data1  data2\n",
      "0   A      0      5\n",
      "1   B      1      0\n",
      "2   C      2      3\n",
      "3   A      3      3\n",
      "4   B      4      7\n",
      "5   C      5      9\n"
     ]
    }
   ],
   "source": [
    "rng = np.random.RandomState(0)\n",
    "df = pd.DataFrame({'key': ['A','B','C','A','B','C'],\n",
    "                  'data1': range(6),\n",
    "                  'data2': rng.randint(0,10,6)},\n",
    "                 columns=['key','data1','data2'])\n",
    "print(df)"
   ]
  },
  {
   "cell_type": "code",
   "execution_count": 24,
   "metadata": {},
   "outputs": [
    {
     "name": "stdout",
     "output_type": "stream",
     "text": [
      "    data1                          data2                          \n",
      "      min median max mean      std   min median max mean       std\n",
      "key                                                               \n",
      "A       0    1.5   3  1.5  2.12132     3    4.0   5  4.0  1.414214\n",
      "B       1    2.5   4  2.5  2.12132     0    3.5   7  3.5  4.949747\n",
      "C       2    3.5   5  3.5  2.12132     3    6.0   9  6.0  4.242641\n"
     ]
    }
   ],
   "source": [
    "print(df.groupby('key').aggregate(['min', 'median', 'max', 'mean','std']))"
   ]
  },
  {
   "cell_type": "code",
   "execution_count": 20,
   "metadata": {},
   "outputs": [
    {
     "name": "stdout",
     "output_type": "stream",
     "text": [
      "     data1  data2\n",
      "key              \n",
      "A        3      3\n",
      "B        4      0\n",
      "C        5      3\n"
     ]
    }
   ],
   "source": [
    "print(df.groupby('key').aggregate({'data1':'max','data2':'min'}))"
   ]
  },
  {
   "cell_type": "code",
   "execution_count": 25,
   "metadata": {},
   "outputs": [
    {
     "name": "stdout",
     "output_type": "stream",
     "text": [
      "       data1     data2\n",
      "key                   \n",
      "A    2.12132  1.414214\n",
      "B    2.12132  4.949747\n",
      "C    2.12132  4.242641\n",
      "  key  data1  data2\n",
      "1   B      1      0\n",
      "2   C      2      3\n",
      "4   B      4      7\n",
      "5   C      5      9\n"
     ]
    }
   ],
   "source": [
    "def filter_func(x):\n",
    "    return x['data2'].std()>4\n",
    "print(df.groupby('key').std())\n",
    "print(df.groupby('key').filter(filter_func))"
   ]
  },
  {
   "cell_type": "code",
   "execution_count": 26,
   "metadata": {},
   "outputs": [
    {
     "name": "stdout",
     "output_type": "stream",
     "text": [
      "   data1  data2\n",
      "0   -1.5    1.0\n",
      "1   -1.5   -3.5\n",
      "2   -1.5   -3.0\n",
      "3    1.5   -1.0\n",
      "4    1.5    3.5\n",
      "5    1.5    3.0\n"
     ]
    }
   ],
   "source": [
    "print(df.groupby('key').transform(lambda x: x - x.mean()))"
   ]
  },
  {
   "cell_type": "code",
   "execution_count": 31,
   "metadata": {},
   "outputs": [
    {
     "name": "stdout",
     "output_type": "stream",
     "text": [
      "  key  data1  data2\n",
      "0   A      0      5\n",
      "1   B      1      0\n",
      "2   C      2      3\n",
      "3   A      3      3\n",
      "4   B      4      7\n",
      "5   C      5      9\n",
      "  key     data1  data2\n",
      "0   A  0.000000      5\n",
      "1   B  0.142857      0\n",
      "2   C  0.166667      3\n",
      "3   A  0.375000      3\n",
      "4   B  0.571429      7\n",
      "5   C  0.416667      9\n"
     ]
    }
   ],
   "source": [
    "def norm_by_data2(x):\n",
    "    x['data1'] /= x['data2'].sum()\n",
    "    return x\n",
    "print(df)\n",
    "print(df.groupby('key').apply(norm_by_data2))"
   ]
  },
  {
   "cell_type": "code",
   "execution_count": 32,
   "metadata": {},
   "outputs": [
    {
     "name": "stdout",
     "output_type": "stream",
     "text": [
      "   data1  data2\n",
      "0      7     17\n",
      "1      4      3\n",
      "2      4      7\n"
     ]
    }
   ],
   "source": [
    "L = [0, 1, 0, 1, 2, 0]\n",
    "print(df.groupby(L).sum())"
   ]
  },
  {
   "cell_type": "code",
   "execution_count": 34,
   "metadata": {},
   "outputs": [
    {
     "name": "stdout",
     "output_type": "stream",
     "text": [
      "     data1  data2\n",
      "key              \n",
      "A        0      5\n",
      "B        1      0\n",
      "C        2      3\n",
      "A        3      3\n",
      "B        4      7\n",
      "C        5      9\n",
      "           data1  data2\n",
      "consonant     12     19\n",
      "vovel          3      8\n"
     ]
    }
   ],
   "source": [
    "df1 = df.set_index('key')\n",
    "mapping = {'A':'vovel', 'B':'consonant', 'C': 'consonant'}\n",
    "print(df1)\n",
    "print(df1.groupby(mapping).sum())"
   ]
  },
  {
   "cell_type": "code",
   "execution_count": 35,
   "metadata": {},
   "outputs": [
    {
     "name": "stdout",
     "output_type": "stream",
     "text": [
      "   data1  data2\n",
      "a    1.5    4.0\n",
      "b    2.5    3.5\n",
      "c    3.5    6.0\n"
     ]
    }
   ],
   "source": [
    "print(df1.groupby(str.lower).mean())"
   ]
  },
  {
   "cell_type": "code",
   "execution_count": 37,
   "metadata": {},
   "outputs": [
    {
     "name": "stdout",
     "output_type": "stream",
     "text": [
      "             data1  data2\n",
      "consonant b    2.5    3.5\n",
      "          c    3.5    6.0\n",
      "vovel     a    1.5    4.0\n",
      "             data1  data2\n",
      "a vovel        1.5    4.0\n",
      "b consonant    2.5    3.5\n",
      "c consonant    3.5    6.0\n"
     ]
    }
   ],
   "source": [
    "print(df1.groupby([mapping, str.lower]).mean())\n",
    "print(df1.groupby([str.lower,mapping]).mean())"
   ]
  },
  {
   "cell_type": "code",
   "execution_count": 42,
   "metadata": {},
   "outputs": [
    {
     "name": "stdout",
     "output_type": "stream",
     "text": [
      "method                         decade\n",
      "Astrometry                     2010s       2\n",
      "Eclipse Timing Variations      2000s       5\n",
      "                               2010s      10\n",
      "Imaging                        2000s      29\n",
      "                               2010s      21\n",
      "Microlensing                   2000s      12\n",
      "                               2010s      15\n",
      "Orbital Brightness Modulation  2010s       5\n",
      "Pulsar Timing                  1990s       9\n",
      "                               2000s       1\n",
      "                               2010s       1\n",
      "Pulsation Timing Variations    2000s       1\n",
      "Radial Velocity                1980s       1\n",
      "                               1990s      52\n",
      "                               2000s     475\n",
      "                               2010s     424\n",
      "Transit                        2000s      64\n",
      "                               2010s     712\n",
      "Transit Timing Variations      2010s       9\n",
      "Name: number, dtype: int64\n",
      "--------------------------------------------------------------\n",
      "decade                         1980s  1990s  2000s  2010s\n",
      "method                                                   \n",
      "Astrometry                       NaN    NaN    NaN    2.0\n",
      "Eclipse Timing Variations        NaN    NaN    5.0   10.0\n",
      "Imaging                          NaN    NaN   29.0   21.0\n",
      "Microlensing                     NaN    NaN   12.0   15.0\n",
      "Orbital Brightness Modulation    NaN    NaN    NaN    5.0\n",
      "Pulsar Timing                    NaN    9.0    1.0    1.0\n",
      "Pulsation Timing Variations      NaN    NaN    1.0    NaN\n",
      "Radial Velocity                  1.0   52.0  475.0  424.0\n",
      "Transit                          NaN    NaN   64.0  712.0\n",
      "Transit Timing Variations        NaN    NaN    NaN    9.0\n"
     ]
    }
   ],
   "source": [
    "# 应用行星数据\n",
    "decade = 10 * (planets['year'] // 10)\n",
    "decade = decade.astype(str) + 's'\n",
    "decade.name = 'decade'\n",
    "print(planets.groupby(['method', decade])['number'].sum())\n",
    "print('--------------------------------------------------------------')\n",
    "print(planets.groupby(['method', decade])['number'].sum().unstack())"
   ]
  },
  {
   "cell_type": "code",
   "execution_count": null,
   "metadata": {},
   "outputs": [],
   "source": []
  },
  {
   "cell_type": "code",
   "execution_count": null,
   "metadata": {},
   "outputs": [],
   "source": []
  }
 ],
 "metadata": {
  "kernelspec": {
   "display_name": "Python 3",
   "language": "python",
   "name": "python3"
  },
  "language_info": {
   "codemirror_mode": {
    "name": "ipython",
    "version": 3
   },
   "file_extension": ".py",
   "mimetype": "text/x-python",
   "name": "python",
   "nbconvert_exporter": "python",
   "pygments_lexer": "ipython3",
   "version": "3.6.5"
  }
 },
 "nbformat": 4,
 "nbformat_minor": 2
}
