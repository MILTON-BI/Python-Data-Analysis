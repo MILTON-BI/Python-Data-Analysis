{
 "cells": [
  {
   "cell_type": "code",
   "execution_count": 1,
   "metadata": {},
   "outputs": [],
   "source": [
    "import pandas as pd\n",
    "import numpy as np"
   ]
  },
  {
   "cell_type": "code",
   "execution_count": 13,
   "metadata": {},
   "outputs": [
    {
     "name": "stdout",
     "output_type": "stream",
     "text": [
      "MultiIndex(levels=[['上海', '广州', '成都', '深圳'], [2017, 2018, 2019]],\n",
      "           labels=[[0, 0, 2, 2, 1, 1, 3, 3], [1, 2, 1, 2, 1, 2, 0, 0]])\n",
      "上海  2018    1000\n",
      "    2019    1010\n",
      "成都  2018     900\n",
      "    2019     910\n",
      "广州  2018     800\n",
      "    2019     810\n",
      "深圳  2017     700\n",
      "    2017     720\n",
      "dtype: int64\n"
     ]
    }
   ],
   "source": [
    "idx = pd.MultiIndex.from_arrays([['上海','上海','成都', '成都', '广州',  '广州','深圳','深圳'], \n",
    "                                 [2018, 2019, 2018,2019,2018,2019,2017,2017]])\n",
    "print(idx)\n",
    "data = pd.Series([1000, 1010, 900, 910, 800, 810, 700, 720], index=idx)\n",
    "print(data)"
   ]
  },
  {
   "cell_type": "code",
   "execution_count": 16,
   "metadata": {},
   "outputs": [
    {
     "name": "stdout",
     "output_type": "stream",
     "text": [
      "MultiIndex(levels=[['上海', '东京', '台北', '纽约'], [2015, 2016, 2017, 2018, 2019]],\n",
      "           labels=[[0, 0, 1, 1, 2, 2, 3, 3], [3, 4, 3, 0, 1, 3, 3, 2]])\n",
      "上海  2018    1000\n",
      "    2019    1010\n",
      "东京  2018     900\n",
      "    2015     910\n",
      "台北  2016     800\n",
      "    2018     810\n",
      "纽约  2018     700\n",
      "    2017     720\n",
      "dtype: int64\n"
     ]
    }
   ],
   "source": [
    "idx = pd.MultiIndex.from_tuples([('上海', 2018), ('上海', 2019), \n",
    "                                 ('东京', 2018), ('东京', 2015), \n",
    "                                 ('台北', 2016), ('台北', 2018), \n",
    "                                 ('纽约', 2018), ('纽约', 2017)])\n",
    "pop = [1000, 1010, 900, 910, 800, 810, 700, 720]\n",
    "d = pd.Series(pop, index=idx)\n",
    "print(idx)\n",
    "print(d)"
   ]
  },
  {
   "cell_type": "code",
   "execution_count": 21,
   "metadata": {},
   "outputs": [
    {
     "name": "stdout",
     "output_type": "stream",
     "text": [
      "MultiIndex(levels=[['上海', '东京', '台北', '纽约'], [2017, 2018]],\n",
      "           labels=[[0, 0, 1, 1, 2, 2, 3, 3], [0, 1, 0, 1, 0, 1, 0, 1]])\n",
      "city  year\n",
      "上海    2017    1000\n",
      "      2018    1010\n",
      "东京    2017     900\n",
      "      2018     910\n",
      "台北    2017     800\n",
      "      2018     810\n",
      "纽约    2017     700\n",
      "      2018     720\n",
      "dtype: int64\n"
     ]
    }
   ],
   "source": [
    "idnx = pd.MultiIndex.from_product([['上海', '东京', '台北', '纽约'], [2017, 2018]])\n",
    "print(idnx)\n",
    "p = [1000, 1010, 900, 910, 800, 810, 700, 720]\n",
    "dd = pd.Series(p, index=idnx)\n",
    "dd.index.names = ['city', 'year']\n",
    "print(dd)"
   ]
  },
  {
   "cell_type": "code",
   "execution_count": 25,
   "metadata": {},
   "outputs": [
    {
     "name": "stdout",
     "output_type": "stream",
     "text": [
      "          人口(千人)    人均收入\n",
      "城市 年份                   \n",
      "上海 2017  2727.98  126449\n",
      "   2018  2775.58  231477\n",
      "东京 2017  2637.66  265795\n",
      "   2018  1011.97  125761\n",
      "台北 2017  1757.36  168350\n",
      "   2018  1078.31  232925\n",
      "纽约 2017  2506.68  196587\n",
      "   2018  1624.29  110413\n"
     ]
    }
   ],
   "source": [
    "# 多级列索引\n",
    "row = pd.MultiIndex.from_product([['上海', '东京', '台北', '纽约'], [2017, 2018]])\n",
    "data = pd.DataFrame(np.random.randint(100000,300000,size=(8,2)), index=row, columns=['人口(千人)','人均收入'])\n",
    "data.index.names = ['城市', '年份']\n",
    "data['人口(千人)']=data['人口(千人)']/100\n",
    "print(data)"
   ]
  },
  {
   "cell_type": "code",
   "execution_count": 34,
   "metadata": {},
   "outputs": [
    {
     "name": "stdout",
     "output_type": "stream",
     "text": [
      "800\n",
      "year\n",
      "2017    700\n",
      "2018    720\n",
      "dtype: int64\n",
      "city\n",
      "上海    1010\n",
      "东京     910\n",
      "台北     810\n",
      "纽约     720\n",
      "dtype: int64\n",
      "city  year\n",
      "上海    2017    1000\n",
      "      2018    1010\n",
      "东京    2017     900\n",
      "      2018     910\n",
      "dtype: int64\n",
      "city  year\n",
      "东京    2017    900\n",
      "      2018    910\n",
      "台北    2017    800\n",
      "      2018    810\n",
      "dtype: int64\n"
     ]
    }
   ],
   "source": [
    "print(dd['台北', 2017])\n",
    "print(dd['纽约'])\n",
    "print(dd[:, 2018])\n",
    "print(dd[dd>=900])\n",
    "print(dd[['台北', '东京']])"
   ]
  },
  {
   "cell_type": "code",
   "execution_count": 47,
   "metadata": {},
   "outputs": [
    {
     "name": "stdout",
     "output_type": "stream",
     "text": [
      "subject        张三            李四            王五       \n",
      "type           HR   TEMP     HR   TEMP     HR   TEMP\n",
      "year visit                                          \n",
      "2018 1      11.18  14.22  19.31  11.31   7.83   2.61\n",
      "     2       7.86   5.97   7.21  13.80  11.16   0.06\n",
      "2019 1       1.40   5.24  14.51   0.27  30.88   2.29\n",
      "     2       5.76  12.85   5.81  18.45  11.15  12.67\n",
      "MultiIndex(levels=[[2018, 2019], [1, 2]],\n",
      "           labels=[[0, 0, 1, 1], [0, 1, 0, 1]],\n",
      "           names=['year', 'visit'])\n"
     ]
    }
   ],
   "source": [
    "index = pd.MultiIndex.from_product([[2018, 2019], [1,2]], names=['year', 'visit'])\n",
    "columns = pd.MultiIndex.from_product([['张三', '李四', '王五'], ['HR', 'TEMP']], names=['subject', 'type'])\n",
    "data = np.abs(np.round(np.random.randn(4, 6)*10, 2))\n",
    "heal_data = pd.DataFrame(data, index=index, columns=columns)\n",
    "print(heal_data)\n",
    "print(index)"
   ]
  },
  {
   "cell_type": "code",
   "execution_count": 52,
   "metadata": {},
   "outputs": [
    {
     "name": "stdout",
     "output_type": "stream",
     "text": [
      "subject        张三            王五       \n",
      "type           HR   TEMP     HR   TEMP\n",
      "year visit                            \n",
      "2018 1      11.18  14.22   7.83   2.61\n",
      "     2       7.86   5.97  11.16   0.06\n",
      "2019 1       1.40   5.24  30.88   2.29\n",
      "     2       5.76  12.85  11.15  12.67\n",
      "subject     张三            李四            王五      \n",
      "type        HR   TEMP     HR   TEMP     HR  TEMP\n",
      "visit                                           \n",
      "1        11.18  14.22  19.31  11.31   7.83  2.61\n",
      "2         7.86   5.97   7.21  13.80  11.16  0.06\n",
      "subject  type\n",
      "张三       HR      11.18\n",
      "         TEMP    14.22\n",
      "李四       HR      19.31\n",
      "         TEMP    11.31\n",
      "王五       HR       7.83\n",
      "         TEMP     2.61\n",
      "Name: (2018, 1), dtype: float64\n",
      "subject     张三            李四            王五      \n",
      "type        HR   TEMP     HR   TEMP     HR  TEMP\n",
      "visit                                           \n",
      "1        11.18  14.22  19.31  11.31   7.83  2.61\n",
      "2         7.86   5.97   7.21  13.80  11.16  0.06\n",
      "subject        张三       \n",
      "type           HR   TEMP\n",
      "year visit              \n",
      "2018 1      11.18  14.22\n",
      "     2       7.86   5.97\n"
     ]
    }
   ],
   "source": [
    "print(heal_data[['张三', '王五']])\n",
    "print(heal_data.loc[2018])\n",
    "print(heal_data.loc[2018, 1])\n",
    "print(heal_data.loc[2018, :])\n",
    "print(heal_data.iloc[:2,:2])"
   ]
  },
  {
   "cell_type": "code",
   "execution_count": 53,
   "metadata": {},
   "outputs": [
    {
     "name": "stdout",
     "output_type": "stream",
     "text": [
      "subject        张三     李四     王五\n",
      "type           HR     HR     HR\n",
      "year visit                     \n",
      "2018 1      11.18  19.31   7.83\n",
      "2019 1       1.40  14.51  30.88\n"
     ]
    }
   ],
   "source": [
    "idx = pd.IndexSlice\n",
    "print(heal_data.loc[idx[:,1], idx[:, 'HR']])"
   ]
  },
  {
   "cell_type": "code",
   "execution_count": 58,
   "metadata": {},
   "outputs": [
    {
     "name": "stdout",
     "output_type": "stream",
     "text": [
      "subject    张三             李四              王五       \n",
      "type       HR    TEMP     HR    TEMP      HR   TEMP\n",
      "year                                               \n",
      "2018     9.52  10.095  13.26  12.555   9.495  1.335\n",
      "2019     3.58   9.045  10.16   9.360  21.015  7.480\n",
      "type               HR       TEMP\n",
      "year visit                      \n",
      "2018 1      12.773333   9.380000\n",
      "     2       8.743333   6.610000\n",
      "2019 1      15.596667   2.600000\n",
      "     2       7.573333  14.656667\n"
     ]
    }
   ],
   "source": [
    "data_mean = heal_data.mean(level='year')\n",
    "print(data_mean)\n",
    "data_mean_col = heal_data.mean(level='type', axis=1)\n",
    "print(data_mean_col)"
   ]
  },
  {
   "cell_type": "code",
   "execution_count": 65,
   "metadata": {},
   "outputs": [
    {
     "name": "stdout",
     "output_type": "stream",
     "text": [
      "    A   B   C\n",
      "0  A0  B0  C0\n",
      "1  A1  B1  C1\n",
      "2  A2  B2  C2\n",
      "A    A0\n",
      "B    B0\n",
      "C    C0\n",
      "Name: 0, dtype: object\n",
      "['A0', 'B0', 'C0', 'A1', 'B1', 'C1']\n"
     ]
    }
   ],
   "source": [
    "# 数据合并concat\n",
    "def make_df(cols, ind):\n",
    "    data = {c: [str(c) + str(i) for i in ind] for c in cols}\n",
    "    return pd.DataFrame(data, ind)\n",
    "d = make_df('ABC', range(3))\n",
    "print(d)\n",
    "print(d.iloc[0])\n",
    "print(list(np.concatenate([d.iloc[0], d.iloc[1]])))"
   ]
  },
  {
   "cell_type": "code",
   "execution_count": 67,
   "metadata": {},
   "outputs": [
    {
     "name": "stdout",
     "output_type": "stream",
     "text": [
      "    A   B\n",
      "1  A1  B1\n",
      "2  A2  B2\n",
      "    A   B\n",
      "3  A3  B3\n",
      "4  A4  B4\n",
      "    A   B\n",
      "1  A1  B1\n",
      "2  A2  B2\n",
      "3  A3  B3\n",
      "4  A4  B4\n"
     ]
    }
   ],
   "source": [
    "df1 = make_df('AB', [1,2])\n",
    "df2 = make_df('AB', [3,4])\n",
    "df3 = pd.concat([df1, df2])\n",
    "print(df1);print(df2);print(df3)"
   ]
  },
  {
   "cell_type": "code",
   "execution_count": 75,
   "metadata": {},
   "outputs": [
    {
     "name": "stdout",
     "output_type": "stream",
     "text": [
      "    A   B   C   D\n",
      "0  A0  B0  C0  D0\n",
      "1  A1  B1  C1  D1\n"
     ]
    }
   ],
   "source": [
    "df4 = make_df('AB', [0,1])\n",
    "df5 = make_df('CD', [0,1])\n",
    "print(pd.concat([df4, df5], axis=1))"
   ]
  },
  {
   "cell_type": "code",
   "execution_count": 77,
   "metadata": {},
   "outputs": [
    {
     "name": "stdout",
     "output_type": "stream",
     "text": [
      "  employee        group\n",
      "0      bob   accounting\n",
      "1     jake  engineering\n",
      "2     lisa  engineering\n",
      "3      sue           HR\n",
      "  employee  hire_year\n",
      "0     lisa       2004\n",
      "1      bob       2008\n",
      "2     jake       2012\n",
      "3      sue       2018\n"
     ]
    }
   ],
   "source": [
    "# 数据连接merge()\n",
    "df1 = pd.DataFrame({'employee': ['bob', 'jake', 'lisa', 'sue'], \n",
    "                    'group': ['accounting', 'engineering', 'engineering', 'HR']})\n",
    "df2 = pd.DataFrame({'employee': ['lisa', 'bob', 'jake', 'sue'], \n",
    "                    'hire_year': [2004, 2008, 2012, 2018]})\n",
    "print(df1)\n",
    "print(df2)"
   ]
  },
  {
   "cell_type": "code",
   "execution_count": 81,
   "metadata": {},
   "outputs": [
    {
     "name": "stdout",
     "output_type": "stream",
     "text": [
      "  employee        group  hire_year\n",
      "0      bob   accounting       2008\n",
      "1     jake  engineering       2012\n",
      "2     lisa  engineering       2004\n",
      "3      sue           HR       2018\n"
     ]
    }
   ],
   "source": [
    "# 一对一连接\n",
    "df3 = pd.merge(df1, df2)\n",
    "print(df3)"
   ]
  },
  {
   "cell_type": "code",
   "execution_count": 82,
   "metadata": {},
   "outputs": [
    {
     "name": "stdout",
     "output_type": "stream",
     "text": [
      "         group supervisor\n",
      "0   accounting       carl\n",
      "1  engineering      guido\n",
      "2           HR      steve\n",
      "  employee        group  hire_year supervisor\n",
      "0      bob   accounting       2008       carl\n",
      "1     jake  engineering       2012      guido\n",
      "2     lisa  engineering       2004      guido\n",
      "3      sue           HR       2018      steve\n"
     ]
    }
   ],
   "source": [
    "# 多对一连接\n",
    "df4 = pd.DataFrame({'group': ['accounting', 'engineering', 'HR'], \n",
    "                    'supervisor': ['carl', 'guido', 'steve']})\n",
    "print(df4)\n",
    "df5 = pd.merge(df3, df4)\n",
    "print(df5)"
   ]
  },
  {
   "cell_type": "code",
   "execution_count": 88,
   "metadata": {},
   "outputs": [
    {
     "name": "stdout",
     "output_type": "stream",
     "text": [
      "         group        skills\n",
      "0   accounting          math\n",
      "1   accounting  spreadsheets\n",
      "2  engineering        coding\n",
      "3  engineering  spreadsheets\n",
      "4           HR  organization\n",
      "5           HR         linux\n",
      "  employee        group        skills\n",
      "0      bob   accounting          math\n",
      "1      bob   accounting  spreadsheets\n",
      "2     jake  engineering        coding\n",
      "3     jake  engineering  spreadsheets\n",
      "4     lisa  engineering        coding\n",
      "5     lisa  engineering  spreadsheets\n",
      "6      sue           HR  organization\n",
      "7      sue           HR         linux\n",
      "  employee        group  hire_year supervisor        skills\n",
      "0      bob   accounting       2008       carl          math\n",
      "1      bob   accounting       2008       carl  spreadsheets\n",
      "2     jake  engineering       2012      guido        coding\n",
      "3     jake  engineering       2012      guido  spreadsheets\n",
      "4     lisa  engineering       2004      guido        coding\n",
      "5     lisa  engineering       2004      guido  spreadsheets\n",
      "6      sue           HR       2018      steve  organization\n",
      "7      sue           HR       2018      steve         linux\n"
     ]
    }
   ],
   "source": [
    "# 多对多连接\n",
    "df6 = pd.DataFrame({'group': ['accounting', 'accounting', 'engineering', 'engineering', 'HR', 'HR'], \n",
    "                   'skills': ['math', 'spreadsheets', 'coding', 'spreadsheets', 'organization','linux']})\n",
    "print(df6)\n",
    "df7 = pd.merge(df1, df6)\n",
    "print(df7)\n",
    "print(pd.merge(df5, df6))"
   ]
  },
  {
   "cell_type": "code",
   "execution_count": 90,
   "metadata": {},
   "outputs": [
    {
     "name": "stdout",
     "output_type": "stream",
     "text": [
      "  employee        group  hire_year\n",
      "0      bob   accounting       2008\n",
      "1     jake  engineering       2012\n",
      "2     lisa  engineering       2004\n",
      "3      sue           HR       2018\n"
     ]
    }
   ],
   "source": [
    "print(pd.merge(df1, df2, on='employee'))"
   ]
  },
  {
   "cell_type": "code",
   "execution_count": 97,
   "metadata": {},
   "outputs": [
    {
     "name": "stdout",
     "output_type": "stream",
     "text": [
      "  employee        group  salary\n",
      "0      bob   accounting  200800\n",
      "1     jake  engineering   20122\n",
      "2     lisa  engineering   80000\n",
      "3      sue           HR   92018\n"
     ]
    }
   ],
   "source": [
    "df8 = pd.DataFrame({'name': ['lisa', 'bob', 'jake', 'sue'], \n",
    "                    'salary': [80000, 200800, 20122, 92018]})\n",
    "df9 = pd.merge(df1, df8, left_on='employee', right_on='name').drop('name', axis=1)\n",
    "print(df9)"
   ]
  },
  {
   "cell_type": "code",
   "execution_count": 98,
   "metadata": {},
   "outputs": [
    {
     "name": "stdout",
     "output_type": "stream",
     "text": [
      "                group  hire_year\n",
      "employee                        \n",
      "bob        accounting       2008\n",
      "jake      engineering       2012\n",
      "lisa      engineering       2004\n",
      "sue                HR       2018\n"
     ]
    }
   ],
   "source": [
    "df1a = df1.set_index('employee')\n",
    "df2a = df2.set_index('employee')\n",
    "print(pd.merge(df1a, df2a, left_index=True, right_index=True))"
   ]
  },
  {
   "cell_type": "code",
   "execution_count": 99,
   "metadata": {},
   "outputs": [
    {
     "name": "stdout",
     "output_type": "stream",
     "text": [
      "                group  hire_year\n",
      "employee                        \n",
      "bob        accounting       2008\n",
      "jake      engineering       2012\n",
      "lisa      engineering       2004\n",
      "sue                HR       2018\n"
     ]
    }
   ],
   "source": [
    "print(df1a.join(df2a))"
   ]
  },
  {
   "cell_type": "code",
   "execution_count": 100,
   "metadata": {},
   "outputs": [
    {
     "name": "stdout",
     "output_type": "stream",
     "text": [
      "     name   food drink\n",
      "0   peter   fist   NaN\n",
      "1    paul  beans   NaN\n",
      "2    mary  bread  wine\n",
      "3  joseph    NaN  beer\n",
      "   name   food drink\n",
      "0  mary  bread  wine\n"
     ]
    }
   ],
   "source": [
    "df10 = pd.DataFrame({'name': ['peter', 'paul', 'mary'], \n",
    "                   'food': ['fist', 'beans', 'bread']},\n",
    "                   columns=['name', 'food'])\n",
    "df11 = pd.DataFrame({'name': ['mary', 'joseph'],\n",
    "                   'drink': ['wine', 'beer']},\n",
    "                   columns=['name', 'drink'])\n",
    "print(pd.merge(df10, df11, how='outer'))\n",
    "print(pd.merge(df10, df11, how='inner'))"
   ]
  },
  {
   "cell_type": "code",
   "execution_count": null,
   "metadata": {},
   "outputs": [],
   "source": []
  },
  {
   "cell_type": "code",
   "execution_count": null,
   "metadata": {},
   "outputs": [],
   "source": []
  }
 ],
 "metadata": {
  "kernelspec": {
   "display_name": "Python 3",
   "language": "python",
   "name": "python3"
  },
  "language_info": {
   "codemirror_mode": {
    "name": "ipython",
    "version": 3
   },
   "file_extension": ".py",
   "mimetype": "text/x-python",
   "name": "python",
   "nbconvert_exporter": "python",
   "pygments_lexer": "ipython3",
   "version": "3.6.5"
  }
 },
 "nbformat": 4,
 "nbformat_minor": 2
}
