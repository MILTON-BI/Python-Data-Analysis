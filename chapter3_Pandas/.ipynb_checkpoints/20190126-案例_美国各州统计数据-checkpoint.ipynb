{
 "cells": [
  {
   "cell_type": "code",
   "execution_count": 2,
   "metadata": {},
   "outputs": [
    {
     "name": "stdout",
     "output_type": "stream",
     "text": [
      "----------------------------------------------------------------\n",
      "----------------------------------------------------------------\n"
     ]
    }
   ],
   "source": [
    "import numpy as np\n",
    "import pandas as pd\n",
    "pop = pd.read_csv('../data/state-population.csv')\n",
    "areas = pd.read_csv('../data/state-areas.csv')\n",
    "abbrevs = pd.read_csv('../data/state-abbrevs.csv')\n",
    "print(pop)    # [2544 rows x 4 columns]\n",
    "print('----------------------------------------------------------------')\n",
    "# print(areas)\n",
    "print('----------------------------------------------------------------')\n",
    "print(abbrevs)"
   ]
  },
  {
   "cell_type": "code",
   "execution_count": 11,
   "metadata": {},
   "outputs": [
    {
     "name": "stdout",
     "output_type": "stream",
     "text": [
      "  state/region     ages  year  population    state\n",
      "0           AL  under18  2012   1117489.0  Alabama\n",
      "1           AL    total  2012   4817528.0  Alabama\n",
      "2           AL  under18  2010   1130966.0  Alabama\n",
      "3           AL    total  2010   4785570.0  Alabama\n",
      "4           AL  under18  2011   1125763.0  Alabama\n",
      "state/region    False\n",
      "ages            False\n",
      "year            False\n",
      "population       True\n",
      "state            True\n",
      "dtype: bool\n"
     ]
    }
   ],
   "source": [
    "pop1 = pd.merge(pop, abbrevs, how='outer', left_on='state/region', right_on='abbreviation')\n",
    "# print(pop1)\n",
    "#      state/region     ages  year   population    state abbreviation\n",
    "# 0              AL  under18  2012    1117489.0  Alabama           AL\n",
    "# 1              AL    total  2012    4817528.0  Alabama           AL\n",
    "# 2              AL  under18  2010    1130966.0  Alabama           AL\n",
    "# 3              AL    total  2010    4785570.0  Alabama           AL\n",
    "# 4              AL  under18  2011    1125763.0  Alabama           AL\n",
    "\n",
    "# 丢弃重复信息\n",
    "pop1 = pop1.drop('abbreviation', axis=1)\n",
    "print(pop1.head())\n",
    "# 检查是否有丢失值\n",
    "print(pop1.isnull().any())"
   ]
  },
  {
   "cell_type": "code",
   "execution_count": 15,
   "metadata": {},
   "outputs": [
    {
     "name": "stdout",
     "output_type": "stream",
     "text": [
      "     state/region     ages  year  population state\n",
      "2448           PR  under18  1990         NaN   NaN\n",
      "2449           PR    total  1990         NaN   NaN\n",
      "2450           PR    total  1991         NaN   NaN\n",
      "2451           PR  under18  1991         NaN   NaN\n",
      "2452           PR    total  1993         NaN   NaN\n"
     ]
    }
   ],
   "source": [
    "# 查看丢失值\n",
    "print(pop1[pop1['population'].isnull()].head())"
   ]
  },
  {
   "cell_type": "code",
   "execution_count": 19,
   "metadata": {},
   "outputs": [
    {
     "name": "stdout",
     "output_type": "stream",
     "text": [
      "['PR' 'USA']\n"
     ]
    }
   ],
   "source": [
    "print(pop1.loc[pop1['state'].isnull(), 'state/region'].unique())"
   ]
  },
  {
   "cell_type": "code",
   "execution_count": 20,
   "metadata": {},
   "outputs": [
    {
     "name": "stdout",
     "output_type": "stream",
     "text": [
      "state/region    False\n",
      "ages            False\n",
      "year            False\n",
      "population       True\n",
      "state           False\n",
      "dtype: bool\n"
     ]
    }
   ],
   "source": [
    "pop1.loc[pop1['state/region']=='PR', 'state'] = 'Puerto Rico'\n",
    "pop1.loc[pop1['state/region']=='USA', 'state'] = 'United State'\n",
    "print(pop1.isnull().any())"
   ]
  },
  {
   "cell_type": "code",
   "execution_count": 21,
   "metadata": {},
   "outputs": [
    {
     "name": "stdout",
     "output_type": "stream",
     "text": [
      "     state/region     ages  year   population         state  area (sq. mi)\n",
      "0              AL  under18  2012    1117489.0       Alabama        52423.0\n",
      "1              AL    total  2012    4817528.0       Alabama        52423.0\n",
      "2              AL  under18  2010    1130966.0       Alabama        52423.0\n",
      "3              AL    total  2010    4785570.0       Alabama        52423.0\n",
      "4              AL  under18  2011    1125763.0       Alabama        52423.0\n",
      "5              AL    total  2011    4801627.0       Alabama        52423.0\n",
      "6              AL    total  2009    4757938.0       Alabama        52423.0\n",
      "7              AL  under18  2009    1134192.0       Alabama        52423.0\n",
      "8              AL  under18  2013    1111481.0       Alabama        52423.0\n",
      "9              AL    total  2013    4833722.0       Alabama        52423.0\n",
      "10             AL    total  2007    4672840.0       Alabama        52423.0\n",
      "11             AL  under18  2007    1132296.0       Alabama        52423.0\n",
      "12             AL    total  2008    4718206.0       Alabama        52423.0\n",
      "13             AL  under18  2008    1134927.0       Alabama        52423.0\n",
      "14             AL    total  2005    4569805.0       Alabama        52423.0\n",
      "15             AL  under18  2005    1117229.0       Alabama        52423.0\n",
      "16             AL    total  2006    4628981.0       Alabama        52423.0\n",
      "17             AL  under18  2006    1126798.0       Alabama        52423.0\n",
      "18             AL    total  2004    4530729.0       Alabama        52423.0\n",
      "19             AL  under18  2004    1113662.0       Alabama        52423.0\n",
      "20             AL    total  2003    4503491.0       Alabama        52423.0\n",
      "21             AL  under18  2003    1113083.0       Alabama        52423.0\n",
      "22             AL    total  2001    4467634.0       Alabama        52423.0\n",
      "23             AL  under18  2001    1120409.0       Alabama        52423.0\n",
      "24             AL    total  2002    4480089.0       Alabama        52423.0\n",
      "25             AL  under18  2002    1116590.0       Alabama        52423.0\n",
      "26             AL  under18  1999    1121287.0       Alabama        52423.0\n",
      "27             AL    total  1999    4430141.0       Alabama        52423.0\n",
      "28             AL    total  2000    4452173.0       Alabama        52423.0\n",
      "29             AL  under18  2000    1122273.0       Alabama        52423.0\n",
      "...           ...      ...   ...          ...           ...            ...\n",
      "2514          USA  under18  1999   71946051.0  United State            NaN\n",
      "2515          USA    total  2000  282162411.0  United State            NaN\n",
      "2516          USA  under18  2000   72376189.0  United State            NaN\n",
      "2517          USA    total  1999  279040181.0  United State            NaN\n",
      "2518          USA    total  2001  284968955.0  United State            NaN\n",
      "2519          USA  under18  2001   72671175.0  United State            NaN\n",
      "2520          USA    total  2002  287625193.0  United State            NaN\n",
      "2521          USA  under18  2002   72936457.0  United State            NaN\n",
      "2522          USA    total  2003  290107933.0  United State            NaN\n",
      "2523          USA  under18  2003   73100758.0  United State            NaN\n",
      "2524          USA    total  2004  292805298.0  United State            NaN\n",
      "2525          USA  under18  2004   73297735.0  United State            NaN\n",
      "2526          USA    total  2005  295516599.0  United State            NaN\n",
      "2527          USA  under18  2005   73523669.0  United State            NaN\n",
      "2528          USA    total  2006  298379912.0  United State            NaN\n",
      "2529          USA  under18  2006   73757714.0  United State            NaN\n",
      "2530          USA    total  2007  301231207.0  United State            NaN\n",
      "2531          USA  under18  2007   74019405.0  United State            NaN\n",
      "2532          USA    total  2008  304093966.0  United State            NaN\n",
      "2533          USA  under18  2008   74104602.0  United State            NaN\n",
      "2534          USA  under18  2013   73585872.0  United State            NaN\n",
      "2535          USA    total  2013  316128839.0  United State            NaN\n",
      "2536          USA    total  2009  306771529.0  United State            NaN\n",
      "2537          USA  under18  2009   74134167.0  United State            NaN\n",
      "2538          USA  under18  2010   74119556.0  United State            NaN\n",
      "2539          USA    total  2010  309326295.0  United State            NaN\n",
      "2540          USA  under18  2011   73902222.0  United State            NaN\n",
      "2541          USA    total  2011  311582564.0  United State            NaN\n",
      "2542          USA  under18  2012   73708179.0  United State            NaN\n",
      "2543          USA    total  2012  313873685.0  United State            NaN\n",
      "\n",
      "[2544 rows x 6 columns]\n"
     ]
    }
   ],
   "source": [
    "pop_merged_all = pd.merge(pop1, areas, on='state', how='left')\n",
    "print(pop_merged_all)"
   ]
  },
  {
   "cell_type": "code",
   "execution_count": 26,
   "metadata": {},
   "outputs": [
    {
     "name": "stdout",
     "output_type": "stream",
     "text": [
      "state/region     False\n",
      "ages             False\n",
      "year             False\n",
      "population       False\n",
      "state            False\n",
      "area (sq. mi)    False\n",
      "dtype: bool\n"
     ]
    }
   ],
   "source": [
    "# 检查缺失值\n",
    "# print(pop_merged_all.isnull().any())\n",
    "# print(pop_merged_all[pop_merged_all['area (sq. mi)'].isnull()])\n",
    "pop_merged_all.dropna(inplace=True, axis=0)\n",
    "print(pop_merged_all.isnull().any())"
   ]
  },
  {
   "cell_type": "code",
   "execution_count": 28,
   "metadata": {},
   "outputs": [
    {
     "name": "stdout",
     "output_type": "stream",
     "text": [
      "  state/region     ages  year  population    state  area (sq. mi)\n",
      "0           AL  under18  2012   1117489.0  Alabama        52423.0\n",
      "1           AL    total  2012   4817528.0  Alabama        52423.0\n",
      "2           AL  under18  2010   1130966.0  Alabama        52423.0\n",
      "3           AL    total  2010   4785570.0  Alabama        52423.0\n",
      "4           AL  under18  2011   1125763.0  Alabama        52423.0\n"
     ]
    }
   ],
   "source": [
    "print(pop_merged_all.head())\n",
    "pop_merged_all.to_csv('../outputfiles/每个各州人口和面积数据更新final.csv')"
   ]
  },
  {
   "cell_type": "code",
   "execution_count": 47,
   "metadata": {},
   "outputs": [
    {
     "name": "stdout",
     "output_type": "stream",
     "text": [
      "    state/region   ages  year  population       state  area (sq. mi)\n",
      "3             AL  total  2010   4785570.0     Alabama        52423.0\n",
      "91            AK  total  2010    713868.0      Alaska       656425.0\n",
      "101           AZ  total  2010   6408790.0     Arizona       114006.0\n",
      "189           AR  total  2010   2922280.0    Arkansas        53182.0\n",
      "197           CA  total  2010  37333601.0  California       163707.0\n"
     ]
    }
   ],
   "source": [
    "data2010 = pop_merged_all.query(\"ages=='total' & year==2010\")\n",
    "print(data2010.head())"
   ]
  },
  {
   "cell_type": "code",
   "execution_count": 48,
   "metadata": {},
   "outputs": [
    {
     "name": "stdout",
     "output_type": "stream",
     "text": [
      "           state/region   ages  year  population  area (sq. mi)\n",
      "state                                                          \n",
      "Alabama              AL  total  2010   4785570.0        52423.0\n",
      "Alaska               AK  total  2010    713868.0       656425.0\n",
      "Arizona              AZ  total  2010   6408790.0       114006.0\n",
      "Arkansas             AR  total  2010   2922280.0        53182.0\n",
      "California           CA  total  2010  37333601.0       163707.0\n"
     ]
    }
   ],
   "source": [
    "# 重置索引\n",
    "data2010.set_index('state', inplace=True)\n",
    "print(data2010.head())"
   ]
  },
  {
   "cell_type": "code",
   "execution_count": 52,
   "metadata": {},
   "outputs": [
    {
     "name": "stdout",
     "output_type": "stream",
     "text": [
      "state\n",
      "District of Columbia    8898.897059\n",
      "Puerto Rico             1058.665149\n",
      "New Jersey              1009.253268\n",
      "Rhode Island             681.339159\n",
      "Connecticut              645.600649\n",
      "dtype: float64\n",
      "state\n",
      "South Dakota    10.583512\n",
      "North Dakota     9.537565\n",
      "Montana          6.736171\n",
      "Wyoming          5.768079\n",
      "Alaska           1.087509\n",
      "dtype: float64\n"
     ]
    }
   ],
   "source": [
    "density = data2010['population']/data2010['area (sq. mi)']\n",
    "density.sort_values(ascending=False, inplace=True)\n",
    "print(density.head())\n",
    "print(density.tail())"
   ]
  },
  {
   "cell_type": "code",
   "execution_count": null,
   "metadata": {},
   "outputs": [],
   "source": []
  },
  {
   "cell_type": "code",
   "execution_count": null,
   "metadata": {},
   "outputs": [],
   "source": []
  },
  {
   "cell_type": "code",
   "execution_count": null,
   "metadata": {},
   "outputs": [],
   "source": []
  },
  {
   "cell_type": "code",
   "execution_count": null,
   "metadata": {},
   "outputs": [],
   "source": []
  },
  {
   "cell_type": "code",
   "execution_count": null,
   "metadata": {},
   "outputs": [],
   "source": []
  }
 ],
 "metadata": {
  "kernelspec": {
   "display_name": "Python 3",
   "language": "python",
   "name": "python3"
  },
  "language_info": {
   "codemirror_mode": {
    "name": "ipython",
    "version": 3
   },
   "file_extension": ".py",
   "mimetype": "text/x-python",
   "name": "python",
   "nbconvert_exporter": "python",
   "pygments_lexer": "ipython3",
   "version": "3.6.5"
  }
 },
 "nbformat": 4,
 "nbformat_minor": 2
}
