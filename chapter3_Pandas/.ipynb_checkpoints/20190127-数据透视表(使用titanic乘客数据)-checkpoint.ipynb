{
 "cells": [
  {
   "cell_type": "code",
   "execution_count": 1,
   "metadata": {},
   "outputs": [
    {
     "name": "stdout",
     "output_type": "stream",
     "text": [
      "   survived  pclass     sex   age  sibsp  parch     fare embarked  class  \\\n",
      "0         0       3    male  22.0      1      0   7.2500        S  Third   \n",
      "1         1       1  female  38.0      1      0  71.2833        C  First   \n",
      "2         1       3  female  26.0      0      0   7.9250        S  Third   \n",
      "3         1       1  female  35.0      1      0  53.1000        S  First   \n",
      "4         0       3    male  35.0      0      0   8.0500        S  Third   \n",
      "\n",
      "     who  adult_male deck  embark_town alive  alone  \n",
      "0    man        True  NaN  Southampton    no  False  \n",
      "1  woman       False    C    Cherbourg   yes  False  \n",
      "2  woman       False  NaN  Southampton   yes   True  \n",
      "3  woman       False    C  Southampton   yes  False  \n",
      "4    man        True  NaN  Southampton    no   True  \n"
     ]
    }
   ],
   "source": [
    "import pandas as pd\n",
    "import numpy as np\n",
    "import seaborn as sns\n",
    "titanic = sns.load_dataset('titanic', engine='python')\n",
    "print(titanic.head())"
   ]
  },
  {
   "cell_type": "code",
   "execution_count": 2,
   "metadata": {},
   "outputs": [
    {
     "name": "stdout",
     "output_type": "stream",
     "text": [
      "sex\n",
      "female    0.742038\n",
      "male      0.188908\n",
      "Name: survived, dtype: float64\n"
     ]
    }
   ],
   "source": [
    "print(titanic.groupby('sex')['survived'].mean())"
   ]
  },
  {
   "cell_type": "code",
   "execution_count": 4,
   "metadata": {},
   "outputs": [
    {
     "name": "stdout",
     "output_type": "stream",
     "text": [
      "class      First    Second     Third\n",
      "sex                                 \n",
      "female  0.968085  0.921053  0.500000\n",
      "male    0.368852  0.157407  0.135447\n"
     ]
    }
   ],
   "source": [
    "print(titanic.groupby(['sex','class'])['survived'].aggregate('mean').unstack())"
   ]
  },
  {
   "cell_type": "code",
   "execution_count": 5,
   "metadata": {},
   "outputs": [
    {
     "name": "stdout",
     "output_type": "stream",
     "text": [
      "class      First    Second     Third\n",
      "sex                                 \n",
      "female  0.968085  0.921053  0.500000\n",
      "male    0.368852  0.157407  0.135447\n"
     ]
    }
   ],
   "source": [
    "print(titanic.pivot_table('survived', index='sex', columns='class'))"
   ]
  },
  {
   "cell_type": "code",
   "execution_count": 28,
   "metadata": {},
   "outputs": [
    {
     "name": "stdout",
     "output_type": "stream",
     "text": [
      "class               First    Second     Third\n",
      "sex    age                                   \n",
      "female (0, 18]   0.909091  1.000000  0.511628\n",
      "       (18, 35]  0.972222  0.925000  0.500000\n",
      "       (35, 80]  0.973684  0.850000  0.200000\n",
      "male   (0, 18]   0.800000  0.600000  0.215686\n",
      "       (18, 35]  0.500000  0.074074  0.155844\n",
      "       (35, 80]  0.318182  0.066667  0.062500\n"
     ]
    }
   ],
   "source": [
    "# 多级透视表\n",
    "age = pd.cut(titanic['age'], (0, 18, 35, 80))\n",
    "# print(age)\n",
    "print(titanic.pivot_table('survived', index=['sex', age], columns='class', dropna=False))"
   ]
  },
  {
   "cell_type": "code",
   "execution_count": 31,
   "metadata": {},
   "outputs": [
    {
     "name": "stdout",
     "output_type": "stream",
     "text": [
      "class                     First                                        Second  \\\n",
      "fare            (-0.001, 8.662] (8.662, 26.0] (26.0, 512.329] (-0.001, 8.662]   \n",
      "sex    age                                                                      \n",
      "female (0, 18]              NaN           NaN        0.909091             NaN   \n",
      "       (18, 35]             NaN           NaN        0.972222             NaN   \n",
      "       (35, 80]             NaN           1.0        0.972222             NaN   \n",
      "male   (0, 18]              NaN           NaN        0.800000             NaN   \n",
      "       (18, 35]             0.0           NaN        0.517241             NaN   \n",
      "       (35, 80]             0.0           0.0        0.344262             NaN   \n",
      "\n",
      "class                                                   Third                \\\n",
      "fare            (8.662, 26.0] (26.0, 512.329] (-0.001, 8.662] (8.662, 26.0]   \n",
      "sex    age                                                                    \n",
      "female (0, 18]       1.000000             1.0        0.700000      0.583333   \n",
      "       (18, 35]      0.906250             1.0        0.550000      0.478261   \n",
      "       (35, 80]      0.823529             1.0        0.000000      0.285714   \n",
      "male   (0, 18]       0.500000             0.8        0.166667      0.500000   \n",
      "       (18, 35]      0.093023             0.0        0.142857      0.129032   \n",
      "       (35, 80]      0.076923             0.0        0.078947      0.000000   \n",
      "\n",
      "class                            \n",
      "fare            (26.0, 512.329]  \n",
      "sex    age                       \n",
      "female (0, 18]         0.111111  \n",
      "       (18, 35]        0.000000  \n",
      "       (35, 80]        0.142857  \n",
      "male   (0, 18]         0.052632  \n",
      "       (18, 35]        0.750000  \n",
      "       (35, 80]        0.000000  \n"
     ]
    }
   ],
   "source": [
    "fare = pd.qcut(titanic['fare'], 3)\n",
    "print(titanic.pivot_table('survived', index=['sex', age], columns=['class', fare], dropna=False))"
   ]
  },
  {
   "cell_type": "code",
   "execution_count": null,
   "metadata": {},
   "outputs": [],
   "source": []
  },
  {
   "cell_type": "code",
   "execution_count": null,
   "metadata": {},
   "outputs": [],
   "source": []
  },
  {
   "cell_type": "code",
   "execution_count": null,
   "metadata": {},
   "outputs": [],
   "source": []
  },
  {
   "cell_type": "code",
   "execution_count": null,
   "metadata": {},
   "outputs": [],
   "source": []
  }
 ],
 "metadata": {
  "kernelspec": {
   "display_name": "Python 3",
   "language": "python",
   "name": "python3"
  },
  "language_info": {
   "codemirror_mode": {
    "name": "ipython",
    "version": 3
   },
   "file_extension": ".py",
   "mimetype": "text/x-python",
   "name": "python",
   "nbconvert_exporter": "python",
   "pygments_lexer": "ipython3",
   "version": "3.6.5"
  }
 },
 "nbformat": 4,
 "nbformat_minor": 2
}
