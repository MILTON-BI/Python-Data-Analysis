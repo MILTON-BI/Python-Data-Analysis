{
 "cells": [
  {
   "cell_type": "code",
   "execution_count": 7,
   "metadata": {},
   "outputs": [
    {
     "name": "stdout",
     "output_type": "stream",
     "text": [
      "0      Peter\n",
      "1       Paul\n",
      "2       None\n",
      "3       Mary\n",
      "4    Jupyter\n",
      "dtype: object\n"
     ]
    }
   ],
   "source": [
    "import numpy as np\n",
    "import pandas as pd\n",
    "\n",
    "names = pd.Series(['peter','Paul',None,'mARY','JUpytER'])\n",
    "print(names.str.capitalize())   # str.capitalize()首字母大写\n",
    "names.str."
   ]
  },
  {
   "cell_type": "code",
   "execution_count": 16,
   "metadata": {},
   "outputs": [
    {
     "name": "stdout",
     "output_type": "stream",
     "text": [
      "0    graham chapman\n",
      "1       john cheese\n",
      "2     terry gilliam\n",
      "3         eric idle\n",
      "4       terry jones\n",
      "5     michael plain\n",
      "dtype: object\n",
      "0    14\n",
      "1    11\n",
      "2    13\n",
      "3     9\n",
      "4    11\n",
      "5    13\n",
      "dtype: int64\n",
      "0    False\n",
      "1    False\n",
      "2     True\n",
      "3    False\n",
      "4     True\n",
      "5    False\n",
      "dtype: bool\n",
      "0    [Graham, Chapman]\n",
      "1       [John, Cheese]\n",
      "2     [Terry, Gilliam]\n",
      "3         [Eric, Idle]\n",
      "4       [Terry, Jones]\n",
      "5     [Michael, Plain]\n",
      "dtype: object\n"
     ]
    }
   ],
   "source": [
    "monte = pd.Series(['Graham Chapman', 'John Cheese', 'Terry Gilliam', 'Eric Idle', 'Terry Jones', 'Michael Plain'])\n",
    "print(monte.str.lower())\n",
    "print(monte.str.len())\n",
    "print(monte.str.startswith('T'))\n",
    "print(monte.str.split())"
   ]
  },
  {
   "cell_type": "code",
   "execution_count": 18,
   "metadata": {},
   "outputs": [
    {
     "name": "stdout",
     "output_type": "stream",
     "text": [
      "         0\n",
      "0   Graham\n",
      "1     John\n",
      "2    Terry\n",
      "3     Eric\n",
      "4    Terry\n",
      "5  Michael\n",
      "0    [Graham Chapman]\n",
      "1                  []\n",
      "2     [Terry Gilliam]\n",
      "3                  []\n",
      "4       [Terry Jones]\n",
      "5     [Michael Plain]\n",
      "dtype: object\n"
     ]
    }
   ],
   "source": [
    "print(monte.str.extract('([A-Za-z]+)'))\n",
    "print(monte.str.findall(r'^[^AEIOU].*[^aeiou]$'))"
   ]
  },
  {
   "cell_type": "code",
   "execution_count": 23,
   "metadata": {},
   "outputs": [
    {
     "name": "stdout",
     "output_type": "stream",
     "text": [
      "0    Grah\n",
      "1    John\n",
      "2    Terr\n",
      "3    Eric\n",
      "4    Terr\n",
      "5    Mich\n",
      "dtype: object\n",
      "0    Chapman\n",
      "1     Cheese\n",
      "2    Gilliam\n",
      "3       Idle\n",
      "4      Jones\n",
      "5      Plain\n",
      "dtype: object\n"
     ]
    }
   ],
   "source": [
    "print(monte.str.slice(0,4))\n",
    "print(monte.str.split().str[-1])"
   ]
  },
  {
   "cell_type": "code",
   "execution_count": 26,
   "metadata": {},
   "outputs": [
    {
     "name": "stdout",
     "output_type": "stream",
     "text": [
      "             name   info\n",
      "0  Graham Chapman  B|C|D\n",
      "1     John Cheese    B|D\n",
      "2   Terry Gilliam    A|C\n",
      "3       Eric Idle    B|D\n",
      "4     Terry Jones    B|C\n",
      "5   Michael Plain  B|C|D\n",
      "   A  B  C  D\n",
      "0  0  1  1  1\n",
      "1  0  1  0  1\n",
      "2  1  0  1  0\n",
      "3  0  1  0  1\n",
      "4  0  1  1  0\n",
      "5  0  1  1  1\n"
     ]
    }
   ],
   "source": [
    "full_monte = pd.DataFrame({'name': monte,\n",
    "                          'info': ['B|C|D', 'B|D', 'A|C', 'B|D', 'B|C', 'B|C|D']})\n",
    "print(full_monte)\n",
    "print(full_monte['info'].str.get_dummies('|'))"
   ]
  },
  {
   "cell_type": "code",
   "execution_count": 33,
   "metadata": {},
   "outputs": [],
   "source": [
    "# 食谱数据库）（无法下载）\n",
    "# ！curl -O http://openrecipes.s3.amazonaws.com/recipeitems-latest.json.gz\n",
    "# !gunzip recipeitems-latest.json.gz"
   ]
  },
  {
   "cell_type": "code",
   "execution_count": null,
   "metadata": {},
   "outputs": [],
   "source": []
  },
  {
   "cell_type": "code",
   "execution_count": null,
   "metadata": {},
   "outputs": [],
   "source": []
  },
  {
   "cell_type": "code",
   "execution_count": null,
   "metadata": {},
   "outputs": [],
   "source": []
  },
  {
   "cell_type": "code",
   "execution_count": null,
   "metadata": {},
   "outputs": [],
   "source": []
  }
 ],
 "metadata": {
  "kernelspec": {
   "display_name": "Python 3",
   "language": "python",
   "name": "python3"
  },
  "language_info": {
   "codemirror_mode": {
    "name": "ipython",
    "version": 3
   },
   "file_extension": ".py",
   "mimetype": "text/x-python",
   "name": "python",
   "nbconvert_exporter": "python",
   "pygments_lexer": "ipython3",
   "version": "3.6.5"
  }
 },
 "nbformat": 4,
 "nbformat_minor": 2
}
