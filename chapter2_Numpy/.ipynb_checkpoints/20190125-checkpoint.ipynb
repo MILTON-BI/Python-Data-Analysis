{
 "cells": [
  {
   "cell_type": "code",
   "execution_count": 1,
   "metadata": {},
   "outputs": [
    {
     "name": "stdout",
     "output_type": "stream",
     "text": [
      "[66 42 63 97 61  6 38  6 62 86]\n"
     ]
    }
   ],
   "source": [
    "import numpy as np\n",
    "arr = np.random.randint(100, size=10)\n",
    "print(arr)"
   ]
  },
  {
   "cell_type": "code",
   "execution_count": 2,
   "metadata": {},
   "outputs": [
    {
     "name": "stdout",
     "output_type": "stream",
     "text": [
      "[66 61 38]\n"
     ]
    }
   ],
   "source": [
    "print(arr[[0, 4, 6]])"
   ]
  },
  {
   "cell_type": "code",
   "execution_count": 3,
   "metadata": {},
   "outputs": [
    {
     "name": "stdout",
     "output_type": "stream",
     "text": [
      "66 61 38\n"
     ]
    }
   ],
   "source": [
    "print(arr[0], arr[4], arr[6])"
   ]
  },
  {
   "cell_type": "code",
   "execution_count": 7,
   "metadata": {},
   "outputs": [
    {
     "name": "stdout",
     "output_type": "stream",
     "text": [
      "[[42 97]\n",
      " [97 86]]\n"
     ]
    }
   ],
   "source": [
    "idx = np. array([[1,3],[3,9]])\n",
    "print(arr[idx])"
   ]
  },
  {
   "cell_type": "code",
   "execution_count": 9,
   "metadata": {},
   "outputs": [
    {
     "name": "stdout",
     "output_type": "stream",
     "text": [
      "[[ 0  1  2  3]\n",
      " [ 4  5  6  7]\n",
      " [ 8  9 10 11]]\n",
      "[1 7 8]\n"
     ]
    }
   ],
   "source": [
    "x = np.arange(12).reshape((3,4))\n",
    "print(x)\n",
    "row = np.array([0,1,2])\n",
    "col = np.array([1,3,0])\n",
    "print(x[row, col])"
   ]
  },
  {
   "cell_type": "code",
   "execution_count": 11,
   "metadata": {},
   "outputs": [
    {
     "name": "stdout",
     "output_type": "stream",
     "text": [
      "[[ 1  0  3]\n",
      " [ 5  4  7]\n",
      " [ 9  8 11]]\n"
     ]
    }
   ],
   "source": [
    "print(x[:, [1,0,3]])"
   ]
  },
  {
   "cell_type": "code",
   "execution_count": 13,
   "metadata": {},
   "outputs": [
    {
     "name": "stdout",
     "output_type": "stream",
     "text": [
      "[[ 0  2]\n",
      " [ 4  6]\n",
      " [ 8 10]]\n"
     ]
    }
   ],
   "source": [
    "mask = np.array([1,0,1,0], dtype=bool)\n",
    "print(x[row[:, np.newaxis], mask]) # 先索引第0,1,2行,然后在行内匹配为true的元素（这里列索引是0，2的元素）"
   ]
  },
  {
   "cell_type": "code",
   "execution_count": 24,
   "metadata": {},
   "outputs": [
    {
     "name": "stdout",
     "output_type": "stream",
     "text": [
      "(100, 2)\n",
      "[[-0.12189669 -2.14960661]\n",
      " [-0.66204056 -0.13897409]\n",
      " [-1.44687603 -1.71050758]\n",
      " [-0.61138742 -2.74194625]\n",
      " [ 0.26696548 -0.36158272]\n",
      " [-0.83801175 -1.51596848]\n",
      " [-0.91685815 -1.02717107]\n",
      " [-0.11160564  2.26764571]\n",
      " [ 0.21775727 -0.11480983]\n",
      " [-0.47699129 -2.03824097]\n",
      " [-1.70188145 -1.14200506]\n",
      " [ 0.74715455  0.3727236 ]\n",
      " [-1.38244461 -1.11802319]\n",
      " [ 0.09848463  0.44495047]\n",
      " [ 0.37743854  2.97796512]\n",
      " [ 0.13079884  0.86342237]\n",
      " [-1.28799311 -2.40889013]\n",
      " [-0.01658456 -1.23812348]\n",
      " [ 0.76242044 -0.69655829]\n",
      " [-0.27419143 -1.3431523 ]\n",
      " [-0.61132463 -1.5878299 ]\n",
      " [-0.996445   -2.99527643]\n",
      " [ 0.65802528  1.53028616]\n",
      " [-0.61697251 -0.17279646]\n",
      " [ 0.01774175  1.03777347]\n",
      " [ 0.77638264  0.93844238]\n",
      " [-1.41363658 -2.88152679]\n",
      " [ 1.30427438  2.25162422]\n",
      " [-0.3204641  -1.41190244]\n",
      " [-1.65928905 -1.62223719]\n",
      " [-0.84862521 -2.80474625]\n",
      " [ 4.63270469  7.48865238]\n",
      " [ 0.19140277 -0.06449437]\n",
      " [-0.52311859 -2.47144058]\n",
      " [-0.5705875   0.24616639]\n",
      " [-0.25350037 -0.18099068]\n",
      " [ 1.8333215   3.40246425]\n",
      " [-0.18828927 -2.72426589]\n",
      " [ 0.14651729  2.87773437]\n",
      " [-0.5101789  -0.09304077]\n",
      " [ 0.46855628  1.40902477]\n",
      " [-0.25369094 -0.90781724]\n",
      " [ 0.09404363  0.98442209]\n",
      " [ 1.17206796  0.73869526]\n",
      " [-1.74366751 -3.00019498]\n",
      " [ 0.08515264  0.31698568]\n",
      " [ 0.09788044 -0.23690274]\n",
      " [-0.17252464  0.97233423]\n",
      " [-1.72993497 -2.56059242]\n",
      " [ 0.57017126  2.55484738]\n",
      " [ 0.17653383  0.64412166]\n",
      " [-1.42068652 -0.819043  ]\n",
      " [-1.04352614 -1.49611592]\n",
      " [ 0.69277367  1.43771839]\n",
      " [-0.50811298 -0.74439563]\n",
      " [ 0.55866605  2.33670691]\n",
      " [-0.73478438 -1.31416504]\n",
      " [ 0.82223551  2.09340394]\n",
      " [ 0.04645817  1.02629268]\n",
      " [-0.1464078   1.23717104]\n",
      " [ 0.92333121  2.00505905]\n",
      " [-1.23683786 -1.6297964 ]\n",
      " [ 0.7729515  -0.20317383]\n",
      " [-1.44549248 -0.15279022]\n",
      " [-0.33285392  0.30526671]\n",
      " [-0.39884763 -1.25754387]\n",
      " [-0.57573063 -1.80107626]\n",
      " [-0.302715    0.99638875]\n",
      " [-0.06914706 -0.76250391]\n",
      " [ 0.18609761  0.67782338]\n",
      " [-1.04991018 -2.49306662]\n",
      " [ 0.14719808  3.07193748]\n",
      " [ 0.47919952  0.23855338]\n",
      " [-0.17706507 -0.09177752]\n",
      " [ 0.3858718   2.7880286 ]\n",
      " [-0.04757415 -2.10803302]\n",
      " [-0.12674094  0.24134463]\n",
      " [-1.82109863 -1.83474134]\n",
      " [-0.21674002  0.2978697 ]\n",
      " [ 0.43493892  1.07383465]\n",
      " [ 0.06009021 -0.55506784]\n",
      " [ 0.28954436  1.61666842]\n",
      " [ 0.9845249   0.96061542]\n",
      " [-0.57179094  0.06681059]\n",
      " [ 1.46215295  3.60114839]\n",
      " [-0.3687169  -2.37106663]\n",
      " [-0.04704333  3.11214072]\n",
      " [-0.61990324 -0.64724758]\n",
      " [ 2.35890539  2.53613603]\n",
      " [-1.8359019  -3.5191922 ]\n",
      " [ 0.21286311 -2.33593438]\n",
      " [-0.40146687 -2.01904556]\n",
      " [ 1.64658408  3.51035857]\n",
      " [ 0.5890708   1.20355521]\n",
      " [-0.03893274  0.78911683]\n",
      " [-1.2560975  -0.78046027]\n",
      " [-0.04849276  0.99970414]\n",
      " [ 0.24177608  3.01910255]\n",
      " [ 0.49159145  0.71351968]\n",
      " [-0.23586313 -0.80870101]]\n",
      "------------------------------------------------\n",
      "------------------------------------------------\n",
      "[[ 0.20103204  0.90288015]\n",
      " [ 0.54214321  0.98702943]\n",
      " [ 2.0323848  -0.76371481]\n",
      " [-0.81558407  0.14281008]\n",
      " [-1.36928237 -0.54599606]\n",
      " [-0.89770071 -1.86199623]\n",
      " [-0.71583632  0.06754456]\n",
      " [-1.30227167  0.14981714]\n",
      " [ 0.36530764 -1.71191052]\n",
      " [-1.05567135  2.95766896]\n",
      " [-1.09174996  0.03267829]\n",
      " [ 0.01223015  0.30255828]\n",
      " [-0.67664389  0.28407845]\n",
      " [-2.04600541 -0.73150063]\n",
      " [ 1.14440809  1.12743124]\n",
      " [-1.99294698  0.35420268]\n",
      " [-2.39159511  0.44886276]\n",
      " [-0.75646102 -1.8853783 ]\n",
      " [ 0.28509201  0.23092385]\n",
      " [-2.14862999  1.56529591]\n",
      " [ 0.4960374  -1.21763708]\n",
      " [-0.9665236  -0.81437468]\n",
      " [ 2.25351255 -0.77648066]\n",
      " [-0.38768431  1.7031444 ]\n",
      " [ 0.76021274 -0.64160895]\n",
      " [ 0.40037256  0.43728364]\n",
      " [ 1.55785432  0.91132087]\n",
      " [ 1.72072176 -1.1189722 ]\n",
      " [ 1.02230238  1.61154745]\n",
      " [-0.9607621   0.80861461]\n",
      " [ 0.70230416  0.22871059]\n",
      " [-0.64102408  0.55916528]\n",
      " [-0.10739407  0.63979902]\n",
      " [-1.84317407 -2.45907804]\n",
      " [-0.30386629 -1.41639397]\n",
      " [ 0.66259621 -0.50468291]\n",
      " [-1.00389974  0.67965393]\n",
      " [-1.58125981 -0.11839288]\n",
      " [ 1.9760159  -0.67695833]\n",
      " [ 1.2854915  -2.62939501]\n",
      " [-0.90892532 -1.39833772]\n",
      " [-0.49394088  0.04201134]\n",
      " [-0.15292339 -1.43880115]\n",
      " [-1.02626447  1.01705283]\n",
      " [-3.10845964  1.11498082]\n",
      " [-1.80497242 -0.78493675]\n",
      " [ 0.96738582  2.90592704]\n",
      " [-0.58384726  0.71322433]\n",
      " [ 0.19032376  0.99858307]\n",
      " [-1.66600768  0.2603158 ]\n",
      " [-0.14996935 -0.09724311]\n",
      " [ 0.69884273 -1.31081485]\n",
      " [-1.55783383 -1.42105899]\n",
      " [ 0.26434687 -0.64748588]\n",
      " [ 0.07600596  1.41214077]\n",
      " [ 0.58669494  0.66396523]\n",
      " [-0.51725812  0.44151483]\n",
      " [ 0.33586768  0.02221198]\n",
      " [ 0.18411675  1.49756646]\n",
      " [ 0.42925208 -0.36398595]\n",
      " [-0.00846518 -0.34355636]\n",
      " [ 1.12622495 -0.60227555]\n",
      " [-1.11773367  0.31627316]\n",
      " [-0.03813601  0.32909475]\n",
      " [ 0.04123151 -0.82493326]\n",
      " [ 0.71325484 -0.24547163]\n",
      " [-0.08366292  0.08800962]\n",
      " [-0.20612766  0.32418124]\n",
      " [-0.45386737  0.48785657]\n",
      " [-0.45077648  1.36394723]\n",
      " [-1.78580576  0.35448336]\n",
      " [ 1.77519399 -1.19141392]\n",
      " [-1.70095183 -1.86221444]\n",
      " [-0.90458974  0.86942696]\n",
      " [-0.05637004  0.76008249]\n",
      " [-0.06088331 -0.69712227]\n",
      " [-0.33726872  0.56765343]\n",
      " [ 0.20623738  0.74810344]\n",
      " [ 0.32939852 -0.15614193]\n",
      " [ 0.30141209 -0.53640461]\n",
      " [-0.6953982   0.47518552]\n",
      " [ 0.38995516 -1.0054512 ]\n",
      " [ 0.07112288 -0.16616381]\n",
      " [-1.29616334  0.39895087]\n",
      " [-1.12662948  0.31455195]\n",
      " [ 0.04723627 -0.36289965]\n",
      " [-0.49322648  0.14347729]\n",
      " [ 1.91282948  0.63780717]\n",
      " [-0.29886583 -0.87409343]\n",
      " [-0.00902046 -0.61179523]\n",
      " [-1.50048241  0.54755485]\n",
      " [-0.15236735  0.30571526]\n",
      " [ 0.81911415  1.4165621 ]\n",
      " [-0.66363773 -0.59259735]\n",
      " [-0.20927253  0.62628491]\n",
      " [-1.54342614 -0.94543018]\n",
      " [-0.63087776  1.86455788]\n",
      " [-1.48878712 -0.23501332]\n",
      " [-0.6222851  -0.18924518]\n",
      " [ 2.14470177 -0.13948923]]\n"
     ]
    },
    {
     "name": "stderr",
     "output_type": "stream",
     "text": [
      "C:\\ProgramData\\Anaconda3\\lib\\site-packages\\ipykernel_launcher.py:3: RuntimeWarning: covariance is not symmetric positive-semidefinite.\n",
      "  This is separate from the ipykernel package so we can avoid doing imports until\n"
     ]
    }
   ],
   "source": [
    "mean = [0, 0]\n",
    "cov = [[2, 4],[1,3]]\n",
    "x = np.random.multivariate_normal(mean, cov, 100)   # 生成一个二维正态分布的点组成的数组\n",
    "print(x.shape)\n",
    "print(x)\n",
    "print('------------------------------------------------')\n",
    "print('------------------------------------------------')\n",
    "y = np.random.randn(100, 2)\n",
    "print(y)"
   ]
  },
  {
   "cell_type": "code",
   "execution_count": 19,
   "metadata": {},
   "outputs": [
    {
     "data": {
      "image/png": "[encoded data removed]",
      "text/plain": [
       "<Figure size 432x288 with 1 Axes>"
      ]
     },
     "metadata": {},
     "output_type": "display_data"
    }
   ],
   "source": [
    "%matplotlib inline\n",
    "import matplotlib.pyplot as plt\n",
    "import seaborn; seaborn.set(style='darkgrid')\n",
    "plt.scatter(x[:,0], x[:, 1])\n",
    "plt.show()"
   ]
  },
  {
   "cell_type": "code",
   "execution_count": 30,
   "metadata": {},
   "outputs": [
    {
     "name": "stdout",
     "output_type": "stream",
     "text": [
      "(100, 2)\n",
      "100\n",
      "[[ 4  5 81 49 25]\n",
      " [83 31 76 43 79]\n",
      " [22 19  9 30 68]]\n",
      "[[[ 0.26696548 -0.36158272]\n",
      "  [-0.83801175 -1.51596848]\n",
      "  [ 0.28954436  1.61666842]\n",
      "  [ 0.57017126  2.55484738]\n",
      "  [ 0.77638264  0.93844238]]\n",
      "\n",
      " [[-0.57179094  0.06681059]\n",
      "  [ 4.63270469  7.48865238]\n",
      "  [-0.12674094  0.24134463]\n",
      "  [ 1.17206796  0.73869526]\n",
      "  [ 0.43493892  1.07383465]]\n",
      "\n",
      " [[ 0.65802528  1.53028616]\n",
      "  [-0.27419143 -1.3431523 ]\n",
      "  [-0.47699129 -2.03824097]\n",
      "  [-0.84862521 -2.80474625]\n",
      "  [-0.06914706 -0.76250391]]]\n"
     ]
    }
   ],
   "source": [
    "idx = np.random.choice(x.shape[0], size=(3,5), replace=False)\n",
    "print(x.shape)     # (100, 2)\n",
    "print(x.shape[0])   # 100\n",
    "print(idx)\n",
    "# choice函数：从给定的一维数组中随机新选择\n",
    "# 第一个参数为指定的选择范围，表示从0到该整数的范围内选择\n",
    "# 第二个参数为选择的数组形状, size=(m,n)表示选择m*n个，以m*n的矩阵形式显示\n",
    "# raplace=false时，选出的值不能重复\n",
    "print(x[idx])"
   ]
  },
  {
   "cell_type": "code",
   "execution_count": 37,
   "metadata": {},
   "outputs": [
    {
     "data": {
      "image/png": "[encoded data removed]",
      "text/plain": [
       "<Figure size 432x288 with 1 Axes>"
      ]
     },
     "metadata": {},
     "output_type": "display_data"
    }
   ],
   "source": [
    "idx = np.random.choice(x.shape[0], size=20, replace=False)\n",
    "selected = x[idx]\n",
    "plt.scatter(x[:, 0], x[:, 1], alpha=0.3)\n",
    "plt.scatter(selected[:, 0], selected[:, 1], facecolor='none', edgecolor='red', s=200)\n",
    "# plt.show()\n",
    "plt.savefig('../chart/分割数据并作图.jpg')"
   ]
  },
  {
   "cell_type": "code",
   "execution_count": 49,
   "metadata": {},
   "outputs": [
    {
     "data": {
      "image/png": "[encoded data removed]",
      "text/plain": [
       "<Figure size 576x432 with 1 Axes>"
      ]
     },
     "metadata": {},
     "output_type": "display_data"
    }
   ],
   "source": [
    "np.random.seed(42)\n",
    "x = np.random.randn(100)\n",
    "bins = np.linspace(-5, 5, 20)\n",
    "plt.figure(figsize=(8,6))\n",
    "plt.hist(x, bins, histtype='step',color='r')\n",
    "plt.show()\n"
   ]
  },
  {
   "cell_type": "code",
   "execution_count": 50,
   "metadata": {},
   "outputs": [
    {
     "name": "stdout",
     "output_type": "stream",
     "text": [
      "[ 0  0  0  0  1  3  7  9 23 22 17 10  7  1  0  0  0  0  0] [-5.         -4.47368421 -3.94736842 -3.42105263 -2.89473684 -2.36842105\n",
      " -1.84210526 -1.31578947 -0.78947368 -0.26315789  0.26315789  0.78947368\n",
      "  1.31578947  1.84210526  2.36842105  2.89473684  3.42105263  3.94736842\n",
      "  4.47368421  5.        ]\n"
     ]
    }
   ],
   "source": [
    "counts, edges = np.histogram(x, bins)\n",
    "print(counts, edges)"
   ]
  },
  {
   "cell_type": "code",
   "execution_count": 54,
   "metadata": {},
   "outputs": [
    {
     "name": "stdout",
     "output_type": "stream",
     "text": [
      "[   3    1    0  -10   99  125 -121  199    0]\n",
      "None\n",
      "[-121  -10    0    0    1    3   99  125  199]\n"
     ]
    }
   ],
   "source": [
    "# 排序:sort 不改变原数组\n",
    "x = np.array([3,1,0,-10,99,125,-121,199,0])\n",
    "# print(np.sort(x))\n",
    "print(x)\n",
    "# x.sort()会用排序好的数组替换原数组\n",
    "print(x.sort())\n",
    "print(x)"
   ]
  },
  {
   "cell_type": "code",
   "execution_count": 57,
   "metadata": {},
   "outputs": [
    {
     "name": "stdout",
     "output_type": "stream",
     "text": [
      "[[0.90826589 0.23956189]\n",
      " [0.14489487 0.48945276]\n",
      " [0.98565045 0.24205527]\n",
      " [0.67213555 0.76161962]\n",
      " [0.23763754 0.72821635]\n",
      " [0.36778313 0.63230583]\n",
      " [0.63352971 0.53577468]\n",
      " [0.09028977 0.8353025 ]\n",
      " [0.32078006 0.18651851]\n",
      " [0.04077514 0.59089294]]\n"
     ]
    },
    {
     "data": {
      "text/plain": [
       "<matplotlib.collections.PathCollection at 0x220f86870f0>"
      ]
     },
     "execution_count": 57,
     "metadata": {},
     "output_type": "execute_result"
    },
    {
     "data": {
      "image/png": "[encoded data removed]",
      "text/plain": [
       "<Figure size 432x288 with 1 Axes>"
      ]
     },
     "metadata": {},
     "output_type": "display_data"
    }
   ],
   "source": [
    "x = np.random.rand(10, 2)\n",
    "# print(x)\n",
    "plt.scatter(x[:,0], x[:, 1], s=100)"
   ]
  },
  {
   "cell_type": "code",
   "execution_count": 58,
   "metadata": {},
   "outputs": [
    {
     "name": "stdout",
     "output_type": "stream",
     "text": [
      "[[[0.90826589 0.23956189]\n",
      "  [0.14489487 0.48945276]\n",
      "  [0.98565045 0.24205527]\n",
      "  [0.67213555 0.76161962]\n",
      "  [0.23763754 0.72821635]\n",
      "  [0.36778313 0.63230583]\n",
      "  [0.63352971 0.53577468]\n",
      "  [0.09028977 0.8353025 ]\n",
      "  [0.32078006 0.18651851]\n",
      "  [0.04077514 0.59089294]]]\n",
      "[[[0.90826589 0.23956189]]\n",
      "\n",
      " [[0.14489487 0.48945276]]\n",
      "\n",
      " [[0.98565045 0.24205527]]\n",
      "\n",
      " [[0.67213555 0.76161962]]\n",
      "\n",
      " [[0.23763754 0.72821635]]\n",
      "\n",
      " [[0.36778313 0.63230583]]\n",
      "\n",
      " [[0.63352971 0.53577468]]\n",
      "\n",
      " [[0.09028977 0.8353025 ]]\n",
      "\n",
      " [[0.32078006 0.18651851]]\n",
      "\n",
      " [[0.04077514 0.59089294]]]\n"
     ]
    }
   ],
   "source": [
    "print(x[np.newaxis,:,:])\n",
    "print(x[:,np.newaxis,:])\n",
    "# dist_sqr = np.sum()"
   ]
  },
  {
   "cell_type": "code",
   "execution_count": 65,
   "metadata": {},
   "outputs": [
    {
     "name": "stdout",
     "output_type": "stream",
     "text": [
      "[[ 1  2]\n",
      " [ 3  4]\n",
      " [ 5  6]\n",
      " [ 7  8]\n",
      " [ 9 10]] (5, 2)\n",
      "--------------------------------------------\n",
      "--------------------------------------------\n",
      "[[[ 1  2]\n",
      "  [ 3  4]\n",
      "  [ 5  6]\n",
      "  [ 7  8]\n",
      "  [ 9 10]]] (1, 5, 2)\n",
      "--------------------------------------------\n",
      "--------------------------------------------\n",
      "[[[ 1  2]]\n",
      "\n",
      " [[ 3  4]]\n",
      "\n",
      " [[ 5  6]]\n",
      "\n",
      " [[ 7  8]]\n",
      "\n",
      " [[ 9 10]]] (5, 1, 2)\n",
      "--------------------------------------------\n",
      "--------------------------------------------\n",
      "[[[ 1]\n",
      "  [ 2]]\n",
      "\n",
      " [[ 3]\n",
      "  [ 4]]\n",
      "\n",
      " [[ 5]\n",
      "  [ 6]]\n",
      "\n",
      " [[ 7]\n",
      "  [ 8]]\n",
      "\n",
      " [[ 9]\n",
      "  [10]]] (5, 2, 1)\n",
      "--------------------------------------------\n",
      "--------------------------------------------\n",
      "[[[ 0  0]\n",
      "  [ 2  2]\n",
      "  [ 4  4]\n",
      "  [ 6  6]\n",
      "  [ 8  8]]\n",
      "\n",
      " [[-2 -2]\n",
      "  [ 0  0]\n",
      "  [ 2  2]\n",
      "  [ 4  4]\n",
      "  [ 6  6]]\n",
      "\n",
      " [[-4 -4]\n",
      "  [-2 -2]\n",
      "  [ 0  0]\n",
      "  [ 2  2]\n",
      "  [ 4  4]]\n",
      "\n",
      " [[-6 -6]\n",
      "  [-4 -4]\n",
      "  [-2 -2]\n",
      "  [ 0  0]\n",
      "  [ 2  2]]\n",
      "\n",
      " [[-8 -8]\n",
      "  [-6 -6]\n",
      "  [-4 -4]\n",
      "  [-2 -2]\n",
      "  [ 0  0]]] (5, 5, 2)\n",
      "--------------------------------------------\n",
      "--------------------------------------------\n",
      "[[[ 0  1]\n",
      "  [-1  0]]\n",
      "\n",
      " [[ 0  1]\n",
      "  [-1  0]]\n",
      "\n",
      " [[ 0  1]\n",
      "  [-1  0]]\n",
      "\n",
      " [[ 0  1]\n",
      "  [-1  0]]\n",
      "\n",
      " [[ 0  1]\n",
      "  [-1  0]]] (5, 2, 2)\n"
     ]
    }
   ],
   "source": [
    "a = np.array([[1,2], [3,4], [5,6], [7,8], [9,10]])\n",
    "b1 = a[np.newaxis, :, :]\n",
    "b2 = a[:, np.newaxis, :]\n",
    "b3 = a[:, :, np.newaxis]\n",
    "print(a, a.shape)\n",
    "print('--------------------------------------------')\n",
    "print('--------------------------------------------')\n",
    "print(b1, b1.shape)\n",
    "print('--------------------------------------------')\n",
    "print('--------------------------------------------')\n",
    "print(b2, b2.shape)\n",
    "print('--------------------------------------------')\n",
    "print('--------------------------------------------')\n",
    "print(b3, b3.shape)\n",
    "print('--------------------------------------------')\n",
    "print('--------------------------------------------')\n",
    "print(b1-b2, (b1-b2).shape)\n",
    "print('--------------------------------------------')\n",
    "print('--------------------------------------------')\n",
    "print(b2-b3, (b2-b3).shape)"
   ]
  },
  {
   "cell_type": "code",
   "execution_count": 69,
   "metadata": {},
   "outputs": [
    {
     "name": "stdout",
     "output_type": "stream",
     "text": [
      "(10, 10)\n",
      "[[0.         0.64518075 0.00599459 0.3283018  0.68852555 0.44636941\n",
      "  0.16322198 1.02399179 0.34795319 0.8759737 ]\n",
      " [0.64518075 0.         0.76807547 0.35205753 0.06560925 0.07008618\n",
      "  0.24090973 0.12259376 0.12270476 0.02113103]\n",
      " [0.00599459 0.76807547 0.         0.3682387  0.79587591 0.53405553\n",
      "  0.21026011 1.15361302 0.44513697 1.01447708]\n",
      " [0.3283018  0.35205753 0.3682387  0.         0.18990429 0.10935245\n",
      "  0.05249634 0.34397368 0.45419196 0.42776356]\n",
      " [0.68852555 0.06560925 0.79587591 0.18990429 0.         0.0261367\n",
      "  0.1937644  0.03317881 0.30034923 0.05761252]\n",
      " [0.44636941 0.07008618 0.53405553 0.10935245 0.0261367  0.\n",
      "  0.07993951 0.11821021 0.20093562 0.10864925]\n",
      " [0.16322198 0.24090973 0.21026011 0.05249634 0.1937644  0.07993951\n",
      "  0.         0.38482654 0.21979222 0.354396  ]\n",
      " [1.02399179 0.12259376 1.15361302 0.34397368 0.03317881 0.11821021\n",
      "  0.38482654 0.         0.47404644 0.06218773]\n",
      " [0.34795319 0.12270476 0.44513697 0.45419196 0.30034923 0.20093562\n",
      "  0.21979222 0.47404644 0.         0.24192144]\n",
      " [0.8759737  0.02113103 1.01447708 0.42776356 0.05761252 0.10864925\n",
      "  0.354396   0.06218773 0.24192144 0.        ]]\n"
     ]
    }
   ],
   "source": [
    "dist_sqr = np.sum((x[:, np.newaxis, :] - x[np.newaxis, :, :])**2, axis=2)\n",
    "print(dist_sqr.shape)\n",
    "print(dist_sqr)"
   ]
  },
  {
   "cell_type": "code",
   "execution_count": 70,
   "metadata": {},
   "outputs": [
    {
     "name": "stdout",
     "output_type": "stream",
     "text": [
      "[[0 2 6 3 8 5 1 4 9 7]\n",
      " [1 9 4 5 7 8 6 3 0 2]\n",
      " [2 0 6 3 8 5 1 4 9 7]\n",
      " [3 6 5 4 0 7 1 2 9 8]\n",
      " [4 5 7 9 1 3 6 8 0 2]\n",
      " [5 4 1 6 9 3 7 8 0 2]\n",
      " [6 3 5 0 4 2 8 1 9 7]\n",
      " [7 4 9 5 1 3 6 8 0 2]\n",
      " [8 1 5 6 9 4 0 2 3 7]\n",
      " [9 1 4 7 5 8 6 3 0 2]]\n"
     ]
    }
   ],
   "source": [
    "sorted = np.argsort(dist_sqr, axis=1)\n",
    "print(sorted)"
   ]
  },
  {
   "cell_type": "code",
   "execution_count": 77,
   "metadata": {},
   "outputs": [
    {
     "name": "stdout",
     "output_type": "stream",
     "text": [
      "[('张三', 15,  59.9) ('李四', 21,  76. ) ('王五', 67, 100. ) ('赵六', 10,  88.4)]\n"
     ]
    }
   ],
   "source": [
    "# 符合数据的结构化数组\n",
    "name = ['张三', '李四', '王五', '赵六']\n",
    "age = [15, 21, 67, 10]\n",
    "weight = [59.9, 76., 100., 88.4]\n",
    "data = np.zeros(4, dtype={'names':('name', 'age', 'weight'), 'formats':('U10', 'i8', 'f8')})\n",
    "data['name'] = name\n",
    "data['age'] = age\n",
    "data['weight'] = weight\n",
    "print(data)"
   ]
  },
  {
   "cell_type": "code",
   "execution_count": 78,
   "metadata": {},
   "outputs": [
    {
     "name": "stdout",
     "output_type": "stream",
     "text": [
      "['张三' '李四' '王五' '赵六']\n"
     ]
    }
   ],
   "source": [
    "print(data['name'])"
   ]
  },
  {
   "cell_type": "code",
   "execution_count": 79,
   "metadata": {},
   "outputs": [
    {
     "name": "stdout",
     "output_type": "stream",
     "text": [
      "('张三', 15, 59.9)\n"
     ]
    }
   ],
   "source": [
    "print(data[0])"
   ]
  },
  {
   "cell_type": "code",
   "execution_count": 82,
   "metadata": {},
   "outputs": [
    {
     "name": "stdout",
     "output_type": "stream",
     "text": [
      "[('王五', 67, 100.)]\n"
     ]
    }
   ],
   "source": [
    "print(data[-2:-1])"
   ]
  },
  {
   "cell_type": "code",
   "execution_count": 85,
   "metadata": {},
   "outputs": [
    {
     "name": "stdout",
     "output_type": "stream",
     "text": [
      "(4,)\n"
     ]
    }
   ],
   "source": [
    "print(data.shape)"
   ]
  },
  {
   "cell_type": "code",
   "execution_count": 86,
   "metadata": {},
   "outputs": [
    {
     "name": "stdout",
     "output_type": "stream",
     "text": [
      "张三\n"
     ]
    }
   ],
   "source": [
    "print(data[0]['name'])"
   ]
  },
  {
   "cell_type": "code",
   "execution_count": 87,
   "metadata": {},
   "outputs": [
    {
     "name": "stdout",
     "output_type": "stream",
     "text": [
      "['王五']\n"
     ]
    }
   ],
   "source": [
    "print(data[data['age']>50]['name'])"
   ]
  },
  {
   "cell_type": "code",
   "execution_count": null,
   "metadata": {},
   "outputs": [],
   "source": []
  },
  {
   "cell_type": "code",
   "execution_count": null,
   "metadata": {},
   "outputs": [],
   "source": []
  },
  {
   "cell_type": "code",
   "execution_count": null,
   "metadata": {},
   "outputs": [],
   "source": []
  },
  {
   "cell_type": "code",
   "execution_count": null,
   "metadata": {},
   "outputs": [],
   "source": []
  },
  {
   "cell_type": "code",
   "execution_count": null,
   "metadata": {},
   "outputs": [],
   "source": []
  },
  {
   "cell_type": "code",
   "execution_count": null,
   "metadata": {},
   "outputs": [],
   "source": []
  },
  {
   "cell_type": "code",
   "execution_count": null,
   "metadata": {},
   "outputs": [],
   "source": []
  },
  {
   "cell_type": "code",
   "execution_count": null,
   "metadata": {},
   "outputs": [],
   "source": []
  },
  {
   "cell_type": "code",
   "execution_count": null,
   "metadata": {},
   "outputs": [],
   "source": []
  },
  {
   "cell_type": "code",
   "execution_count": null,
   "metadata": {},
   "outputs": [],
   "source": []
  },
  {
   "cell_type": "code",
   "execution_count": null,
   "metadata": {},
   "outputs": [],
   "source": []
  },
  {
   "cell_type": "code",
   "execution_count": null,
   "metadata": {},
   "outputs": [],
   "source": []
  }
 ],
 "metadata": {
  "kernelspec": {
   "display_name": "Python 3",
   "language": "python",
   "name": "python3"
  },
  "language_info": {
   "codemirror_mode": {
    "name": "ipython",
    "version": 3
   },
   "file_extension": ".py",
   "mimetype": "text/x-python",
   "name": "python",
   "nbconvert_exporter": "python",
   "pygments_lexer": "ipython3",
   "version": "3.6.5"
  }
 },
 "nbformat": 4,
 "nbformat_minor": 2
}
