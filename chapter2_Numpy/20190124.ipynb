{
 "cells": [
  {
   "cell_type": "code",
   "execution_count": 1,
   "metadata": {},
   "outputs": [
    {
     "name": "stdout",
     "output_type": "stream",
     "text": [
      "1.15.4\n"
     ]
    }
   ],
   "source": [
    "import numpy as np\n",
    "print(np.__version__)"
   ]
  },
  {
   "cell_type": "code",
   "execution_count": 2,
   "metadata": {},
   "outputs": [],
   "source": [
    "np?"
   ]
  },
  {
   "cell_type": "code",
   "execution_count": 5,
   "metadata": {},
   "outputs": [
    {
     "name": "stdout",
     "output_type": "stream",
     "text": [
      "[[1. 2. 3.]\n",
      " [2. 3. 4.]\n",
      " [3. 4. 5.]]\n"
     ]
    }
   ],
   "source": [
    "arr = np.array([range(i, i+3) for i in range(1, 4)], dtype='float32')\n",
    "print(arr)"
   ]
  },
  {
   "cell_type": "code",
   "execution_count": 6,
   "metadata": {},
   "outputs": [
    {
     "name": "stdout",
     "output_type": "stream",
     "text": [
      "[[1 1 1 1 1 1]\n",
      " [1 1 1 1 1 1]\n",
      " [1 1 1 1 1 1]]\n",
      "[0. 0. 0. 0. 0. 0. 0. 0. 0. 0.]\n",
      "[[3.1415 3.1415 3.1415 3.1415 3.1415]\n",
      " [3.1415 3.1415 3.1415 3.1415 3.1415]\n",
      " [3.1415 3.1415 3.1415 3.1415 3.1415]\n",
      " [3.1415 3.1415 3.1415 3.1415 3.1415]]\n"
     ]
    }
   ],
   "source": [
    "l1 = np.zeros(10, dtype=float)\n",
    "l2 = np.ones((3,6), dtype=int)\n",
    "l3 = np.full((4,5), 3.1415)\n",
    "print(l2)\n",
    "print(l1)\n",
    "print(l3)"
   ]
  },
  {
   "cell_type": "code",
   "execution_count": 7,
   "metadata": {},
   "outputs": [
    {
     "name": "stdout",
     "output_type": "stream",
     "text": [
      "[[ 0  5 10 15 20]\n",
      " [25 30 35 40 45]]\n"
     ]
    }
   ],
   "source": [
    "l4 = np.arange(0, 50, 5).reshape(2,5)\n",
    "print(l4)"
   ]
  },
  {
   "cell_type": "code",
   "execution_count": 8,
   "metadata": {},
   "outputs": [
    {
     "name": "stdout",
     "output_type": "stream",
     "text": [
      "[0.         0.02020202 0.04040404 0.06060606 0.08080808 0.1010101\n",
      " 0.12121212 0.14141414 0.16161616 0.18181818 0.2020202  0.22222222\n",
      " 0.24242424 0.26262626 0.28282828 0.3030303  0.32323232 0.34343434\n",
      " 0.36363636 0.38383838 0.4040404  0.42424242 0.44444444 0.46464646\n",
      " 0.48484848 0.50505051 0.52525253 0.54545455 0.56565657 0.58585859\n",
      " 0.60606061 0.62626263 0.64646465 0.66666667 0.68686869 0.70707071\n",
      " 0.72727273 0.74747475 0.76767677 0.78787879 0.80808081 0.82828283\n",
      " 0.84848485 0.86868687 0.88888889 0.90909091 0.92929293 0.94949495\n",
      " 0.96969697 0.98989899 1.01010101 1.03030303 1.05050505 1.07070707\n",
      " 1.09090909 1.11111111 1.13131313 1.15151515 1.17171717 1.19191919\n",
      " 1.21212121 1.23232323 1.25252525 1.27272727 1.29292929 1.31313131\n",
      " 1.33333333 1.35353535 1.37373737 1.39393939 1.41414141 1.43434343\n",
      " 1.45454545 1.47474747 1.49494949 1.51515152 1.53535354 1.55555556\n",
      " 1.57575758 1.5959596  1.61616162 1.63636364 1.65656566 1.67676768\n",
      " 1.6969697  1.71717172 1.73737374 1.75757576 1.77777778 1.7979798\n",
      " 1.81818182 1.83838384 1.85858586 1.87878788 1.8989899  1.91919192\n",
      " 1.93939394 1.95959596 1.97979798 2.        ]\n"
     ]
    }
   ],
   "source": [
    "l5 = np.linspace(0,2,100)\n",
    "print(l5)"
   ]
  },
  {
   "cell_type": "code",
   "execution_count": 9,
   "metadata": {},
   "outputs": [
    {
     "name": "stdout",
     "output_type": "stream",
     "text": [
      "[[0.35664907 0.31423066 0.76137159]\n",
      " [0.18241518 0.66426089 0.46086438]\n",
      " [0.72871121 0.98759137 0.71526199]]\n"
     ]
    }
   ],
   "source": [
    "l6 = np.random.random((3,3))\n",
    "print(l6)"
   ]
  },
  {
   "cell_type": "code",
   "execution_count": 12,
   "metadata": {},
   "outputs": [
    {
     "name": "stdout",
     "output_type": "stream",
     "text": [
      "[[2.37143893 4.37361127 3.7691072 ]\n",
      " [2.16718796 3.67498762 1.15764008]\n",
      " [2.71859549 2.0610199  2.41078873]]\n"
     ]
    }
   ],
   "source": [
    "# 正态分布数组：均值为1，标准差为2，形状为3*3\n",
    "l7 = np.random.normal(1,2,(3,3))\n",
    "print(l7)"
   ]
  },
  {
   "cell_type": "code",
   "execution_count": 13,
   "metadata": {},
   "outputs": [
    {
     "name": "stdout",
     "output_type": "stream",
     "text": [
      "[[0 2 5 5]\n",
      " [3 3 2 8]\n",
      " [1 5 5 0]]\n"
     ]
    }
   ],
   "source": [
    "# 整型数组：元素为0-10之间的随机整数，形状3*4\n",
    "l8 = np.random.randint(0, 10, (3,4))\n",
    "print(l8)"
   ]
  },
  {
   "cell_type": "code",
   "execution_count": 16,
   "metadata": {},
   "outputs": [
    {
     "name": "stdout",
     "output_type": "stream",
     "text": [
      "[[1. 0. 0. 0. 0. 0.]\n",
      " [0. 1. 0. 0. 0. 0.]\n",
      " [0. 0. 1. 0. 0. 0.]\n",
      " [0. 0. 0. 1. 0. 0.]\n",
      " [0. 0. 0. 0. 1. 0.]\n",
      " [0. 0. 0. 0. 0. 1.]]\n"
     ]
    }
   ],
   "source": [
    "# 单位矩阵:只能是n*n\n",
    "l9 = np.eye(6)\n",
    "print(l9)"
   ]
  },
  {
   "cell_type": "code",
   "execution_count": 19,
   "metadata": {},
   "outputs": [
    {
     "name": "stdout",
     "output_type": "stream",
     "text": [
      "[[1065353216 1073741824 1077936128]\n",
      " [1073741824 1077936128 1082130432]\n",
      " [1077936128 1082130432 1084227584]]\n",
      "[6.95240355e-310 6.95240355e-310 0.00000000e+000]\n"
     ]
    }
   ],
   "source": [
    "l10 = np.empty((3,3), dtype=int)\n",
    "print(l10)\n",
    "l11 = np.empty(3, dtype=float)\n",
    "print(l11)"
   ]
  },
  {
   "cell_type": "code",
   "execution_count": 20,
   "metadata": {},
   "outputs": [
    {
     "name": "stdout",
     "output_type": "stream",
     "text": [
      "[5 0 3 3 7 9] 1 (6,) 6\n",
      "[[3 5 2 4]\n",
      " [7 6 8 8]\n",
      " [1 6 7 7]] 2 (3, 4) 12\n",
      "[[[8 1 5 9 8]\n",
      "  [9 4 3 0 3]\n",
      "  [5 0 2 3 8]\n",
      "  [1 3 3 3 7]]\n",
      "\n",
      " [[0 1 9 9 0]\n",
      "  [4 7 3 2 7]\n",
      "  [2 0 0 4 5]\n",
      "  [5 6 8 4 1]]\n",
      "\n",
      " [[4 9 8 1 1]\n",
      "  [7 9 9 3 6]\n",
      "  [7 2 0 3 5]\n",
      "  [9 4 4 6 4]]] 3 (3, 4, 5) 60\n"
     ]
    }
   ],
   "source": [
    "np.random.seed(0)\n",
    "x1 = np.random.randint(10, size=6)\n",
    "x2 = np.random.randint(10, size=(3,4))\n",
    "x3 = np.random.randint(10, size=(3,4,5))\n",
    "print(x1, x1.ndim, x1.shape, x1.size)\n",
    "print(x2, x2.ndim, x2.shape, x2.size)\n",
    "print(x3, x3.ndim, x3.shape, x3.size)"
   ]
  },
  {
   "cell_type": "code",
   "execution_count": 21,
   "metadata": {},
   "outputs": [
    {
     "name": "stdout",
     "output_type": "stream",
     "text": [
      "4\n",
      "240\n"
     ]
    }
   ],
   "source": [
    "print(x2.itemsize)\n",
    "print(x3.nbytes)"
   ]
  },
  {
   "cell_type": "code",
   "execution_count": 22,
   "metadata": {},
   "outputs": [
    {
     "name": "stdout",
     "output_type": "stream",
     "text": [
      "<built-in method item of numpy.ndarray object at 0x000001A5C0F76EE0>\n"
     ]
    }
   ],
   "source": [
    "print(x3.item)"
   ]
  },
  {
   "cell_type": "code",
   "execution_count": 23,
   "metadata": {},
   "outputs": [
    {
     "name": "stdout",
     "output_type": "stream",
     "text": [
      "5\n"
     ]
    }
   ],
   "source": [
    "print(x2[0,1])"
   ]
  },
  {
   "cell_type": "code",
   "execution_count": 24,
   "metadata": {},
   "outputs": [
    {
     "name": "stdout",
     "output_type": "stream",
     "text": [
      "[9 4 3 0 3]\n"
     ]
    }
   ],
   "source": [
    "print(x3[0,1,:])"
   ]
  },
  {
   "cell_type": "code",
   "execution_count": 25,
   "metadata": {},
   "outputs": [
    {
     "data": {
      "text/plain": [
       "'np.random.seed(0)\\nx1 = np.random.randint(10, size=6)\\nx2 = np.random.randint(10, size=(3,4))\\nx3 = np.random.randint(10, size=(3,4,5))\\nprint(x1, x1.ndim, x1.shape, x1.size)\\nprint(x2, x2.ndim, x2.shape, x2.size)\\nprint(x3, x3.ndim, x3.shape, x3.size)'"
      ]
     },
     "execution_count": 25,
     "metadata": {},
     "output_type": "execute_result"
    }
   ],
   "source": [
    "In[20]"
   ]
  },
  {
   "cell_type": "code",
   "execution_count": 26,
   "metadata": {},
   "outputs": [
    {
     "name": "stdout",
     "output_type": "stream",
     "text": [
      "np.random.seed(0)\n",
      "x1 = np.random.randint(10, size=6)\n",
      "x2 = np.random.randint(10, size=(3,4))\n",
      "x3 = np.random.randint(10, size=(3,4,5))\n",
      "print(x1, x1.ndim, x1.shape, x1.size)\n",
      "print(x2, x2.ndim, x2.shape, x2.size)\n",
      "print(x3, x3.ndim, x3.shape, x3.size)\n"
     ]
    }
   ],
   "source": [
    "print(In[20])"
   ]
  },
  {
   "cell_type": "code",
   "execution_count": 28,
   "metadata": {},
   "outputs": [
    {
     "name": "stdout",
     "output_type": "stream",
     "text": [
      "[5 0 3 3 7 9] 1 (6,) 6\n",
      "[[3 5 2 4]\n",
      " [7 6 8 8]\n",
      " [1 6 7 7]] 2 (3, 4) 12\n",
      "[[[8 1 5 9 8]\n",
      "  [9 4 3 0 3]\n",
      "  [5 0 2 3 8]\n",
      "  [1 3 3 3 7]]\n",
      "\n",
      " [[0 1 9 9 0]\n",
      "  [4 7 3 2 7]\n",
      "  [2 0 0 4 5]\n",
      "  [5 6 8 4 1]]\n",
      "\n",
      " [[4 9 8 1 1]\n",
      "  [7 9 9 3 6]\n",
      "  [7 2 0 3 5]\n",
      "  [9 4 4 6 4]]] 3 (3, 4, 5) 60\n"
     ]
    }
   ],
   "source": [
    "np.random.seed(0)\n",
    "x1 = np.random.randint(10, size=6)\n",
    "x2 = np.random.randint(10, size=(3,4))\n",
    "x3 = np.random.randint(10, size=(3,4,5))\n",
    "print(x1, x1.ndim, x1.shape, x1.size)\n",
    "print(x2, x2.ndim, x2.shape, x2.size)\n",
    "print(x3, x3.ndim, x3.shape, x3.size)"
   ]
  },
  {
   "cell_type": "code",
   "execution_count": 29,
   "metadata": {},
   "outputs": [
    {
     "name": "stdout",
     "output_type": "stream",
     "text": [
      "[[3 5 2]\n",
      " [7 6 8]]\n"
     ]
    }
   ],
   "source": [
    "print(x2[:2, :3])   # 切片获得一个2*3数组"
   ]
  },
  {
   "cell_type": "code",
   "execution_count": 30,
   "metadata": {},
   "outputs": [
    {
     "name": "stdout",
     "output_type": "stream",
     "text": [
      "[[3 2]\n",
      " [7 8]\n",
      " [1 7]]\n"
     ]
    }
   ],
   "source": [
    "print(x2[:, ::2])  # 切片所有行，每隔一列"
   ]
  },
  {
   "cell_type": "code",
   "execution_count": 32,
   "metadata": {},
   "outputs": [
    {
     "name": "stdout",
     "output_type": "stream",
     "text": [
      "[[[8 9]\n",
      "  [5 3]]\n",
      "\n",
      " [[0 9]\n",
      "  [2 4]]\n",
      "\n",
      " [[4 1]\n",
      "  [7 3]]]\n"
     ]
    }
   ],
   "source": [
    "print(x3[:, ::2, ::3])  # 切片所有第一维，第二维每隔1，第三维每隔1"
   ]
  },
  {
   "cell_type": "code",
   "execution_count": 34,
   "metadata": {},
   "outputs": [
    {
     "name": "stdout",
     "output_type": "stream",
     "text": [
      "[[[9 4 4 6 4]\n",
      "  [7 2 0 3 5]\n",
      "  [7 9 9 3 6]\n",
      "  [4 9 8 1 1]]\n",
      "\n",
      " [[5 6 8 4 1]\n",
      "  [2 0 0 4 5]\n",
      "  [4 7 3 2 7]\n",
      "  [0 1 9 9 0]]\n",
      "\n",
      " [[1 3 3 3 7]\n",
      "  [5 0 2 3 8]\n",
      "  [9 4 3 0 3]\n",
      "  [8 1 5 9 8]]]\n"
     ]
    }
   ],
   "source": [
    "print(x3[::-1, ::-1, :])  # 逆序输出"
   ]
  },
  {
   "cell_type": "code",
   "execution_count": 36,
   "metadata": {},
   "outputs": [
    {
     "name": "stdout",
     "output_type": "stream",
     "text": [
      "[7 6 8 8]\n"
     ]
    }
   ],
   "source": [
    "print(x2[1])"
   ]
  },
  {
   "cell_type": "code",
   "execution_count": 37,
   "metadata": {},
   "outputs": [
    {
     "name": "stdout",
     "output_type": "stream",
     "text": [
      "[[8 1 5 9 8]\n",
      " [9 4 3 0 3]\n",
      " [5 0 2 3 8]\n",
      " [1 3 3 3 7]]\n"
     ]
    }
   ],
   "source": [
    "print(x3[0])"
   ]
  },
  {
   "cell_type": "code",
   "execution_count": 41,
   "metadata": {},
   "outputs": [
    {
     "name": "stdout",
     "output_type": "stream",
     "text": [
      "[[1]\n",
      " [2]\n",
      " [3]]\n",
      "[[1 2 3]]\n",
      "[[1]\n",
      " [2]\n",
      " [3]]\n"
     ]
    }
   ],
   "source": [
    "x = np.array([1,2,3])\n",
    "print(x.reshape((3,1)))\n",
    "print(x[np.newaxis, :])\n",
    "print(x[:, np.newaxis])"
   ]
  },
  {
   "cell_type": "code",
   "execution_count": 44,
   "metadata": {},
   "outputs": [
    {
     "name": "stdout",
     "output_type": "stream",
     "text": [
      "[1 2 3 4 5 6 7 8 9]\n",
      "[1 2 3 4 5 6 7 8 9]\n"
     ]
    }
   ],
   "source": [
    "x = np.array([1,2,3])\n",
    "y = np.array([4,5,6])\n",
    "z = np.array([7,8,9])\n",
    "print(np.concatenate([x, y, z]))"
   ]
  },
  {
   "cell_type": "code",
   "execution_count": 46,
   "metadata": {},
   "outputs": [
    {
     "name": "stdout",
     "output_type": "stream",
     "text": [
      "[[1 2 3]\n",
      " [4 5 6]]\n",
      "[[ 1  2  3  2  4  6]\n",
      " [ 4  5  6  8 10 12]]\n"
     ]
    }
   ],
   "source": [
    "xx = np.array([1,2,3,4,5,6]).reshape((2,3))\n",
    "print(xx)\n",
    "print(np.concatenate([xx, xx*2], axis=1))"
   ]
  },
  {
   "cell_type": "code",
   "execution_count": 48,
   "metadata": {},
   "outputs": [
    {
     "name": "stdout",
     "output_type": "stream",
     "text": [
      "[[ 1  2  3]\n",
      " [ 4  5  6]\n",
      " [ 2  4  6]\n",
      " [ 8 10 12]]\n",
      "[[ 1  2  3  4  8 12]\n",
      " [ 4  5  6 16 20 24]]\n"
     ]
    }
   ],
   "source": [
    "# vstack相当于按axis=0拼接\n",
    "# hstack相当于按axis=1拼接\n",
    "\n",
    "print(np.vstack([xx, xx*2]))\n",
    "print(np.hstack([xx, xx*4]))"
   ]
  },
  {
   "cell_type": "code",
   "execution_count": 52,
   "metadata": {},
   "outputs": [
    {
     "name": "stdout",
     "output_type": "stream",
     "text": [
      "[[[ 0  1  2]\n",
      "  [ 3  4  5]]\n",
      "\n",
      " [[ 6  7  8]\n",
      "  [ 9 10 11]]\n",
      "\n",
      " [[12 13 14]\n",
      "  [15 16 17]]]\n",
      "[[[ 0  1  2  0  2  4  0  4  8]\n",
      "  [ 3  4  5  6  8 10 12 16 20]]\n",
      "\n",
      " [[ 6  7  8 12 14 16 24 28 32]\n",
      "  [ 9 10 11 18 20 22 36 40 44]]\n",
      "\n",
      " [[12 13 14 24 26 28 48 52 56]\n",
      "  [15 16 17 30 32 34 60 64 68]]]\n",
      "___________________________________________\n",
      "[[[ 0  1  2]\n",
      "  [ 3  4  5]]\n",
      "\n",
      " [[ 6  7  8]\n",
      "  [ 9 10 11]]\n",
      "\n",
      " [[12 13 14]\n",
      "  [15 16 17]]\n",
      "\n",
      " [[ 0  2  4]\n",
      "  [ 6  8 10]]\n",
      "\n",
      " [[12 14 16]\n",
      "  [18 20 22]]\n",
      "\n",
      " [[24 26 28]\n",
      "  [30 32 34]]\n",
      "\n",
      " [[ 0  4  8]\n",
      "  [12 16 20]]\n",
      "\n",
      " [[24 28 32]\n",
      "  [36 40 44]]\n",
      "\n",
      " [[48 52 56]\n",
      "  [60 64 68]]]\n",
      "___________________________________________\n",
      "[[[ 0  1  2]\n",
      "  [ 3  4  5]\n",
      "  [ 0  2  4]\n",
      "  [ 6  8 10]\n",
      "  [ 0  4  8]\n",
      "  [12 16 20]]\n",
      "\n",
      " [[ 6  7  8]\n",
      "  [ 9 10 11]\n",
      "  [12 14 16]\n",
      "  [18 20 22]\n",
      "  [24 28 32]\n",
      "  [36 40 44]]\n",
      "\n",
      " [[12 13 14]\n",
      "  [15 16 17]\n",
      "  [24 26 28]\n",
      "  [30 32 34]\n",
      "  [48 52 56]\n",
      "  [60 64 68]]]\n"
     ]
    }
   ],
   "source": [
    "# dstack按照第三个维度拼接数组，相当于axis=2\n",
    "yy = np.array([i for i in range(18)]).reshape((3,2,3))\n",
    "print(yy)\n",
    "print(np.dstack([yy, yy*2, yy*4]))\n",
    "print('___________________________________________')\n",
    "print(np.vstack([yy, yy*2, yy*4]))\n",
    "print('___________________________________________')\n",
    "print(np.hstack([yy, yy*2, yy*4]))"
   ]
  },
  {
   "cell_type": "code",
   "execution_count": 54,
   "metadata": {},
   "outputs": [
    {
     "name": "stdout",
     "output_type": "stream",
     "text": [
      "[1 2] [ 3 11 22 33] [44 55  6]\n"
     ]
    }
   ],
   "source": [
    "t = np.array([1,2,3,11,22,33,44,55,6])\n",
    "x1, x2, x3 = np.split(t, [2, 6])\n",
    "print(x1,x2,x3)"
   ]
  },
  {
   "cell_type": "code",
   "execution_count": 55,
   "metadata": {},
   "outputs": [
    {
     "name": "stdout",
     "output_type": "stream",
     "text": [
      "[[  0   1   4   9]\n",
      " [ 16  25  36  49]\n",
      " [ 64  81 100 121]\n",
      " [144 169 196 225]]\n",
      "[[ 0  1  4  9]\n",
      " [16 25 36 49]] [[ 64  81 100 121]\n",
      " [144 169 196 225]]\n",
      "---------------------------------------\n",
      "[[  0   1]\n",
      " [ 16  25]\n",
      " [ 64  81]\n",
      " [144 169]] [[  4   9]\n",
      " [ 36  49]\n",
      " [100 121]\n",
      " [196 225]]\n"
     ]
    }
   ],
   "source": [
    "s = np.array([i**2 for i in range(16)]).reshape((4,4))\n",
    "print(s)\n",
    "vs1, vs2 = np.vsplit(s, [2])\n",
    "hs1, hs2 = np.hsplit(s, [2])\n",
    "print(vs1, vs2)\n",
    "print('---------------------------------------')\n",
    "print(hs1, hs2)"
   ]
  },
  {
   "cell_type": "code",
   "execution_count": 56,
   "metadata": {},
   "outputs": [
    {
     "name": "stdout",
     "output_type": "stream",
     "text": [
      "[0.         0.5        0.66666667 0.75       0.8       ]\n"
     ]
    }
   ],
   "source": [
    "np.random.seed(0)\n",
    "print(np.arange(5) / np.arange(1, 6))"
   ]
  },
  {
   "cell_type": "code",
   "execution_count": 57,
   "metadata": {},
   "outputs": [
    {
     "name": "stdout",
     "output_type": "stream",
     "text": [
      "[ 0.          0.83775804  1.67551608  2.51327412  3.35103216  4.1887902\n",
      "  5.02654825  5.86430629  6.70206433  7.53982237  8.37758041  9.21533845\n",
      " 10.05309649 10.89085453 11.72861257 12.56637061]\n",
      "[ 0.00000000e+00  7.43144825e-01  9.94521895e-01  5.87785252e-01\n",
      " -2.07911691e-01 -8.66025404e-01 -9.51056516e-01 -4.06736643e-01\n",
      "  4.06736643e-01  9.51056516e-01  8.66025404e-01  2.07911691e-01\n",
      " -5.87785252e-01 -9.94521895e-01 -7.43144825e-01 -4.89858720e-16]\n",
      "[ 1.          0.66913061 -0.10452846 -0.80901699 -0.9781476  -0.5\n",
      "  0.30901699  0.91354546  0.91354546  0.30901699 -0.5        -0.9781476\n",
      " -0.80901699 -0.10452846  0.66913061  1.        ]\n",
      "[ 1.          0.18538501 -0.16182106  0.12654137 -0.08477486  0.04247403\n",
      " -0.00527548 -0.02244443  0.03824185 -0.04188721  0.03521993 -0.02162535\n",
      "  0.00525715  0.00982652 -0.02043575  0.02478166]\n",
      "[ 0.00000000e+00  1.11061251e+00 -9.51436445e+00 -7.26542528e-01\n",
      "  2.12556562e-01  1.73205081e+00 -3.07768354e+00 -4.45228685e-01\n",
      "  4.45228685e-01  3.07768354e+00 -1.73205081e+00 -2.12556562e-01\n",
      "  7.26542528e-01  9.51436445e+00 -1.11061251e+00 -4.89858720e-16]\n"
     ]
    }
   ],
   "source": [
    "# 三角函数\n",
    "theta = np.linspace(0, 4*np.pi, 16)\n",
    "print(theta)\n",
    "print(np.sin(theta))\n",
    "print(np.cos(theta))\n",
    "print(np.sinc(theta))\n",
    "print(np.tan(theta))"
   ]
  },
  {
   "cell_type": "code",
   "execution_count": 58,
   "metadata": {},
   "outputs": [
    {
     "name": "stdout",
     "output_type": "stream",
     "text": [
      "[3.14159265 2.0943951  1.57079633 1.04719755 0.        ]\n",
      "[-0.78539816 -0.46364761  0.          0.46364761  0.78539816]\n"
     ]
    }
   ],
   "source": [
    "# 反三角函数\n",
    "x = np.array([-1,-0.5,0,0.5,1])\n",
    "print(np.arccos(x))\n",
    "print(np.arctan(x))"
   ]
  },
  {
   "cell_type": "code",
   "execution_count": 59,
   "metadata": {},
   "outputs": [
    {
     "name": "stdout",
     "output_type": "stream",
     "text": [
      "[-0.78539816 -0.46364761  0.          0.46364761  0.78539816]\n"
     ]
    }
   ],
   "source": [
    "xxx = np.empty(5)\n",
    "print(xxx)"
   ]
  },
  {
   "cell_type": "code",
   "execution_count": 60,
   "metadata": {},
   "outputs": [
    {
     "name": "stdout",
     "output_type": "stream",
     "text": [
      "[ 0. 10. 20. 30. 40.]\n"
     ]
    }
   ],
   "source": [
    "yyy = np.arange(5)\n",
    "np.multiply(yyy, 10, out=xxx)\n",
    "print(xxx)"
   ]
  },
  {
   "cell_type": "code",
   "execution_count": 64,
   "metadata": {},
   "outputs": [
    {
     "name": "stdout",
     "output_type": "stream",
     "text": [
      "[[1. 0. 1. 0. 1.]\n",
      " [0. 0. 0. 0. 0.]\n",
      " [1. 0. 1. 0. 1.]\n",
      " [0. 0. 0. 0. 0.]\n",
      " [1. 0. 1. 0. 1.]]\n"
     ]
    }
   ],
   "source": [
    "zz = np.zeros((5,5))\n",
    "zz[::2, ::2] = 1\n",
    "print(zz)"
   ]
  },
  {
   "cell_type": "code",
   "execution_count": 67,
   "metadata": {},
   "outputs": [
    {
     "name": "stdout",
     "output_type": "stream",
     "text": [
      "36\n",
      "40320\n",
      "[ 1  3  6 10 15 21 28 36]\n",
      "[    1     2     6    24   120   720  5040 40320]\n"
     ]
    }
   ],
   "source": [
    "x = np.arange(1,9)\n",
    "print(np.add.reduce(x))\n",
    "print(np.multiply.reduce(x))\n",
    "print(np.add.accumulate(x))\n",
    "print(np.multiply.accumulate(x))"
   ]
  },
  {
   "cell_type": "code",
   "execution_count": 69,
   "metadata": {},
   "outputs": [
    {
     "name": "stdout",
     "output_type": "stream",
     "text": [
      "[1 2 3 4 5]\n",
      "[ 7  8  9 10 11]\n",
      "[[ 8  9 10 11 12]\n",
      " [ 9 10 11 12 13]\n",
      " [10 11 12 13 14]\n",
      " [11 12 13 14 15]\n",
      " [12 13 14 15 16]]\n",
      "[[ 7  8  9 10 11]\n",
      " [14 16 18 20 22]\n",
      " [21 24 27 30 33]\n",
      " [28 32 36 40 44]\n",
      " [35 40 45 50 55]]\n"
     ]
    }
   ],
   "source": [
    "x = np.arange(1,6)\n",
    "y = np.arange(7,12)\n",
    "print(x)\n",
    "print(y)\n",
    "print(np.add.outer(x, y))\n",
    "print(np.multiply.outer(x,y))"
   ]
  },
  {
   "cell_type": "code",
   "execution_count": 73,
   "metadata": {},
   "outputs": [
    {
     "name": "stdout",
     "output_type": "stream",
     "text": [
      "[[0.9065555  0.77404733 0.33314515 0.08110139 0.40724117]\n",
      " [0.23223414 0.13248763 0.05342718 0.72559436 0.01142746]\n",
      " [0.77058075 0.14694665 0.07952208 0.08960303 0.67204781]\n",
      " [0.24536721 0.42053947 0.55736879 0.86055117 0.72704426]\n",
      " [0.27032791 0.1314828  0.05537432 0.30159863 0.26211815]]\n",
      "[2.4250655  1.60550388 1.07883753 2.0584486  2.07987885]\n",
      "[0.08110139 0.01142746 0.07952208 0.24536721 0.05537432]\n",
      "[0.9065555  0.77404733 0.55736879 0.86055117 0.72704426]\n"
     ]
    }
   ],
   "source": [
    "x = np.random.random(25).reshape((5,5))\n",
    "print(x)\n",
    "print(x.sum(axis=0))\n",
    "print(x.min(axis=1))\n",
    "print(np.max(x, axis=0))"
   ]
  },
  {
   "cell_type": "code",
   "execution_count": 81,
   "metadata": {},
   "outputs": [
    {
     "name": "stdout",
     "output_type": "stream",
     "text": [
      "[-12.   1.  39.  97. 211.]\n"
     ]
    }
   ],
   "source": [
    "x = np.array([1,3,100,97,0,-12,39,55,211])\n",
    "# print(np.median(x))\n",
    "print(np.percentile(x, [0,25,50,75,100]))\n",
    "# np.percentile?"
   ]
  },
  {
   "cell_type": "code",
   "execution_count": 88,
   "metadata": {},
   "outputs": [
    {
     "name": "stdout",
     "output_type": "stream",
     "text": [
      "                         name  height(cm)\n",
      "order                                    \n",
      "1           George Washington         189\n",
      "2                  John Adams         170\n",
      "3            Thomas Jefferson         189\n",
      "4               James Madison         163\n",
      "5                James Monroe         183\n",
      "6           John Quincy Adams         171\n",
      "7              Andrew Jackson         185\n",
      "8            Martin Van Buren         168\n",
      "9      William Henry Harrison         173\n",
      "10                 John Tyler         183\n",
      "11              James K. Polk         173\n",
      "12             Zachary Taylor         173\n",
      "13           Millard Fillmore         175\n",
      "14            Franklin Pierce         178\n",
      "15             James Buchanan         183\n",
      "16            Abraham Lincoln         193\n",
      "17             Andrew Johnson         178\n",
      "18           Ulysses S. Grant         173\n",
      "19        Rutherford B. Hayes         174\n",
      "20          James A. Garfield         183\n",
      "21          Chester A. Arthur         183\n",
      "23          Benjamin Harrison         168\n",
      "25           William McKinley         170\n",
      "26         Theodore Roosevelt         178\n",
      "27        William Howard Taft         182\n",
      "28             Woodrow Wilson         180\n",
      "29          Warren G. Harding         183\n",
      "30            Calvin Coolidge         178\n",
      "31             Herbert Hoover         182\n",
      "32      Franklin D. Roosevelt         188\n",
      "33            Harry S. Truman         175\n",
      "34       Dwight D. Eisenhower         179\n",
      "35            John F. Kennedy         183\n",
      "36          Lyndon B. Johnson         193\n",
      "37              Richard Nixon         182\n",
      "38                Gerald Ford         183\n",
      "39               Jimmy Carter         177\n",
      "40              Ronald Reagan         185\n",
      "41          George H. W. Bush         188\n",
      "42               Bill Clinton         188\n",
      "43             George W. Bush         182\n",
      "44               Barack Obama         185\n"
     ]
    }
   ],
   "source": [
    "import pandas as pd\n",
    "data = pd.read_csv('../data/president_heights.csv', index_col='order')\n",
    "# print(data)\n"
   ]
  },
  {
   "cell_type": "code",
   "execution_count": 92,
   "metadata": {},
   "outputs": [
    {
     "name": "stdout",
     "output_type": "stream",
     "text": [
      "mean of height 179.73809523809524\n",
      "max of height 193\n",
      "min of height 163\n",
      "std of height 6.931843442745892\n",
      "percentile of height [174.25 182.   183.  ]\n",
      "median of height 182.0\n"
     ]
    }
   ],
   "source": [
    "height = np.array(data['height(cm)'])\n",
    "# print(height)\n",
    "print('mean of height', height.mean())\n",
    "print('max of height', height.max())\n",
    "print('min of height', height.min())\n",
    "print('std of height', height.std())\n",
    "print('percentile of height', np.percentile(height, [25, 50, 75]))\n",
    "print('median of height', np.median(height))"
   ]
  },
  {
   "cell_type": "code",
   "execution_count": 94,
   "metadata": {},
   "outputs": [],
   "source": [
    "%matplotlib inline\n",
    "import matplotlib.pyplot as plt\n",
    "import seaborn\n",
    "seaborn.set()  # 设置绘图风格"
   ]
  },
  {
   "cell_type": "code",
   "execution_count": 96,
   "metadata": {},
   "outputs": [
    {
     "data": {
      "image/png": "[encoded data removed]",
      "text/plain": [
       "<Figure size 432x288 with 1 Axes>"
      ]
     },
     "metadata": {},
     "output_type": "display_data"
    }
   ],
   "source": [
    "plt.hist(height)\n",
    "plt.title('Height distribution OF US President')\n",
    "plt.xlabel('height(cm)')\n",
    "plt.ylabel('number')\n",
    "plt.show()"
   ]
  },
  {
   "cell_type": "code",
   "execution_count": 100,
   "metadata": {},
   "outputs": [
    {
     "name": "stdout",
     "output_type": "stream",
     "text": [
      "[1 2 3]\n",
      "[[1. 1. 1.]\n",
      " [1. 1. 1.]\n",
      " [1. 1. 1.]]\n",
      "------------------------------------------------------\n",
      "[[2. 3. 4.]\n",
      " [2. 3. 4.]\n",
      " [2. 3. 4.]]\n"
     ]
    }
   ],
   "source": [
    "# 数组的广播\n",
    "a = np.array([1,2,3])\n",
    "# print(5+a)\n",
    "b = np.ones((3,3))\n",
    "print(a)\n",
    "print(b)\n",
    "print('------------------------------------------------------')\n",
    "print(a+b)"
   ]
  },
  {
   "cell_type": "code",
   "execution_count": 104,
   "metadata": {},
   "outputs": [
    {
     "name": "stdout",
     "output_type": "stream",
     "text": [
      "[[0.25319119 0.13105523 0.01203622]\n",
      " [0.1154843  0.61848026 0.97425621]\n",
      " [0.990345   0.4090541  0.16295443]\n",
      " [0.63876176 0.49030535 0.98940978]\n",
      " [0.06530421 0.78323444 0.2883985 ]\n",
      " [0.24141862 0.66250457 0.24606318]\n",
      " [0.66585912 0.51730852 0.42408899]\n",
      " [0.55468781 0.28705152 0.70657471]\n",
      " [0.41485687 0.36054556 0.82865691]\n",
      " [0.92496691 0.04600731 0.23262699]]\n",
      "[0.48648758 0.43055469 0.48650659]\n",
      "[[-0.23329638 -0.29949945 -0.47447037]\n",
      " [-0.37100328  0.18792557  0.48774962]\n",
      " [ 0.50385742 -0.02150059 -0.32355217]\n",
      " [ 0.15227418  0.05975066  0.50290318]\n",
      " [-0.42118337  0.35267975 -0.1981081 ]\n",
      " [-0.24506896  0.23194989 -0.24044341]\n",
      " [ 0.17937154  0.08675383 -0.0624176 ]\n",
      " [ 0.06820023 -0.14350317  0.22006811]\n",
      " [-0.07163071 -0.07000912  0.34215032]\n",
      " [ 0.43847933 -0.38454737 -0.2538796 ]]\n"
     ]
    }
   ],
   "source": [
    "X = np.random.random((10, 3))\n",
    "print(X)\n",
    "Xmean = np.mean(X, axis=0)\n",
    "print(Xmean)\n",
    "print(X-Xmean)"
   ]
  },
  {
   "cell_type": "code",
   "execution_count": 105,
   "metadata": {},
   "outputs": [
    {
     "data": {
      "image/png": "[encoded data removed]",
      "text/plain": [
       "<Figure size 432x288 with 2 Axes>"
      ]
     },
     "metadata": {},
     "output_type": "display_data"
    }
   ],
   "source": [
    "x = np.linspace(0, 5 , 50)\n",
    "y = np.linspace(0, 5, 50)[:, np.newaxis]\n",
    "z = np.sin(x)**10 + np.cos(10+y*x)*np.cos(x)\n",
    "plt.imshow(z, origin='lower', extent=[0, 5, 0, 5], cmap='viridis')\n",
    "plt.colorbar()\n",
    "plt.show()"
   ]
  },
  {
   "cell_type": "code",
   "execution_count": 116,
   "metadata": {},
   "outputs": [
    {
     "name": "stdout",
     "output_type": "stream",
     "text": [
      "[  0  41  15   0   0   3 122  97  58  43 213  15   0   0   0   0   0   0\n",
      "   0   0   0   5   0   0   0   0   0  89 216   0  23  20   0   0   0   0\n",
      "   0   0  51   5 183 170  46  18  94 117 264 145 152  10  30  28  25  61\n",
      " 130   3   0   0   0   5 191 107 165 467  30   0 323  43 188   0   0   5\n",
      "  69  81 277   3   0   5   0   0   0   0   0  41  36   3 221 140   0   0\n",
      "   0   0  25   0  46   0   0  46   0   0   0   0   0   0   5 109 185   0\n",
      " 137   0  51 142  89 124   0  33  69   0   0   0   0   0 333 160  51   0\n",
      "   0 137  20   5   0   0   0   0   0   0   0   0   0   0   0   0  38   0\n",
      "  56   0   0   0   0   0   0   0   0   0   0   0   0   0   0   0   0   0\n",
      "  18  64   0   5  36  13   0   8   3   0   0   0   0   0   0  18  23   0\n",
      "   0   0   0   0   0   0   0   0   0   0   0   0   0   0   0   0   0   0\n",
      "   0   0   0   0   3 193   0   0   0   0   0   0   0   0   0   5   0   0\n",
      "   0   0   0   0   0   0   5 127 216   0  10   0   0   0   0   0   0   0\n",
      "   0   0   0   0   0   0   0  84  13   0  30   0   0   0   0   0   0   0\n",
      "   0   0   0   0   0   0   0   5   3   0   0   0   3 183 203  43  89   0\n",
      "   0   8   0   0   0   0   0   0   0   0   0   0   3  74   0  76  71  86\n",
      "   0  33 150   0 117  10 320  94  41  61  15   8 127   5 254 170   0  18\n",
      " 109  41  48  41   0   0  51   0   0   0   0   0   0   0   0   0   0  36\n",
      " 152   5 119  13 183   3  33 343  36   0   0   0   0   8  30  74   0  91\n",
      "  99 130  69   0   0   0   0   0  28 130  30 196   0   0 206  53   0   0\n",
      "  33  41   0   0   0]\n",
      "(365,)\n",
      "[0.16141732 0.05905512 0.01181102 0.48031496 0.38188976 0.22834646\n",
      " 0.16929134 0.83858268 0.05905512 0.01968504 0.3503937  0.8503937\n",
      " 0.09055118 0.07874016 0.2007874  0.01968504 0.72047244 0.66929134\n",
      " 0.18110236 0.07086614 0.37007874 0.46062992 1.03937008 0.57086614\n",
      " 0.5984252  0.03937008 0.11811024 0.11023622 0.0984252  0.24015748\n",
      " 0.51181102 0.01181102 0.01968504 0.7519685  0.42125984 0.6496063\n",
      " 1.83858268 0.11811024 1.27165354 0.16929134 0.74015748 0.01968504\n",
      " 0.27165354 0.31889764 1.09055118 0.01181102 0.01968504 0.16141732\n",
      " 0.14173228 0.01181102 0.87007874 0.5511811  0.0984252  0.18110236\n",
      " 0.18110236 0.01968504 0.42913386 0.72834646 0.53937008 0.2007874\n",
      " 0.55905512 0.3503937  0.48818898 0.12992126 0.27165354 1.31102362\n",
      " 0.62992126 0.2007874  0.53937008 0.07874016 0.01968504 0.1496063\n",
      " 0.22047244 0.07086614 0.2519685  0.01968504 0.14173228 0.0511811\n",
      " 0.03149606 0.01181102 0.07086614 0.09055118 0.01181102 0.75984252\n",
      " 0.01968504 0.01968504 0.5        0.8503937  0.03937008 0.33070866\n",
      " 0.0511811  0.11811024 0.01968504 0.01181102 0.01181102 0.72047244\n",
      " 0.7992126  0.16929134 0.3503937  0.03149606 0.01181102 0.29133858\n",
      " 0.2992126  0.27952756 0.33858268 0.12992126 0.59055118 0.46062992\n",
      " 0.03937008 1.25984252 0.37007874 0.16141732 0.24015748 0.05905512\n",
      " 0.03149606 0.5        0.01968504 1.         0.66929134 0.07086614\n",
      " 0.42913386 0.16141732 0.18897638 0.16141732 0.2007874  0.14173228\n",
      " 0.5984252  0.01968504 0.46850394 0.0511811  0.72047244 0.01181102\n",
      " 0.12992126 1.3503937  0.14173228 0.03149606 0.11811024 0.29133858\n",
      " 0.35826772 0.38976378 0.51181102 0.27165354 0.11023622 0.51181102\n",
      " 0.11811024 0.77165354 0.81102362 0.20866142 0.12992126 0.16141732]\n"
     ]
    }
   ],
   "source": [
    "# 布尔掩码\n",
    "rainData = pd.read_csv('../data/Seattle2014.csv')['PRCP'].values\n",
    "print(rainData)\n",
    "print(rainData.shape)  #  (365,)\n",
    "inches = rainData / 254\n",
    "inches1 = inches[inches > 0]\n",
    "print(inches1)"
   ]
  },
  {
   "cell_type": "code",
   "execution_count": 117,
   "metadata": {},
   "outputs": [
    {
     "data": {
      "image/png": "[encoded data removed]",
      "text/plain": [
       "<Figure size 432x288 with 1 Axes>"
      ]
     },
     "metadata": {},
     "output_type": "display_data"
    }
   ],
   "source": [
    "plt.hist(inches1, 40)\n",
    "plt.show()"
   ]
  },
  {
   "cell_type": "code",
   "execution_count": 119,
   "metadata": {},
   "outputs": [
    {
     "name": "stdout",
     "output_type": "stream",
     "text": [
      "29\n",
      "215\n",
      "150\n",
      "37\n"
     ]
    }
   ],
   "source": [
    "print(np.sum((inches>0.5) & (inches<1)))\n",
    "print(np.sum(inches==0))\n",
    "print(np.sum(inches!=0))\n",
    "print(np.sum(inches>0.5))"
   ]
  },
  {
   "cell_type": "code",
   "execution_count": null,
   "metadata": {},
   "outputs": [],
   "source": []
  },
  {
   "cell_type": "code",
   "execution_count": null,
   "metadata": {},
   "outputs": [],
   "source": []
  },
  {
   "cell_type": "code",
   "execution_count": null,
   "metadata": {},
   "outputs": [],
   "source": []
  },
  {
   "cell_type": "code",
   "execution_count": null,
   "metadata": {},
   "outputs": [],
   "source": []
  },
  {
   "cell_type": "code",
   "execution_count": null,
   "metadata": {},
   "outputs": [],
   "source": []
  },
  {
   "cell_type": "code",
   "execution_count": null,
   "metadata": {},
   "outputs": [],
   "source": []
  },
  {
   "cell_type": "code",
   "execution_count": null,
   "metadata": {},
   "outputs": [],
   "source": []
  },
  {
   "cell_type": "code",
   "execution_count": null,
   "metadata": {},
   "outputs": [],
   "source": []
  },
  {
   "cell_type": "code",
   "execution_count": null,
   "metadata": {},
   "outputs": [],
   "source": []
  },
  {
   "cell_type": "code",
   "execution_count": null,
   "metadata": {},
   "outputs": [],
   "source": []
  },
  {
   "cell_type": "code",
   "execution_count": null,
   "metadata": {},
   "outputs": [],
   "source": []
  },
  {
   "cell_type": "code",
   "execution_count": null,
   "metadata": {},
   "outputs": [],
   "source": []
  },
  {
   "cell_type": "code",
   "execution_count": null,
   "metadata": {},
   "outputs": [],
   "source": []
  },
  {
   "cell_type": "code",
   "execution_count": null,
   "metadata": {},
   "outputs": [],
   "source": []
  },
  {
   "cell_type": "code",
   "execution_count": null,
   "metadata": {},
   "outputs": [],
   "source": []
  },
  {
   "cell_type": "code",
   "execution_count": null,
   "metadata": {},
   "outputs": [],
   "source": []
  },
  {
   "cell_type": "code",
   "execution_count": null,
   "metadata": {},
   "outputs": [],
   "source": []
  },
  {
   "cell_type": "code",
   "execution_count": null,
   "metadata": {},
   "outputs": [],
   "source": []
  },
  {
   "cell_type": "code",
   "execution_count": null,
   "metadata": {},
   "outputs": [],
   "source": []
  },
  {
   "cell_type": "code",
   "execution_count": null,
   "metadata": {},
   "outputs": [],
   "source": []
  },
  {
   "cell_type": "code",
   "execution_count": null,
   "metadata": {},
   "outputs": [],
   "source": []
  },
  {
   "cell_type": "code",
   "execution_count": null,
   "metadata": {},
   "outputs": [],
   "source": []
  },
  {
   "cell_type": "code",
   "execution_count": null,
   "metadata": {},
   "outputs": [],
   "source": []
  },
  {
   "cell_type": "code",
   "execution_count": null,
   "metadata": {},
   "outputs": [],
   "source": []
  },
  {
   "cell_type": "code",
   "execution_count": null,
   "metadata": {},
   "outputs": [],
   "source": []
  },
  {
   "cell_type": "code",
   "execution_count": null,
   "metadata": {},
   "outputs": [],
   "source": []
  },
  {
   "cell_type": "code",
   "execution_count": null,
   "metadata": {},
   "outputs": [],
   "source": []
  },
  {
   "cell_type": "code",
   "execution_count": null,
   "metadata": {},
   "outputs": [],
   "source": []
  }
 ],
 "metadata": {
  "kernelspec": {
   "display_name": "Python 3",
   "language": "python",
   "name": "python3"
  },
  "language_info": {
   "codemirror_mode": {
    "name": "ipython",
    "version": 3
   },
   "file_extension": ".py",
   "mimetype": "text/x-python",
   "name": "python",
   "nbconvert_exporter": "python",
   "pygments_lexer": "ipython3",
   "version": "3.6.5"
  }
 },
 "nbformat": 4,
 "nbformat_minor": 2
}
